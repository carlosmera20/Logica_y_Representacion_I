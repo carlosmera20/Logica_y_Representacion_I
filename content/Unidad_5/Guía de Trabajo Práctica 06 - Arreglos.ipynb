{
 "cells": [
  {
   "cell_type": "markdown",
   "metadata": {},
   "source": [
    "<img src=\"https://raw.githubusercontent.com/carlosmera20/Logica_y_Representacion_I/main/content/local/imgs/encabezado.png\">\n",
    "\n",
    "<font size=4>\n",
    "📢 <b>Profesor:</b> Carlos Andres Mera Banguero - <a href=\"https://github.com/carlosmera20/\">https://github.com/carlosmera20/</a><br/>\n",
    "💻 <b>Programa:</b> Ingeniería de Sistemas <br/><br/>\n",
    "</font>"
   ]
  },
  {
   "cell_type": "markdown",
   "metadata": {
    "editable": true,
    "slideshow": {
     "slide_type": ""
    },
    "tags": []
   },
   "source": [
    "# <b>Arreglos Unidimensionales<b>\n",
    "\n",
    "Los arreglos unidimensionales, o vectores, son una estructura de datos estática que se utiliza para almacenar una colección de datos, todos del mismo tipo, dispuestos en una sola dimensión. En Python, una forma de manipular arreglos (unidimensionales, bidimensionales y n-dimensionales) es a través de una biblioteca de funciones llamada NumPy."
   ]
  },
  {
   "cell_type": "markdown",
   "metadata": {
    "editable": true,
    "slideshow": {
     "slide_type": ""
    },
    "tags": []
   },
   "source": [
    "## 🚀 <b>Objetivo</b>\n",
    "\n",
    "Esta guía introduce el manejo de arreglos unidimensionales usando la biblioteca de funciones de **`NumPy`**. Al finalizar esta guía, los estudiantes podrán:\n",
    "- Crear arreglos unidimencionales de diferentes tipos usando la  biblioteca NumPy.\n",
    "- Recorrer arreglos unidimensionales usando estructuras repetitivas.\n",
    "- Realizar operaciones con y sobre los elementos de un arreglo NumPy."
   ]
  },
  {
   "cell_type": "markdown",
   "metadata": {
    "editable": true,
    "slideshow": {
     "slide_type": ""
    },
    "tags": []
   },
   "source": [
    "## 🎯 <b>Introducción</b>\n",
    "\n",
    "**`NumPy`**, que proviene de **Num**erical **Py**thon, es quizá uno de los paquetes de funciones más utilizados en Python por su manejo eficiente de la memoria para la manipulación de arreglos. Esta caracteristica ha convertido a **`NumPy`** en uno de los paquetes predilectos para el desarrollo de aplicaciones en el área de computación cinetífica, que incluye las áreas de analítica de datos e inteligencia artificial.\n",
    "\n",
    "Como estructura de datos, a simple vista pareciera que los arreglos de **`NumPy`** y las listas nativas de Python cumplen la misma función, pero hay grandes diferencias:\n",
    "1. Las listas nativas de Python puede almacenar objetos de diferentes tipos de datos, mientras que **`NumPy`** sólo puede almacenar objetos del mismo tipo, esto le confiere a **`NumPy`** la posibilidad de tener un manejo más eficiente de la memoria.\n",
    "2. Las estructuras de datos de **`NumPy`** son estáticas y ocupan menos espacio en memoria que las listas, esto se debe a que NumPy almacenan los datos en bruto, sin ninguna medatada adicional.\n",
    "3. El acceso a memoria de los arreglos **`NumPy`** es significativamente más rápido. Esto es porque, además de ocupar celdas de memoria contiguas, **`NumPy`** está escrito en su mayor parte en C, siendo esto más eficiente que usar el interprete nativo de Python.\n",
    "4. **`NumPy`** tiene implementadas muchas funciones vetorizadas y optimizadas para la manipulación de arreglos, que comparadas con el uso de ciclos para recorrer listas, son tremendamente más eficientes."
   ]
  },
  {
   "cell_type": "markdown",
   "metadata": {
    "editable": true,
    "slideshow": {
     "slide_type": ""
    },
    "tags": []
   },
   "source": [
    "## 📓 <b>Definición y creación de arreglos</b>\n",
    "\n",
    "La biblioteca de **`NumPy`** está construida sobre una clase denominada **`array`**. Esta clase es la representación de los arreglos n-dimensionales que se usan en cualquier otro lenguaje de programación. Pero, ¿N-dimensionales? ¿Qué significa eso? 🤔 Bueno, pues en programación existen los arreglos unidimensionales (arreglos 1D), las matrices (arreglos 2D), los cubos o tensores (arreglos 3D) y en general los arreglos de n dimensiones, como muestra la siguiente figura.\n",
    "\n",
    "A pesar de que NumPy permite la manipulación de arreglos multidimensionales, esta guía se centra sólo en la manipulación de arreglos unidimensionales.  "
   ]
  },
  {
   "cell_type": "markdown",
   "metadata": {},
   "source": [
    "Los arreglos **`NumPy`** mantienen la definición de lo que representa un arreglo como estructura estática. Es decir, un arreglo **`NumPy`** almacena un conjunto de datos de tamaño fijo, todos del mismo tipo, los cuales están indexados por números enteros no negativos. \n",
    "\n",
    "**`NumPy`** nos permite o bien crear un arreglo vacío, o crear un arreglo con un conjunto de valores inciales. En cualquier caso, lo primero que se debe hacer es importar la biblioteca **`NumPy`**, así:"
   ]
  },
  {
   "cell_type": "code",
   "execution_count": null,
   "metadata": {},
   "outputs": [],
   "source": [
    "import numpy as np"
   ]
  },
  {
   "cell_type": "markdown",
   "metadata": {},
   "source": [
    "La línea de código anterior le indica al interprete que importe todas las funciones de la biblioteca de funciones de **`NumPy`**. Adicionalmente, esa línea de codígo renombra la biblioteca para que en el código en lugar de usar **`NumPy`** usemos la expresión **`np`**. Es decir, que cuando necesitemos usar una función de la biblioteca en lugar de usar la expresión `numpy`, usaremos la expresión `np`. Esta es una convención ampliamente usada que hace el código más legible."
   ]
  },
  {
   "cell_type": "markdown",
   "metadata": {},
   "source": [
    "<div class=\"alert alert-block alert-danger\" style=\"border-radius: 10px; border: 1px solid #B71C1C;\">📌 <b>Importante:</b> <span style=\"color:#000000;\"> la recomendación es siempre usar <b>np</b> para renombrar la biblioteca de <b>NumPy</b>. Esta es la manera que los desarrolladores, por convención, utilizan la biblioteca de <b>NumPy.</b> </span>\n",
    "</div>"
   ]
  },
  {
   "cell_type": "markdown",
   "metadata": {},
   "source": [
    "### 🖥️ <b>Creando un arreglo a partir de una lista de valores por defecto </b>\n",
    "\n",
    "Para declarar un arreglo con un conjunto de valores iniciales debemos usar la función **`array`** de NumPy. Por ejemplo, para crear un arreglo, llamado numeros, que contenga los números 1, 2 y 3, todo lo que debemos hacer es invocar la función pasando como parámetro y entre corchetes, la lista de valores iniciales, como muestra la imagen y se ejemplifica en la celda siguiente.\n",
    "\n",
    "<center><img src=\"https://raw.githubusercontent.com/carlosmera20/Logica_y_Representacion_I/main/content/local/imgs/ej_1_arreglos1d.png\"><center>"
   ]
  },
  {
   "cell_type": "code",
   "execution_count": null,
   "metadata": {},
   "outputs": [],
   "source": [
    "numeros = np.array([1,2,3])\n",
    "print(numeros) # Aquí mostramos el contenido del arreglo"
   ]
  },
  {
   "cell_type": "markdown",
   "metadata": {},
   "source": [
    "Ahora creemos un arreglo que almacene 5 marcas de autos con la función **`array:`**"
   ]
  },
  {
   "cell_type": "code",
   "execution_count": null,
   "metadata": {},
   "outputs": [],
   "source": [
    "marcas = np.array([\"BMW\", \"Mazda\", \"Chevrolet\", \"Audi\", \"Ford\"])\n",
    "print(marcas) # Aquí mostramos el contenido del arreglo"
   ]
  },
  {
   "cell_type": "markdown",
   "metadata": {},
   "source": [
    "Ahora, si lo que queremos es crear un arreglo que almacene los números del 1 al 10 usando la función **`array:`**, entonces lo hacemos así:"
   ]
  },
  {
   "cell_type": "code",
   "execution_count": null,
   "metadata": {},
   "outputs": [],
   "source": [
    "numeros = np.array([1, 2, 3, 4, 5, 6, 7, 8, 9, 10])\n",
    "print(numeros) # Aquí imprimimos el arreglo."
   ]
  },
  {
   "cell_type": "markdown",
   "metadata": {},
   "source": [
    "Note que para mostrar el contenido de un arreglo, basta con **\"imprimir\"** la variable que lo contiene. Esta es una de las características poderosas de Python que no tienen muchos otros lenguajes."
   ]
  },
  {
   "cell_type": "markdown",
   "metadata": {
    "editable": true,
    "slideshow": {
     "slide_type": ""
    },
    "tags": []
   },
   "source": [
    "### 🖥️ <b>Creando un arreglo sin datos iniciales (función empty)</b>\n",
    "\n",
    "Otra forma que tenemos de crear un arreglo es simplemente especificar su tipo y su tamaño, en este caso el contenido del arreglo tendrá la información \"basura\" del espacio de la memoria RAM que ocupa. Esto podemos hacer con la función **`empty`**. Por ejemplo, a continuación creamos un arreglo \"vacío\" que permitirá almacenar 10 números enteros:"
   ]
  },
  {
   "cell_type": "code",
   "execution_count": null,
   "metadata": {},
   "outputs": [],
   "source": [
    "# La función empty permite crear un sin inicializar y que contiene basura.\n",
    "# En este ejemplo, la función empty crea un arreglo con 10 posiciones para almacenar números enteros\n",
    "numeros = np.empty((10), dtype=int)\n",
    "print(numeros) "
   ]
  },
  {
   "cell_type": "markdown",
   "metadata": {},
   "source": [
    "<div class=\"alert alert-block alert-warning\" style=\"color:#8C6900; border-radius: 10px; border: 1px solid #B28500;\">📢 <b>Observe:</b> <span style=\"color:#000000;\"> cuando se ejecuta la celda de código anterior los valores del arreglo cambian porque al declarar de nuevo la variable, esta cambia su posición en la memoria RAM y por tanto su contenido es diferente.</span></div>"
   ]
  },
  {
   "cell_type": "markdown",
   "metadata": {},
   "source": [
    "También podemos usar la función **`empty`** para crear arreglos de otros tipos, por ejemplo, las dos celdas siguientes muestran como crear un arreglo de números reales y uno de cadenas, respectivamente"
   ]
  },
  {
   "cell_type": "code",
   "execution_count": null,
   "metadata": {},
   "outputs": [],
   "source": [
    "# Aquí usamos la función empty crear un arreglo para almacenar 5 números reales\n",
    "numeros_reales = np.empty((5), dtype=float)\n",
    "print(numeros_reales) "
   ]
  },
  {
   "cell_type": "code",
   "execution_count": null,
   "metadata": {},
   "outputs": [],
   "source": [
    "# Por otro lado, aquí usamos la función empty para crear un arreglo que almacene 7 cadenas de texto\n",
    "cadenas_texto = np.empty((7), dtype=object)\n",
    "print(cadenas_texto) "
   ]
  },
  {
   "cell_type": "markdown",
   "metadata": {
    "editable": true,
    "slideshow": {
     "slide_type": ""
    },
    "tags": []
   },
   "source": [
    "### 🖥️ <b>Creando un arreglo con un valor inicial</b>\n",
    "\n",
    "La función **`full`** es una genérica para crear arreglos con un valor inicial por defecto en todas las casillas. Esta función recibe como parámetros el tamaño del arreglo (entre corchetes) y el valor por defecto y el tipo de datos del arreglo. Por ejemplo, para crear un arreglo que almacene 10 números enteros y que por defecto todas las casillas del arreglo se inicialicen en 32, usamos la función **`full`** así:"
   ]
  },
  {
   "cell_type": "code",
   "execution_count": null,
   "metadata": {},
   "outputs": [],
   "source": [
    "# La función full crea arreglos con un valor por defecto en todas las casillas\n",
    "numeros = np.full((10), fill_value=32, dtype=int)\n",
    "print (numeros)"
   ]
  },
  {
   "cell_type": "markdown",
   "metadata": {},
   "source": [
    "Si queremos crear un arreglo que almacene 12 cadenas de texto y que todas las casillas se inicien con la cadena vacía lo hacemos así:"
   ]
  },
  {
   "cell_type": "code",
   "execution_count": null,
   "metadata": {},
   "outputs": [],
   "source": [
    "# La función full crea arreglos con un valor por defecto en todas las casillas\n",
    "cadenas_texto = np.full((12), fill_value=\"\", dtype=object)\n",
    "print (cadenas_texto)"
   ]
  },
  {
   "cell_type": "markdown",
   "metadata": {},
   "source": [
    "En el caso específico de arreglos númericos existen otras funciones que permiten inicializar los arreglos con valores predeterminados, evitando su introducción manual. Algunas de ellas son:\n",
    "- La función **`zeros`** que crea un arreglo numérico e iniciliza todas las casillas con el valor de 0\n",
    "- La función **`ones`** que crea un arreglo numérico e iniciliza todas las casillas con el valor de 1\n",
    "- La función **`arange`** que crea un arreglo numérico e iniciliza todas las casillas usando una secuencia de números\n",
    "- La función **`linspace`** que crea un arreglo numérico usando una secuencia de números que están equidistantemente separados entre un rango de valores dado\n",
    "- La función **`random.random`** que crea un arreglo y lo inicializa con valores aleatorios reales distribuidos uniformemente en el rango [0,1)\n",
    "- La función **`random.randint`** que crea un arreglo y lo inicializa con valores aleatorios enteros entre un rango dado\n",
    "\n",
    "Veamos un ejemplo de como usar estas funciones."
   ]
  },
  {
   "cell_type": "code",
   "execution_count": null,
   "metadata": {},
   "outputs": [],
   "source": [
    "# FUNCIÓN ZEROS -- Aquí creamos una variable llamada zeros20 que crea un arreglo de 20 enteros que se inicializa en ceros\n",
    "zeros20 = np.zeros((20), dtype=int)\n",
    "print(f\"Arreglo de 20 ceros de tipo ENTERO: {zeros20}\")"
   ]
  },
  {
   "cell_type": "code",
   "execution_count": null,
   "metadata": {},
   "outputs": [],
   "source": [
    "# FUNCIÓN ONES -- Aquí creamos una variable llamada ones20 que crea un arreglo de 20 reales que se inicializa en uno\n",
    "ones20 = np.ones((20), dtype=float)\n",
    "print(f\"Arreglo de 20 unos de tipo REAL: {ones20}\")"
   ]
  },
  {
   "cell_type": "code",
   "execution_count": null,
   "metadata": {},
   "outputs": [],
   "source": [
    "# FUNCIÓN ARANGE -- Aquí creamos un arreglo de ENTEROS que tiene la secuencia de números del -5 al 5, con incremento de 1\n",
    "# Recuerde: el elemento del límite final no se incluye\n",
    "arange5 = np.arange(-5, 5, 1, dtype=int)\n",
    "print(f\"Arreglo de tipo ENTERO con la secuencia del -5 al 5: {arange5}\")"
   ]
  },
  {
   "cell_type": "code",
   "execution_count": null,
   "metadata": {},
   "outputs": [],
   "source": [
    "# FUNCIÓN LINSPACE -- Aquí creamos un arreglo de 10 reales, igualmente espaciados, que van desde el 20 al 25\n",
    "linspace10 = np.linspace(20, 24.5, 10)\n",
    "print(f\"Arreglo de tipo REAL de 10 posciones que lleva los números del 20 al 25, igualmente espaciados: {linspace10}\")"
   ]
  },
  {
   "cell_type": "code",
   "execution_count": null,
   "metadata": {},
   "outputs": [],
   "source": [
    "# FUNCIÓN random.random -- Ahora crearemos un arreglo de 15 números aleatorios uniformemente distribuídos en el rango [0, 1)\n",
    "aleatorios15 = np.random.random(15)\n",
    "print(f\"Arreglo de tipo REAL de 15 números aleatorios entre 0 y 1:\\n{aleatorios15}\")"
   ]
  },
  {
   "cell_type": "code",
   "execution_count": null,
   "metadata": {},
   "outputs": [],
   "source": [
    "# FUNCIÓN random.random -- Ahora crearemos un arreglo de 10 números aleatorios uniformemente distribuídos en el rango [50, 100)\n",
    "aleatorios10 = np.random.randint(50, 100, 10)\n",
    "print(f\"Arreglo de tipo ENTERO de 10 números aleatorios entre 50 y 100:\\n{aleatorios10}\")"
   ]
  },
  {
   "attachments": {},
   "cell_type": "markdown",
   "metadata": {},
   "source": [
    "## 📓 <b>Recorrido de arreglos en Python</b>\n",
    "\n",
    "Para acceder a los elementos de un arreglo NumPy se usan los corchetes **`[]`** y dentro de estos se especifica el índice de la casilla a la que queremos acceder. Veamos un ejemplo.\n"
   ]
  },
  {
   "cell_type": "code",
   "execution_count": null,
   "metadata": {},
   "outputs": [],
   "source": [
    "# Iniciamos generando un arreglo  aleatorio de 10 de números enteros entre 1 y 100\n",
    "arr = np.random.randint(1, 100, 10)\n",
    "\n",
    "# Mostramos el contenido completo del arreglo con la instrucción print\n",
    "print(\"Arreglo aleatorio: \", arr)"
   ]
  },
  {
   "cell_type": "code",
   "execution_count": null,
   "metadata": {},
   "outputs": [],
   "source": [
    "# Accedemos al primer elemento\n",
    "print(\"Primer elemento:\",  arr[0])\n",
    "\n",
    "# Accedemos al segundo elemento\n",
    "print(\"Segundo elemento:\", arr[1])\n",
    "\n",
    "# Accedemos al tercer elemento\n",
    "print(\"Último elemento:\",  arr[-1])\n",
    "\n",
    "# Elementos del segundo al cuarto\n",
    "sub_arr = arr[1:4]\n",
    "print(\"Elementos del segundo al cuarto: \", sub_arr)"
   ]
  },
  {
   "cell_type": "code",
   "execution_count": null,
   "metadata": {},
   "outputs": [],
   "source": [
    "# Escriba aquí la instrucción que le permita mostrar el tercer elemento\n"
   ]
  },
  {
   "cell_type": "markdown",
   "metadata": {},
   "source": [
    "Para mostrar TODOS los elementos del arreglo podemos RECORRERLO usando un ciclo así:"
   ]
  },
  {
   "cell_type": "code",
   "execution_count": null,
   "metadata": {},
   "outputs": [],
   "source": [
    "for i in range(len(arr)):\n",
    "    print(\"arr[\",i,\"] =\", arr[i])"
   ]
  },
  {
   "cell_type": "markdown",
   "metadata": {},
   "source": [
    "Ahora si lo queremos es modificar un elemento del atrreglo, simplemente se accede él y se le asigna el nuevo valor con el operador de asignación. Por ejemplo, cambiemos el valor del primer elemento del arreglo anterior:"
   ]
  },
  {
   "cell_type": "code",
   "execution_count": null,
   "metadata": {},
   "outputs": [],
   "source": [
    "# Mostramos el arreglo original\n",
    "print(\"Arreglo original:\", arr)\n",
    "\n",
    "# Cambiamos el primer elemento y mostramos el nuevo arreglo\n",
    "arr[0] = 10\n",
    "print(\"Arreglo modifricado:\", arr)"
   ]
  },
  {
   "cell_type": "markdown",
   "metadata": {},
   "source": [
    "Otro ejemplo que nos permite apreciar como recorrer y modificar un arreglo es creando el arreglo vacío y después llenandolo con los datos ingresados por el usuario, tal como se muestra en la siguiente celda."
   ]
  },
  {
   "cell_type": "code",
   "execution_count": null,
   "metadata": {},
   "outputs": [],
   "source": [
    "# Creamos un arreglo para almacenar 5 colores ingresados por el usuario\n",
    "colores = np.full((5), fill_value=None, dtype=object)\n",
    "\n",
    "# Usamos un ciclo para recorrer el arreglo e ir almacenando los datos en el mismo\n",
    "for i in range(len(colores)):\n",
    "    colores[i] = input(f\"Ingrese el color que se almacenara en la casilla # {i}: \")\n",
    "\n",
    "# Mostramos el arreglo lleno\n",
    "print(f\"arreglo de colores es {colores}\")"
   ]
  },
  {
   "attachments": {},
   "cell_type": "markdown",
   "metadata": {},
   "source": [
    "## 📓 <b>Operaciones aritméticas con arreglos en Python</b>\n",
    "\n",
    "Como se ha mencionado, Numpy es una biblioteca que se ha optimizado para la manipulación de calculos numéricos sobre arreglos, es por esto que esta biblioteca permite realizar diferentes operaciones sobre los arreglos, sin necesidad de recorrrerlo, algo que NO tienen otros lenguajes de programación. Veamos algunas de estas operaciones."
   ]
  },
  {
   "cell_type": "code",
   "execution_count": null,
   "metadata": {},
   "outputs": [],
   "source": [
    "# Iniciamos creando un arreglo aleatorio de números enteros\n",
    "arr = np.random.randint(1, 20, 5)\n",
    "print(\"Arreglo original: \", arr)\n",
    "\n",
    "# Podemos, por ejemplo, sumar 2 a cada uno de los elementos del arerglo así:\n",
    "arr_add = arr + 2\n",
    "print(\"Arreglo original + 2: \", arr_add)\n",
    "\n",
    "# Podemos también restarle 5 a cada elemento del arreglo\n",
    "arr_sub = arr - 5\n",
    "print(\"Arreglo original - 5: \", arr_sub)\n",
    "\n",
    "# Así podemos multiplicar cada elemento por 3\n",
    "arr_mul = arr * 3\n",
    "print(\"Arreglo original * 3: \", arr_mul)\n",
    "\n",
    "# En su defecto también podriamos dividirlo por 4\n",
    "arr_div = arr / 4\n",
    "print(\"Arreglo original / 4: \", arr_div)"
   ]
  },
  {
   "cell_type": "markdown",
   "metadata": {},
   "source": [
    "#### 💫 <b>Un ejemplo  usando arreglos para crear tablas de frecuencia</b>\n",
    "\n",
    "Un restaurante de la ciudad quiere realizar entre sus 25 empleados una valoración sobre el \"sabor\" y la \"presentación\" que tiene un nuevo plato que se está pensando incluir en la carta. Para esto, usted debe realizar un programa que permita a los empleados indicar, en una escala de números enteros entre 1 a 10 , cual es su valoración sobre el sabor y la presentación que tiene el nuevo plato. Con base en esa información, se debe calcular la valoración promedio de cada item y cotegorizar el palto como Excelente, cuando el sabor y la presentación tienen ambos una valoración promedio mayor a 8.5, como Bueno cuando la valoración de ambos es mayor o igual a 7.0 y Regular cuando el promedio de ambas valoraciones está por debajo de 7.5. Se debe indicar si se recomienda incluir o no el plato en la carta, considerando que este se incluirá sólo si tiene una valoración de Excelente. Además, se debe mostrar la frecuencia de ocurrencia de cada votación. \n"
   ]
  },
  {
   "cell_type": "markdown",
   "metadata": {},
   "source": [
    "**Análisis del Problema:**\n",
    "\n",
    "- 📥 _Entradas:_ se requiere almacenar 25 valoraciones para el sabor y para la presentación\n",
    "- 📤 _Salidas:_ un mensaje con la categorización del plato indicando si se recomienda incluirlo o no en la carta del restaurante, demás de la frecuencia de courrencias de las valoraciones para el sabor y la presentación\n",
    "- ⚙️ _Proceso:_ para solucionar el problema se deben seguir los siguiente pasos.\n",
    "  1. Crear dos arreglos de enteros de 10 elementos para almacenar la frecuencia de cada valoración\n",
    "  2. Iniciar dos acumuladores en 0 para acumular las valoraciones sobre el sabor y la presentación\n",
    "  3. Pedir las valoraciones de los 25 empleados\n",
    "     <br/>3.1 Acumular las valoraciones en los acumuladores para el sabor y la presentación\n",
    "     <br/>3.2 Acumular las frecuencias de las valoraciones en los arreglos del sabor y la presentación\n",
    "  4. Después de pedir todas las valoraciones, calcular el promedio de las valoraciones usando los acumuladores\n",
    "  5. Calcular la categoría del plato (Excelente, Bueno o Regular)\n",
    "  6. Escribir un mensaje con la recomendación del plato y el promedio de las valoraciones\n",
    "  7. Mostrar la frecuencia de las votaciones\n"
   ]
  },
  {
   "cell_type": "markdown",
   "metadata": {},
   "source": [
    "**Implementación de la Solución:**"
   ]
  },
  {
   "cell_type": "code",
   "execution_count": null,
   "metadata": {},
   "outputs": [],
   "source": [
    "# Variables requeridas para la categorización del plato\n",
    "voto_sabor = int\n",
    "voto_presentacion = int\n",
    "prom_sabor = float\n",
    "prom_presentacion = float\n",
    "categoria_plato = str\n",
    "acu_sabor = 0\n",
    "acu_presentacion = 0\n",
    "\n",
    "# Arreglos para almacenar las frecuencias de ocurrencia de las votaciones\n",
    "frec_sabor = np.zeros((10), dtype=int)\n",
    "frec_presentacion = np.zeros((10), dtype=int)\n",
    "\n",
    "for i in range(5):\n",
    "    # Se pide la valoración del plato a cada empleado\n",
    "    print(f\"\\n****\\nIngresando la información del empleado # {i+1}: \")\n",
    "    voto_sabor = int(input(\"En una escala de 1 a 10, ¿cuál es su valoración para el sabor del plato?: \"))\n",
    "    voto_presentacion = int(input(\"En una escala de 1 a 10, ¿cuál es su valoración para la presentación del plato?: \"))\n",
    "\n",
    "    # Se incrementan los acumuladores para sacar el promedio\n",
    "    acu_sabor += voto_sabor\n",
    "    acu_presentacion += voto_presentacion\n",
    "\n",
    "    # Se incrementan las frecuencias de ocurrencia de cada votación\n",
    "    frec_sabor[voto_sabor-1] += 1\n",
    "    frec_presentacion[voto_presentacion-1] += 1\n",
    "\n",
    "# Se calcula el promedio de las valoraciones\n",
    "prom_sabor = acu_sabor/(i+1)\n",
    "prom_presentacion = acu_presentacion/(i+1)\n",
    "\n",
    "# Se determina la categoría del plato\n",
    "if (prom_sabor >= 8.5 and prom_presentacion > 8.5):\n",
    "    categoria_plato = \"Excelente\"\n",
    "else:\n",
    "    if (prom_sabor >= 7.5 and prom_presentacion > 7.5):\n",
    "        categoria_plato = \"Bueno\"\n",
    "    else:\n",
    "        categoria_plato = \"Regular\"\n",
    "\n",
    "# Se muestra el mensaje relacionado con la recomendación del plato\n",
    "print(\"\\n\\n-------- Resultados de la Valoración --------\\n\")\n",
    "print (f\"- El plato tuvo una valoración de {categoria_plato}.\")\n",
    "print (f\"- La valoración promedio del sabor fue de {prom_sabor:.1f} y de la presentación de {prom_presentacion:.1f}\")\n",
    "if (categoria_plato == \"Excelente\"):\n",
    "    print(f\"- SI se recomienda incluir el plato en la nueva carta\")\n",
    "else:\n",
    "    print(f\"- NO se recomienda incluir el plato en la nueva carta\")\n",
    "\n",
    "# Se muestra la tabla de frecuencias para el sabor y la presentación\n",
    "print(\"\\n\\n        Tablas de Frecuencia de Votos \")\n",
    "print(\"--------------------------------------------------\")\n",
    "print(\"Valoracion\\tVotos Sabor\\tVotos Presentación\")\n",
    "print(\"--------------------------------------------------\")\n",
    "\n",
    "# Arreglos para almacenar las frecuencias de ocurrencia de las votaciones\n",
    "for i in range(10):\n",
    "    print(f\"{i+1}\\t\\t{frec_sabor[i]}\\t\\t{frec_presentacion[i]}\")\n",
    "    print(\"--------------------------------------------------\")   "
   ]
  },
  {
   "cell_type": "markdown",
   "metadata": {},
   "source": [
    "## 📓 <b>Arreglos de objetos en Python</b>\n",
    "\n",
    "Como hemos visto, los arreglos son una estructura de datos estática que contiene un número fijo y finito de valores, todos del mismo tipo de dato. Hasta este punto, los arreglos que hemos usado sólo contienen valores de los tipos de datos primitivos, es decir int, float, str. A pesar de esto, los arreglos también pueden almacenar objetos creados todos a partir de una misma clase (incluyendo sus atributos y métodos). \n",
    "\n",
    "La creación y manipulación de arreglos de objetos no dista de la forma como lo hacemos con un arreglo de datos de los tipos primitivos. Así, vamos a ver como manipular un arreglo de objetos a partir del siguiente caso de estudio.\n",
    "\n",
    "La clínica veterinaria **“Maskotas Maskotines”** requiere que se le desarrolle una aplicación para registrar la información de las consultas veterinarias que se realizan día a día. Con base en esto, la aplicación debe almacenar para una consulta los datos de la mascota (id, nombre, edad y el tipo de mascota, es decir, si es un perro, gato, ave u otro), también debe almacenar el nombre de quien lleva la mascota a consulta y el costo de la consulta. Tenga presente que por la capacidad de la clínica nunca se harán más de 10 consultas en el día. Con base en la información almacenada, cree un menú que permita ir registrando mascotas o consultar las estadísticas de antención que consiste en mostrar cuántas máscotas se han antendieron de cada tipo y cuál ha sido el valor total de las consultas atendidas."
   ]
  },
  {
   "cell_type": "markdown",
   "metadata": {},
   "source": [
    "Al analizar el problema planteado observamos que existen tres entidades potenciales en el mundo del problema: la mascota, la consulta y la aplicación como tal. De la mascota se debe almacenar, el id que es un número entero, el nombre de la mascota que es una cadena de texto, la edad que es un número entero y el tipo de mascota que puede codificarse como un entero. Por otro lado, la consulta almacena la mascota para la cual se hace hace la consulta, además del nombre de quien lleva la mascota a consulta que es una cadena de texto y el valor de la consulta que es un número real. Finalmente, la aplicación debe almacenar la lista de consultas realizadas y debe proveer la interfaz para manipular la aplicación. Esto nos lleva a la generación de un diagrama de clases simple, como el que se muestra en la siguiente figura:\n",
    "<br/>\n",
    "<center><img src=\"https://raw.githubusercontent.com/carlosmera20/Logica_y_Representacion_I/main/content/local/imgs/Diagrama_maskotas_parctica_06_arreglos.png\"></center>\n",
    "\n",
    "Iniciemos con la implementación de las clase de base: Mascota y Consulta."
   ]
  },
  {
   "cell_type": "code",
   "execution_count": null,
   "metadata": {},
   "outputs": [],
   "source": [
    "class Mascota:\n",
    "    # Atributos\n",
    "    id = int\n",
    "    nombre = str\n",
    "    edad = int\n",
    "    tipo = int\n",
    "\n",
    "    # Constantes de la clase\n",
    "    TIPO_PERRO = 1\n",
    "    TIPO_GATO  = 2\n",
    "    TIPO_AVE   = 3\n",
    "    TIPO_OTRO  = 4\n",
    "\n",
    "    def __init__(self):\n",
    "        self.id = 0\n",
    "        self.nombre = \"\"\n",
    "        self.edad = 0\n",
    "        self.tipo = 1\n",
    "\n",
    "    def pedir_datos(self):\n",
    "        self.id = int(input(\"ID de la mascota: \"))\n",
    "        self.nombre = input(\"Nombre de la mascota: \")\n",
    "        self.edad = int(input(\"Edad de la mascota: \"))\n",
    "        self.tipo = int(input(\"Seleccione el tipo de la mascota:\\n  1. Perro\\n  2. Gato\\n  3. Ave\\n  4. Otro \\nOpción seleccionada: \"))\n",
    "        "
   ]
  },
  {
   "cell_type": "code",
   "execution_count": null,
   "metadata": {},
   "outputs": [],
   "source": [
    "class Consulta:\n",
    "    # Atributos\n",
    "    mascota = Mascota # Este atributo es un objeto de la clase Mascota\n",
    "    tenedor = str\n",
    "    valor = float\n",
    "    \n",
    "    def __init__(self):\n",
    "        self.mascota = Mascota()\n",
    "        self.propietario = \"\"\n",
    "        self.valor = 0\n",
    "\n",
    "    def pedir_datos(self):\n",
    "        print(\"\\n\\n-- Ingrese los datos de la mascota que consulta -- \")\n",
    "        self.mascota.pedir_datos()\n",
    "\n",
    "        print (\"\\n-- Ahora complemente los siguientes datos de la consulta --\")\n",
    "        self.propietario = input(\"Ingrese el nombre de la persona que consulta con la mascota: \")\n",
    "        self.valor = float(input(\"Ingrese el valor de la consulta: \"))\n",
    "    "
   ]
  },
  {
   "attachments": {},
   "cell_type": "markdown",
   "metadata": {},
   "source": [
    "Ya que tenemos las clases de base, procedemos a implementar la aplicación. Para ello se debe tener en cuenta que demos crear un arreglo de 10 casillas en las que se almacenarán objetos de tipo consulta, la forma de crear un arreglo de objetos genérico con Numpy es usando la función **`full`**, como sigue: \n",
    "\n",
    "```pyhton\n",
    "consultas = np.full((10), fill_value=None, dtype=object)\n",
    "```\n",
    "\n",
    "### 🖥️ <b> Insertando objetos en un arreglo</b>\n",
    "Al crear el arreglo de esta forma se inicializan todas las casillas con el valor None, que indica que no hay ningún objeto almacenado. Vamos ahora entonces a crear la clase AppMaskotas que será la que procese las consultas y, por tanto, la que tiene el arreglo para almacenar las consultas procesadas. Como atributos de esta clase, además del arreglo que almacena los objetos de tipo Consulta, tendremos un contador que nos indicará en todo momento cuántas consultas se han ingresado. El uso de este contador nos permitirá siemrpe almacenar un objeto nuevo al final del arreglo, como describe la Alternativa 1 en las diapositivas de la clase.\n",
    "\n",
    "Así, una posible implementación para la clase AppMaskotas es la que sigue."
   ]
  },
  {
   "cell_type": "code",
   "execution_count": null,
   "metadata": {},
   "outputs": [],
   "source": [
    "class AppMaskotas:\n",
    "    \n",
    "    consultas = np.ndarray\n",
    "    cont_consultas = int\n",
    "\n",
    "    # Esta constante indica el tope de consultas que se pueden almacenar\n",
    "    MAX_CONSULTAS = 10 \n",
    "\n",
    "    def __init__(self):\n",
    "        # Se inicializa el arreglo de objetos con el valor None en todas su casillas\n",
    "        self.consultas = np.full((self.MAX_CONSULTAS), fill_value=None, dtype=object)\n",
    "        \n",
    "        # Cuando se crea la aplicación el número de consultas es de cero\n",
    "        self.cont_consultas = 0\n",
    "\n",
    "    def procesar_consultas(self):\n",
    "        # Esta variable nos ayuda a controlar el menú\n",
    "        menu = int\n",
    "        menu = 0 \n",
    "\n",
    "        # El menú a construir tiene 3 opciones: una para ingresar una consulta, otra para ver las estadísticas y una más para salir de la app\n",
    "        while (menu != 3):\n",
    "            print(\"\\n*************************************\\nClínica Maskotas - Menú de opciones\\n*************************************\")\n",
    "            print(\"1. Registrar una consulta \\n2. Ver las estadísticas \\n3. Salir\")\n",
    "            menu = int(input(\"Seleccione una opción del menú: \"))\n",
    "\n",
    "            match(menu):\n",
    "            \n",
    "                case 1: \n",
    "                    # Se verifica si hay capacidad para almacenar nuevas consultas\n",
    "                    if (self.cont_consultas < self.MAX_CONSULTAS):\n",
    "                        # Se crea un objeto consulta\n",
    "                        nueva_consulta = Consulta()\n",
    "                        # Se piden los datos de la consulta\n",
    "                        nueva_consulta.pedir_datos()\n",
    "                        # Se almacena la consulta al arreglo\n",
    "                        self.consultas[self.cont_consultas] = nueva_consulta\n",
    "                        # Se aumenta el contador de consultas\n",
    "                        self.cont_consultas += 1\n",
    "                        input(\"\\nPresione enter para continuar ...\")\n",
    "\n",
    "                case 2:\n",
    "                    valor_consultas = 0\n",
    "\n",
    "                    # Contadores de mascoatas por tipo\n",
    "                    perros = 0\n",
    "                    gatos = 0\n",
    "                    aves = 0\n",
    "                    otros = 0\n",
    "\n",
    "                    # Se recorreo el arreglo de consultas para sacar las estadísticas\n",
    "                    # Note que solo se recorre el arreglo hasta el cont de consultas ingresadas\n",
    "                    for i in range(self.cont_consultas):\n",
    "                        # Se acumula el valor de las consultas\n",
    "                        valor_consultas += self.consultas[i].valor\n",
    "\n",
    "                        # Se verifica el tipo de mascota de la consulta\n",
    "                        match(self.consultas[i].mascota.tipo):\n",
    "                            case Mascota.TIPO_PERRO:\n",
    "                                perros += 1\n",
    "                            case Mascota.TIPO_GATO:\n",
    "                                gatos += 1\n",
    "                            case Mascota.TIPO_AVE:\n",
    "                                aves += 1\n",
    "                            case Mascota.TIPO_OTRO:\n",
    "                                otros += 1\n",
    "                    # Se muestran los resultados de las estadísticas\n",
    "                    print(\"\\nEstadísticas de hoy:\")\n",
    "                    print(\"Número de consultas realizadas: \",self.cont_consultas)\n",
    "                    print(\"Total del valor de las consultas: \", valor_consultas)\n",
    "                    print(\"Número de perros atendidos: \", perros)\n",
    "                    print(\"Número de gatos atendidos: \", gatos)\n",
    "                    print(\"Número de aves atendidas: \", aves)\n",
    "                    print(\"Otras mascotas atendidas: \", otros)\n",
    "                    input(\"\\nPresione enter para continuar ...\")\n",
    "            \n",
    "                case 3:\n",
    "                    print(\"\\n El programa ha terminado ...\")"
   ]
  },
  {
   "cell_type": "code",
   "execution_count": null,
   "metadata": {},
   "outputs": [],
   "source": [
    "app = AppMaskotas()\n",
    "app.procesar_consultas()"
   ]
  },
  {
   "attachments": {},
   "cell_type": "markdown",
   "metadata": {},
   "source": [
    "### 🖥️ <b>Eliminación de objetos en un arreglo</b>\n",
    "\n",
    "Para eliminar un objeto de un arreglo se deben realizar dos operaciones. Primero, se debe buscar el objeto en el arreglo y, posterior a la eliminación, se deben mover todos los objetos que están delante del objeto eliminado., esto para evitar que queden celdas intermedias sin datos en el arreglo, las cuales puedan producir algún error en el recorrido del arreglo.\n",
    "\n",
    "Con base en esto, vamos a modificar la clase AppMaskota para que tenga una nueva opción en el menú que permita borrar una consulta específica del arreglo; por ejemplo, con base en el ID de una mascota. Esta funcionalidad la agregarremos en la opción 3 del menú. Adicionalmente, como ya empieza a crecer el problema, reorganizamos la aplicación para atender cada requerimiento en un método específico, esto facilita la comprension de la clase. Es importante que revise cuidadosamente la nueva implementación de esta clase."
   ]
  },
  {
   "cell_type": "code",
   "execution_count": null,
   "metadata": {},
   "outputs": [],
   "source": [
    "class AppMaskotas:\n",
    "    \"\"\"\n",
    "    Esta clase represeta la aplicación principal y se encarga de almacenar y procesar las consultas de la clínica veterinaria “Maskotas Maskotines”\n",
    "\n",
    "    ATRIBUTOS:\n",
    "    conultas: que es un arreglo que contiene las consultas que son atendidas en la clínica\n",
    "    cont_conultas: que es un contador que nos indica cuántas consultas se han atendido y almacenado en el arreglo\n",
    "    \n",
    "    CONSTANTES:\n",
    "    MAX_CONSULTAS: que indica cuál es el número máximo de consultas que pueden ser almacenadas por la aplicación\n",
    "    \"\"\"\n",
    "\n",
    "    consultas = np.ndarray\n",
    "    cont_consultas = int\n",
    "\n",
    "    # Esta constante indica el tope de consultas que se pueden almacenar\n",
    "    MAX_CONSULTAS = 10\n",
    "\n",
    "    def __init__(self):\n",
    "        # Se inicializa el arreglo de objetos con el valor None en todas su casillas\n",
    "        self.consultas = np.full((self.MAX_CONSULTAS), fill_value=None, dtype=object)\n",
    "        \n",
    "        # Cuando se crea la aplicación el número de consultas es de cero\n",
    "        self.cont_consultas = 0\n",
    "\n",
    "    def registrar_consulta(self):\n",
    "        \"\"\"\n",
    "        Este método crea y agrega una nueva consulta al arreglo de consultas\n",
    "\n",
    "        PARÁMTEROS:\n",
    "        Ninguno\n",
    "\n",
    "        RETORNO:\n",
    "        True si se pudo registrar y agregar la consulta al arreglo de consultas, o False en caso contrario\n",
    "        \"\"\"\n",
    "\n",
    "        # Se verifica si hay capacidad para almacenar nuevas consultas\n",
    "        if (self.cont_consultas < self.MAX_CONSULTAS):\n",
    "            # Se crea un objeto consulta\n",
    "            nueva_consulta = Consulta()\n",
    "            # Se piden los datos de la consulta\n",
    "            nueva_consulta.pedir_datos()\n",
    "            # Se almacena la consulta al arreglo\n",
    "            self.consultas[self.cont_consultas] = nueva_consulta\n",
    "            # Se aumenta el contador de consultas\n",
    "            self.cont_consultas += 1\n",
    "            \n",
    "            return True\n",
    "        else:\n",
    "            return False\n",
    "\n",
    "    def mostrar_estadisticas(self):\n",
    "        \"\"\"\n",
    "        Este método muestra las estadísticas de las consultas registradas\n",
    "\n",
    "        PARÁMTEROS:\n",
    "        Ninguno\n",
    "\n",
    "        RETORNO:\n",
    "        Ninguno\n",
    "        \"\"\"\n",
    "        valor_consultas = 0\n",
    "\n",
    "        # Contadores de mascoatas por tipo\n",
    "        perros = 0\n",
    "        gatos = 0\n",
    "        aves = 0\n",
    "        otros = 0\n",
    "\n",
    "        # Se recorreo el arreglo de consultas para sacar las estadísticas\n",
    "        # Note que solo se recorre el arreglo hasta el cont de consultas ingresadas\n",
    "        for i in range(self.cont_consultas):\n",
    "            # Se acumula el valor de las consultas\n",
    "            valor_consultas += self.consultas[i].valor\n",
    "\n",
    "            # Se verifica el tipo de mascota de la consulta\n",
    "            match(self.consultas[i].mascota.tipo):\n",
    "                case Mascota.TIPO_PERRO:\n",
    "                    perros += 1\n",
    "                case Mascota.TIPO_GATO:\n",
    "                    gatos += 1\n",
    "                case Mascota.TIPO_AVE:\n",
    "                    aves += 1\n",
    "                case Mascota.TIPO_OTRO:\n",
    "                    otros += 1\n",
    "        # Se muestran los resultados de las estadísticas\n",
    "        print(\"\\nEstadísticas de hoy:\")\n",
    "        print(\"Número de consultas realizadas: \",self.cont_consultas)\n",
    "        print(\"Total del valor de las consultas: \", valor_consultas)\n",
    "        print(\"Número de perros atendidos: \", perros)\n",
    "        print(\"Número de gatos atendidos: \", gatos)\n",
    "        print(\"Número de aves atendidas: \", aves)\n",
    "        print(\"Otras mascotas atendidas: \", otros)\n",
    "\n",
    "    \n",
    "    def eliminar_consulta(self, id_a_buscar):\n",
    "        \"\"\"\n",
    "        Este método elimina del arreglo de consultas la consulta cuya máscota tenga como ID el parámetro id_a_buscar\n",
    "\n",
    "        PARÁMTEROS:\n",
    "        id_a_buscar, que hace referencia al ID de la mascota de la consulta que será eliminada\n",
    "\n",
    "        RETORNO:\n",
    "        True si se encontró y se eliminó la consulta, False en caso contrario\n",
    "        \"\"\"\n",
    "        # Se recorre el arreglo para buscar el índice de la consulta de la mascota con ID id_a_buscar\n",
    "        indice_eliminar = -1\n",
    "        for i in range(self.cont_consultas):\n",
    "            if (self.consultas[i].mascota.id == id_a_buscar):\n",
    "                indice_eliminar = i\n",
    "                break \n",
    "\n",
    "        # Si el indice_eliminar es diferente de -1 es porque se encontró la consulta de esa mascota y se procede a eliminarla\n",
    "        if (indice_eliminar != -1):\n",
    "\n",
    "            # Se elimina la consulta\n",
    "            self.consultas[indice_eliminar] = None\n",
    "            \n",
    "            # Se corren todas las consultas que estan hacia adelante\n",
    "            for i in range(indice_eliminar+1, self.cont_consultas):\n",
    "                self.consultas[i-1] = self.consultas[i]\n",
    "            \n",
    "            self.consultas[i] = None\n",
    "\n",
    "            # Se disminuye en uno el contador de consultas\n",
    "            self.cont_consultas -= 1\n",
    "\n",
    "            return True\n",
    "\n",
    "        else:\n",
    "            return False\n",
    "\n",
    "\n",
    "    def procesar_consultas(self):\n",
    "        \"\"\"\n",
    "        Este método despliega el menú de la aplicación e invoca a los métodos respectivos de cada opción \n",
    "\n",
    "        PARÁMETROS:\n",
    "        Ninguno\n",
    "\n",
    "        RETORNO:\n",
    "        Vacio\n",
    "        \"\"\"\n",
    "        \n",
    "        # Esta variable nos ayuda a controlar el menú\n",
    "        menu = int\n",
    "        menu = 0 \n",
    "\n",
    "        # El menú a construir tiene 3 opciones: una para ingresar una consulta, otra para ver las estadísticas y una más para salir de la app\n",
    "        while (menu != 4):\n",
    "            print(\"\\n*************************************\\nClínica Maskotas - Menú de opciones\\n*************************************\")\n",
    "            print(\"1. Registrar una consulta \\n2. Ver las estadísticas \\n3. Eliminar consulta \\n4. Salir\")\n",
    "            menu = int(input(\"Seleccione una opción del menú: \"))\n",
    "\n",
    "            match(menu):\n",
    "\n",
    "                # Para ingresar una nueva consulta\n",
    "                case 1: \n",
    "                    if (self.registrar_consulta()):\n",
    "                        print(\"\\nLa consulta ha sido registrada con éxito\")\n",
    "                    else:\n",
    "                        print(\"\\nNo se puede registrar la consulta porque se ha alcanzado el límite de consultas a registrar\")\n",
    "                    \n",
    "                    input(\"\\nPresione enter para continuar ...\")\n",
    "                \n",
    "                # Para generar las estadísticas\n",
    "                case 2:\n",
    "                    self.mostrar_estadisticas()\n",
    "                    input(\"\\nPresione enter para continuar ...\")\n",
    "\n",
    "                # Para eliminar una consulta\n",
    "                case 3: \n",
    "                    \n",
    "                    # Primero pedimos el ID de la mascota cuya consulta se va a eliminar\n",
    "                    id_a_buscar = int(input(\"Ingrese el ID de la mascota que desea buscar para eliminar su consulta: \"))\n",
    "\n",
    "                    # Se intenta eliminar la consulta y se verifica el resultado\n",
    "                    if (self.eliminar_consulta(id_a_buscar)):\n",
    "                        print(f\"\\nLa consulta para la mascota con ID {id_a_buscar} ha sido eliminada con éxito\")\n",
    "                    else:\n",
    "                        print(f\"\\nNo se encontró ninguna consulta para la mascota con ID {id_a_buscar}\")\n",
    "                    input(\"\\nPresione enter para continuar ...\")\n",
    "                    \n",
    "                # Para salir de la app\n",
    "                case 4:\n",
    "                    print(\"\\n El programa ha terminado ...\")\n",
    "\n",
    "                case _:\n",
    "                    print(\"\\n Ha ingresado una opción incorrecta!\")"
   ]
  },
  {
   "cell_type": "code",
   "execution_count": null,
   "metadata": {},
   "outputs": [],
   "source": [
    "# Ejecutamos la aplicación\n",
    "app = AppMaskotas()\n",
    "app.procesar_consultas()"
   ]
  },
  {
   "cell_type": "markdown",
   "metadata": {},
   "source": [
    "## 📓 <b>Un ejemplo de un sistema de autenticación con menús</b>\n",
    "\n",
    "Este ejemplo los puede orientar en sobre cómo usar un arreglo de Usuarios para en un sistema de autenticación con dos perfiles \"normal\" y \"admin\". Analice detalladamente la implementación del ejemplo."
   ]
  },
  {
   "cell_type": "code",
   "execution_count": null,
   "metadata": {},
   "outputs": [],
   "source": [
    "import numpy as np\n",
    "\n",
    "class Usuario:\n",
    "    \"\"\"\n",
    "    Esta clase almacena la información de un usuario que es su nombre, documento de identidady contraseña. \n",
    "    Además, hay un atributo oculto para el manejo de perfiles de usuario.\n",
    "\n",
    "    ATRIBUTOS:\n",
    "    nombre: que es uel nombre del usuario\n",
    "    id: que es el documento del usuario y es atributo que permite a un usuario autenticarse en el sistema\n",
    "    contrasena: que es la contraseña de acceso al sistema\n",
    "    tipo: que hace referencia al tipo de usuario de aucuerdo a los perfiles\n",
    "    \n",
    "    CONSTANTES:\n",
    "    PERFIL_NORMAL: contiene la constante que identifica a un usuario con perfil normal\n",
    "    PERFIL_ADMIN: contiene la constante que identifica a un usuario con perfil admin\n",
    "    \"\"\"\n",
    "\n",
    "    # Atributos\n",
    "    nombre = str\n",
    "    id = int\n",
    "    contrasena = str\n",
    "    tipo = str\n",
    "\n",
    "    # Constantes\n",
    "    PERFIL_NORMAL = 1\n",
    "    PERFIL_ADMIN = 2\n",
    "    \n",
    "    # Constructor de la clase: por defecto el perfil de cualquier usuario es normal\n",
    "    def __init__(self):\n",
    "        self.nombre = \"\"\n",
    "        self.id = 0\n",
    "        self.contrasena = \"\"\n",
    "        self.tipo = \"normal\"\n",
    "\n",
    "    # Este método pide por cosnola los datos básicos del usuario\n",
    "    def pedir_datos(self):\n",
    "        self.nombre = input(\"Ingrese el nombre completo del usuario: \")\n",
    "        self.id = int(input(\"Ingrese el número de documento: \"))\n",
    "        self.contrasena = input(\"Ingrese la contraseña: \")\n",
    "\n",
    "    # Este metodo sirve para cambiar el tipo de usuario a un usuario\n",
    "    def cambiar_tipo(self, nuevo_tipo = self.PERFIL_NORMAL):\n",
    "        self.tipo = nuevo_tipo\n",
    "        \n",
    "\n",
    "class App:\n",
    "    \"\"\"\n",
    "    Esta es la clase principal, la que hace las veces del programa y la que provee la interfaz de usuario.\n",
    "\n",
    "    ATRIBUTOS:\n",
    "    usaurio: arreglo que almacena los usuarios del sistema\n",
    "    con_usaurios: contador que indica cuántos usuarios se han registrado en el sistema\n",
    "    usuario_autenticado: objeto de la clase usuario que contiene la información del usuario que está autenticado en el sistema\n",
    "    \n",
    "    CONSTANTES:\n",
    "    MAX_USUARIOS: contiene el número máximo de usuarios que se pueden registrar en el sistema\n",
    "    \"\"\"\n",
    "\n",
    "    # Atributos\n",
    "    usuarios = np.array\n",
    "    cont_usuarios = int\n",
    "    usuario_auntenticado = Usuario\n",
    "\n",
    "    # Constantes\n",
    "    MAX_USUARIOS = 10\n",
    "\n",
    "    # Constructor de la clase\n",
    "    def __init__(self):\n",
    "        # Crea el arreglo para almacenar los usuarios\n",
    "        self.usuarios = np.full((self.MAX_USUARIOS), fill_value = None, dtype= object)\n",
    "        \n",
    "        # Pone el contador de usuarios en 0\n",
    "        self.cont_usuarios = 0\n",
    "        \n",
    "        # Indica que no hay usuario autenticado\n",
    "        self.usuario_auntenticado = None\n",
    "\n",
    "    # Este método da solución al requerimiento registrar usuario\n",
    "    def registrar_usuario(self):\n",
    "        # Crea un usuario nuevo y pide sus datos\n",
    "        print (\"\\n## Registro de Usuario ##\\n\")\n",
    "        usu = Usuario()\n",
    "        usu.pedir_datos()\n",
    "        \n",
    "        # Almacena el usuario creado al arreglo y aumenta el contador de usuarios registrados en 1\n",
    "        self.usuarios[self.cont_usuarios] = usu\n",
    "        self.cont_usuarios += 1\n",
    "\n",
    "    # Este método permite autenticar a un usuario\n",
    "    # Retorna True si se pudo autenticar el usaurio, False en caso contrario\n",
    "    def autenticar_usuario(self):\n",
    "\n",
    "        # Se piden los datos de autenticación\n",
    "        print (\"\\n## Autenticación de Usuarios ##\\n\")\n",
    "        id = int(input(\"Ingrese el número de documento del usuario: \"))\n",
    "        pas = input(\"Ingrese la contarseña del usuario: \")\n",
    "\n",
    "        # Busca al usuario con el id ingresado en el arreglo de usuarios\n",
    "        for i in range(self.cont_usuarios):\n",
    "            # Si encuentra al usuario en el arreglo, verifique su contraseña\n",
    "            if (self.usuarios[i].id == id):\n",
    "                # Si la contraseña ingreasada coincide con la contraseña almacenada, se actualiza el usaurio autenticado y retorna True\n",
    "                if (self.usuarios[i].contrasena == pas):\n",
    "                    self.usuario_auntenticado = self.usuarios[i]\n",
    "                    return True\n",
    "                else:\n",
    "                    # Si la contraseña no coincide se muestra un mensaje y se rompe la búsqueda\n",
    "                    input(\"La contraseña ingresada no coincide con la contraseña del usuario. Presione enter para continuar ...\")        \n",
    "                    return False\n",
    "        \n",
    "        # Si llega a este punto (por fuera del ciclo) es porque no encontró al usuario\n",
    "        input(f\"El usuario con id {id} no está registrado. Presione enter para continuar ...\")\n",
    "        return False\n",
    "\n",
    "\n",
    "    # Muestra el menu del administrador\n",
    "    def mostrar_menu_admin(self):\n",
    "        opc = 0\n",
    "        \n",
    "        while (opc != 3):\n",
    "            print (\"\\n## MENU DE ADMINISTRADOR ##\\n\")\n",
    "            print(\"1. Opcion 1 ADMIN \\n2. Opción 2 ADMIN \\n3. Cerrar seción\")\n",
    "            opc = int(input(\"Seleccione una opción del menú: \"))\n",
    "\n",
    "            match(opc):\n",
    "                case 1:\n",
    "                    input(\"\\nIngresó a la opción 1 del menú ADMIN. Presione enter para continuar ...\")\n",
    "                \n",
    "                case 2:\n",
    "                    input(\"\\nIngresó a la opción 2 del menú ADMIN. Presione enter para continuar ...\")\n",
    "                \n",
    "                case 3:\n",
    "                    self.usuario_auntenticado = None\n",
    "                \n",
    "                case _: input(\"\\nIngresó una opción incorrecta. Presione enter para continuar ...\")\n",
    "\n",
    "    # Muestra el meno del usuario normal\n",
    "    def mostrar_menu_normal(self):\n",
    "        opc = 0\n",
    "        \n",
    "        while (opc != 3):\n",
    "            print (\"\\n## MENU DE OPCIONES ##\\n\")\n",
    "            print(\"1. Opcion 1 NORMAL \\n2. Opción 2 NORMAL \\n3. Cerrar seción\")\n",
    "            opc = int(input(\"Seleccione una opción del menú: \"))\n",
    "\n",
    "            match(opc):\n",
    "                case 1:\n",
    "                    input(\"\\nIngresó a la opción 1 del menú NORMAL. Presione enter para continuar ...\")\n",
    "                \n",
    "                case 2:\n",
    "                    input(\"\\nIngresó a la opción 2 del menú NORMAL. Presione enter para continuar ...\")\n",
    "                \n",
    "                case 3:\n",
    "                    self.usuario_auntenticado = None\n",
    "                    \n",
    "                case _: input(\"\\nIngresó una opción incorrecta. Presione enter para continuar ...\")\n",
    "\n",
    "    # Este el método que da iniciaio a la aplicación\n",
    "    def procesar(self):\n",
    "        opc = 0\n",
    "\n",
    "        while(opc != 3 ):\n",
    "\n",
    "            print (\"\\n## MENU DE APLICACIÓN ##\\n\")\n",
    "            print(\"1. Registrarse \\n2. Auntenticarse \\n3. Salir de la app\")\n",
    "            opc = int(input(\"Seleccione una opción del menú: \"))\n",
    "\n",
    "            match(opc):\n",
    "                \n",
    "                case 1:\n",
    "                    self.registrar_usuario()\n",
    "                    \n",
    "                case 2:\n",
    "                    if (self.autenticar_usuario()):\n",
    "                        if (self.usuario_auntenticado.tipo == Usuario.PERFIL_ADMIN):\n",
    "                            self.mostrar_menu_admin()\n",
    "                        elif (self.usuario_auntenticado.tipo == Usuario.PERFIL_NORMAL):\n",
    "                            self.mostrar_menu_normal()\n",
    "                        else:\n",
    "                            print(\"PERFIL NO RECONOCIDO\")        \n",
    "                    \n",
    "                case 3:\n",
    "                    self.usuario_auntenticado = None\n",
    "                    print(\"APLICACIÓN TERMINADA\")        \n",
    "                    \n",
    "                case _:\n",
    "                    print(\"opcion incorrecta\")\n",
    "                "
   ]
  },
  {
   "cell_type": "code",
   "execution_count": null,
   "metadata": {},
   "outputs": [],
   "source": [
    "obj = App()\n",
    "obj.procesar()"
   ]
  },
  {
   "cell_type": "code",
   "execution_count": null,
   "metadata": {},
   "outputs": [],
   "source": [
    "print (obj.usuarios)"
   ]
  },
  {
   "cell_type": "code",
   "execution_count": null,
   "metadata": {},
   "outputs": [],
   "source": []
  }
 ],
 "metadata": {
  "kernelspec": {
   "display_name": "Python 3 (ipykernel)",
   "language": "python",
   "name": "python3"
  },
  "language_info": {
   "codemirror_mode": {
    "name": "ipython",
    "version": 3
   },
   "file_extension": ".py",
   "mimetype": "text/x-python",
   "name": "python",
   "nbconvert_exporter": "python",
   "pygments_lexer": "ipython3",
   "version": "3.11.5"
  }
 },
 "nbformat": 4,
 "nbformat_minor": 4
}
