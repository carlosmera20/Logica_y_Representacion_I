{
 "cells": [
  {
   "cell_type": "markdown",
   "metadata": {
    "editable": true,
    "slideshow": {
     "slide_type": ""
    },
    "tags": []
   },
   "source": [
    "<img src=\"https://raw.githubusercontent.com/carlosmera20/Logica_y_Representacion_I/main/content/local/imgs/encabezado.png\">\n",
    "\n",
    "<font size=4>\n",
    "📢 <b>Profesor:</b> Carlos Andres Mera Banguero - <a href=\"https://github.com/carlosmera20/\">https://github.com/carlosmera20/</a><br/>\n",
    "💻 <b>Programa:</b> Ingeniería de Sistemas <br/><br/>\n",
    "</font>\n"
   ]
  },
  {
   "cell_type": "markdown",
   "metadata": {
    "editable": true,
    "slideshow": {
     "slide_type": ""
    },
    "tags": []
   },
   "source": [
    "# <b>Estructuras de Control Mientras-Haga<b>\n",
    "\n",
    "Las estructuras de control repetitivas, también conocidas como bucles o ciclos, permiten al programador repetir un bloque de código múltiples veces, mientras se cumpla una condición específica. Los ciclos son parte fundamental de la programación y se utilizan para automatizar tareas repetitivas, procesar colecciones de datos, realizar operaciones aritméticas iterativas, entre muchas otras."
   ]
  },
  {
   "cell_type": "markdown",
   "metadata": {
    "editable": true,
    "slideshow": {
     "slide_type": ""
    },
    "tags": []
   },
   "source": [
    "## 🚀 <b>Objetivo</b>\n",
    "\n",
    "Esta guía de trabajo práctica tiene como objetivo introducir las estructura **`while`** así como ilustrar su uso para resolver problemas de programación que requieren la repetición de bloques de código. Al finalizar esta guía, los estudiantes podrán:\n",
    "\n",
    "- Definir el ciclo while en Python.\n",
    "- Comprender la sintaxis del ciclo while.\n",
    "- Implementar el ciclo while para resolver problemas de programación.\n",
    "- Identificar las ventajas y desventajas del ciclo while."
   ]
  },
  {
   "cell_type": "markdown",
   "metadata": {
    "editable": true,
    "slideshow": {
     "slide_type": ""
    },
    "tags": []
   },
   "source": [
    "## 🎯 <b>Introducción</b>\n",
    "\n",
    "El ciclo **`while`** es una estructura de control que permite ejecutar un bloque de código de forma repetitiva mientras que la condición del ciclo sea evaluada como verdadera. Esto permite que el ciclo **`while`** se pueda repetir un número indefinido de veces, a diferencia de un ciclo **`for`** en el que el número de veces que se repetie el ciclo está definido. \n"
   ]
  },
  {
   "cell_type": "markdown",
   "metadata": {
    "editable": true,
    "slideshow": {
     "slide_type": ""
    },
    "tags": []
   },
   "source": [
    "## 📓 <b>Sintaxis del ciclo while</b>\n",
    "\n",
    "La sintaxis de un ciclo **`while`** en Python es la siguiente:\n",
    "\n",
    "```python\n",
    "while <condición> :\n",
    "    <Bloque de código>\n",
    "```\n",
    "\n",
    "En el ciclo **`while`** la **`<condición>`** se evalúa al inicio de cada iteración. Si la condición es verdadera, se ejecuta el **`<Bloque de código>`** que está en el cuerpo del ciclo. Si la condición es falsa, el ciclo termina y se continúa con la línea de código que está después del ciclo."
   ]
  },
  {
   "cell_type": "markdown",
   "metadata": {},
   "source": [
    "<div class=\"alert alert-block alert-danger\" style=\"border-radius: 10px; border: 1px solid #B71C1C;\">📌 <b>Recuerde:</b> <span style=\"color:#000000;\"> en el ciclo  <b style=\"font-family:'Courier New'; font-size:16px;\"> while </b> es necesario iniciarlizar la variable de control antes del ciclo y asegurarse de modificar el valor de esta variable para evitar un ciclo infinito. </span>\n",
    "</div>"
   ]
  },
  {
   "cell_type": "markdown",
   "metadata": {
    "editable": true,
    "slideshow": {
     "slide_type": ""
    },
    "tags": []
   },
   "source": [
    "#### 💫 <b>Ejemplo - Mostrar los números del 1 al 5</b>\n",
    "\n",
    "Iniciemos con un ejemplo sencillo: mostremos en la pantalla los números del 1 al 5:"
   ]
  },
  {
   "cell_type": "code",
   "execution_count": null,
   "metadata": {},
   "outputs": [],
   "source": [
    "# Usaremos La variable i para controlar el ciclo, por lo que inicializamos esta variable en 1\n",
    "i = 1\n",
    "\n",
    "# El ciclo debe mostrar la variable i, MIENTRAS su valor sea menor o igual a 5\n",
    "while (i <= 5):\n",
    "    print(i)\n",
    "\n",
    "    # Recuerde que se debe actualizar la varible de control en el ciclo\n",
    "    i += 1"
   ]
  },
  {
   "cell_type": "markdown",
   "metadata": {},
   "source": [
    "El ciclo está controlado por la variable contadora `i`. Esta variable se inicializa **antes** del ciclo en el valor de 1. Luego, la condición del ciclo nos indica que este se repetirá mientras que la condición, `i <= 5`, sea verdadera. Como la variable `i` incrementa de 1 en 1, el ciclo se repite 5 veces. En la sexta iteración, cuando `i` vale 6, la condición se vuelve Falsa porlo que termina la ejecución del ciclo. "
   ]
  },
  {
   "cell_type": "markdown",
   "metadata": {
    "editable": true,
    "slideshow": {
     "slide_type": ""
    },
    "tags": []
   },
   "source": [
    "#### 💫 <b>Ejemplo - Mostrar los números del 20 al 15</b>\n",
    "\n",
    "Hagamos otro ejemplo, ahora mostremos los números del 20 al 15 en reversa. Para hacer esto debemos usar un ciclo con una variable que inicie en 20 y disminuya su valor, de uno en uno, hasta llegar a 15."
   ]
  },
  {
   "cell_type": "code",
   "execution_count": null,
   "metadata": {},
   "outputs": [],
   "source": [
    "# Usamos la variable i para controlar el ciclo. Iniciamos esta variable en 20\n",
    "i = 20\n",
    "\n",
    "# Como la variable decrementa el ciclo se ejecuta mienttras que su valor sea mayor o igual que 15, que es nuestro límite inferior\n",
    "while (i >= 15):\n",
    "    print(i)\n",
    "\n",
    "    # No olvidemos actualizar la variable de control\n",
    "    i -= 1"
   ]
  },
  {
   "cell_type": "markdown",
   "metadata": {
    "editable": true,
    "slideshow": {
     "slide_type": ""
    },
    "tags": []
   },
   "source": [
    "#### 💫 <b>Ejemplo - Validación de un dato de entrada</b>\n",
    "\n",
    "Como en los dos ejemplos anteriores se conoce el número repeticiones del ciclo, estos podian resolverse con un ciclo **`for`**. Sin embargo, hay problemas en los que no conocemos cuántas veces se va a repetir el ciclo, y en ese caso debemos usar un ciclo **`while`**. Un ejemplo de esta situación es cuando debemos validar un dato de entrada de un usuario y debemos usar un ciclo `while` porque no sabemos cuántas veces se equivocará el usaurio ingresando el dato.\n",
    "\n",
    "Este es un ejemplo de cómo usamos el ciclo `while` para validar que el usaurio ingrese un número entero positivo."
   ]
  },
  {
   "cell_type": "code",
   "execution_count": null,
   "metadata": {},
   "outputs": [],
   "source": [
    "# Vamos a usar la variable num para controlar el ciclo. \n",
    "# Iniciamos num en -1 para forzar la entrada al ciclo.\n",
    "num = -1\n",
    "\n",
    "# Hacemos que el ciclo se repita mientras que el valor ingresado sea menor a 0\n",
    "while (num < 0):\n",
    "    \n",
    "    # Ahora, pedimos el dato al usuario e intentamos convertirlo en un número \n",
    "    try:\n",
    "        num = int(input(\"Ingrese un número entero positivo: \"))\n",
    "\n",
    "        # Verificamos si el número recien ingresado es positivo o no para mostrar un error\n",
    "        if (num < 0):\n",
    "            print (f\"Error, el número debe ser mayor o igual a 0. Vuelva a intentarlo!\\n\")\n",
    "    \n",
    "    # En caso de que el try genere un error porque no se ingresó un número\n",
    "    except ValueError:\n",
    "        print (f\"Error, debe ingresar un número. Vuelva a intentarlo!\\n\")\n",
    "        num = -1\n",
    "        \n",
    "\n",
    "# Por fuera del ciclo mostramos un mensaje indicando que el número ingresado es válido.\n",
    "print(f\"Muy bien! El número {num} está correctamente validado.\")"
   ]
  },
  {
   "cell_type": "markdown",
   "metadata": {},
   "source": [
    "En este ejemplo, se pide al usuario que ingrese un número entero positivo. El ciclo `while` lo usamos para repetir la solicitud hasta que el usuario ingrese un número válido. Si el usuario ingresa un valor que no es un número entero o un número negativo, el programa muestra un mensaje de error y vuelve a solicitar que se ingrese el número.\n",
    "\n",
    "Una vez que el usuario ingresa un número válido (un número entero positivo), el programa muestra el número válido ingresado. El ciclo `while` se utiliza aquí para garantizar que el programa solo continúe cuando se haya ingresado un dato válido según los criterios establecidos."
   ]
  },
  {
   "cell_type": "markdown",
   "metadata": {},
   "source": [
    "<div class=\"alert alert-block alert-warning\" style=\"color:#8C6900; border-radius: 10px; border: 1px solid #B28500;\">📢 <b>Nota:</b> <span style=\"color:#000000;\"> en este ejemplo estamos usando una estructura llamada <b style=\"font-family:'Courier New'; font-size:15px;\">try-except</b> que nos permite intentar hacer algo (usando el <b style=\"font-family:'Courier New'; font-size:15px;\">try</b>) y capturar algún error que se pueda generar (usando el <b style=\"font-family:'Courier New'; font-size:15px;\">except</b>). A esto se le llama manejo de excepciones y son útiles para que el programador controle posibles errores que pueden hacer que se rompa la ejecución del programa. </span></div>"
   ]
  },
  {
   "cell_type": "markdown",
   "metadata": {
    "editable": true,
    "slideshow": {
     "slide_type": ""
    },
    "tags": []
   },
   "source": [
    "#### 💫 <b>Ejemplo - Interactuando con el usuario</b>\n",
    "\n",
    "Otro caso en el que podemos usar el ciclo `while` es para interactuar con el usuario. En este ejemplo el ciclo pregunta al usuario si desea continuar y mientras el usuario responda que si, el ciclo se repetirá. "
   ]
  },
  {
   "cell_type": "code",
   "execution_count": null,
   "metadata": {},
   "outputs": [],
   "source": [
    "# Nuestra variable de control es resp, la inicializamos con un valor que nos permita ingresar al ciclo en la primera iteración\n",
    "resp = \"si\"\n",
    "cont = 0\n",
    "\n",
    "# El ciclo se repectirá mientras el usuario conteste que si\n",
    "while (resp.lower() == \"si\"):\n",
    "    print(\"\\nEstamos dentro del ciclo.\")\n",
    "    resp = input(\"¿Quieres continuar? (si/no): \")\n",
    "    if (resp.lower() == \"si\"):\n",
    "        cont += 1\n",
    "\n",
    "print(f\"\\nYa hemos salido del ciclo y {cont} veces responddiste que si!\")\n"
   ]
  },
  {
   "cell_type": "markdown",
   "metadata": {
    "editable": true,
    "slideshow": {
     "slide_type": ""
    },
    "tags": []
   },
   "source": [
    "#### 💫 <b>Ejemplo - Menú de selección de opciones</b>\n",
    "\n",
    "En muchas aplicaciones es común que el usuario requiera seleccionar qué quiere hacer. En este caso podemos usar el cilo `while` para interactuar con el usuario. Considere el siguiente ejemplo en el cual usaremos una clase llamada Calculadora para realizar las 4 operaciones básicas."
   ]
  },
  {
   "cell_type": "code",
   "execution_count": null,
   "metadata": {},
   "outputs": [],
   "source": [
    "# Esta clase nos permite realizar las cuatro operaciones básicas de una calculadora\n",
    "class Calculadora:\n",
    "    \n",
    "    def sumar(self, a, b):\n",
    "        return a + b\n",
    "\n",
    "    def restar(self, a, b):\n",
    "        return a - b\n",
    "\n",
    "    def multiplicar(self, a, b):\n",
    "        return a * b\n",
    "\n",
    "    def dividir(self, a, b):\n",
    "        if (b != 0):\n",
    "            return a/b\n",
    "        else:\n",
    "            return None\n",
    "            "
   ]
  },
  {
   "cell_type": "markdown",
   "metadata": {},
   "source": [
    "Ahora, usemos un ciclo while para que el usuario pueda interactuar con las diferentes operaciones de la calculadora"
   ]
  },
  {
   "cell_type": "code",
   "execution_count": null,
   "metadata": {},
   "outputs": [],
   "source": [
    "# Creamos un objeto de la clase Calculadora\n",
    "cal = Calculadora()\n",
    "\n",
    "# Creamos la variable que controlará nuestro ciclo\n",
    "opcion = 0\n",
    "\n",
    "# La opción 5 del menú será terminar el programa, por eso el ciclo se repite mientras se escoja una opción diferente a 5\n",
    "while (opcion != 5):\n",
    "    \n",
    "    # Mostramos el menú de opciones\n",
    "    print(\"\\nMenú de Opciones:\")\n",
    "    print(\"1. Sumar dos números\")\n",
    "    print(\"2. Restar dos números\")\n",
    "    print(\"3. Multiplicar dos números\")\n",
    "    print(\"4. Dividir dos números\")\n",
    "    print(\"5. Salir\")\n",
    "\n",
    "    opcion = int(input(\"Elige una opción: \"))\n",
    "\n",
    "    # Pedimos los números a operar\n",
    "    if (opcion != 5):\n",
    "        num1 = float(input(\"\\nIngresa el primer número: \"))\n",
    "        num2 = float(input(\"Ingresa el segundo número: \"))\n",
    "\n",
    "    # Ejecutamos lo que corresponde respecto a la opción seleccionada usando un condicional múltiple\n",
    "    match opcion:\n",
    "        case  1:\n",
    "            resultado = cal.sumar(num1, num2)\n",
    "            print(\"El resultado de la suma es:\", resultado)\n",
    "        case 2:\n",
    "            resultado = cal.restar(num1, num2)\n",
    "            print(\"El resultado de la resta es:\", resultado)\n",
    "        case 3:\n",
    "            resultado = cal.multiplicar(num1, num2)\n",
    "            print(\"El resultado de la multiplicación es:\", resultado)\n",
    "        case 4:\n",
    "            resultado = cal.dividir(num1, num2)\n",
    "            # Si el resultado de la división es None es porque hubo un error\n",
    "            if (resultado == None):\n",
    "                print(\"Error, no se puede hacer una división por 0\")\n",
    "            else:\n",
    "                print(\"El resultado de la división es:\", resultado)        \n",
    "        case 5:\n",
    "            print(\"¡Hasta luego!\")\n",
    "        case _:\n",
    "            print(\"Opción no válida. Por favor, elige una opción del 1 al 5.\")\n"
   ]
  },
  {
   "cell_type": "markdown",
   "metadata": {},
   "source": [
    "En este ejemplo usamos un ciclo `while` para mostrar continuamente el menú de opciones hasta que el usuario elija la opción \"5\" para salir. Dentro del ciclo, se solicita al usuario que elija una opción, se piden los números a operar y se ejecuta la acción correspondiente según la opción seleccionada. Esto último se hace a partir del objeto `cal` de la clase `Calculadora`. Si el usuario elige una opción inválida, se muestra un mensaje de error, lo mismo que cuando se intenta hacer una división por cero."
   ]
  },
  {
   "cell_type": "markdown",
   "metadata": {
    "editable": true,
    "slideshow": {
     "slide_type": ""
    },
    "tags": []
   },
   "source": [
    "## 📓 <b>Ciclos anidados</b>\n",
    "\n",
    "Recuerde que un ciclo anidado es un ciclo que está contenido dentro de otro ciclo. Es decir, hay un ciclo (el interno) que está en el cuerpo de otro ciclo (el externo). \n",
    "\n",
    "Vamos a ver un par de ejemplos con ciclos anidados usando la estructura **`while`**"
   ]
  },
  {
   "cell_type": "markdown",
   "metadata": {
    "editable": true,
    "slideshow": {
     "slide_type": ""
    },
    "tags": []
   },
   "source": [
    "#### 💫 <b>Ejemplo - Ciclos Anidados</b>\n",
    "\n",
    "Este es un ejemplo de ciclos anidados utilizando las estructuras while y for de manera simultánea en Python."
   ]
  },
  {
   "cell_type": "code",
   "execution_count": null,
   "metadata": {},
   "outputs": [],
   "source": [
    "# Ciclo while\n",
    "# Ese ciclo se repite 3 veces\n",
    "i = 1\n",
    "while (i <= 3):\n",
    "    print(f\"Ciclo externo i = {i}\")\n",
    "    \n",
    "    # Ciclo for\n",
    "    # Este ciclo se repite 2 veces\n",
    "    for j in range(1, 3):\n",
    "        print(f\"   Ciclo interno j = {j}\")\n",
    "\n",
    "    # Aumento la var que controla el ciclo while\n",
    "    i += 1\n"
   ]
  },
  {
   "cell_type": "markdown",
   "metadata": {},
   "source": [
    "Este ejemplo muestra como es el funcionamiento general de los ciclos anidados. El ciclo externo (el while) hace 3 iteraciones, mientras que el ciclo interno (el for) hace 2 iteraciones, por cada iteración del while. Es importante notar que el contador del ciclo interno (que es un for) se \"reinicia\" de manera automátrica cada vez que empieza una nueva iteración del ciclo externo."
   ]
  },
  {
   "cell_type": "markdown",
   "metadata": {
    "editable": true,
    "slideshow": {
     "slide_type": ""
    },
    "tags": []
   },
   "source": [
    "#### 💫 <b>Ejemplo - Ciclos Anidados</b>\n",
    "\n",
    "Continuando con los ciclos anidados, el siguiente ejemplo muestra como podemos anidar dos ciclos para construir las tablas de multiplicar del 1 al 5. En este caso anidaremos un ciclo while, dentro de un ciclo for."
   ]
  },
  {
   "cell_type": "code",
   "execution_count": null,
   "metadata": {},
   "outputs": [],
   "source": [
    "# Ciclo for para recorrer los números del 1 al 5, que son a quienes se les contruirá la tabla de multiplicar\n",
    "for num in range(1, 6):\n",
    "    print(f\"\\n\\n----------------------------------\\nTabla de multiplicar del {num}\")\n",
    "    # Ciclo for para recorrer los multiplicadores del 1 al 10\n",
    "    i = 1\n",
    "    while i <= 10:\n",
    "        # Muestra la tabla de multiplicar\n",
    "        print(f\"{num} x {i} = {num * i}\")\n",
    "        i += 1\n"
   ]
  },
  {
   "cell_type": "markdown",
   "metadata": {
    "editable": true,
    "slideshow": {
     "slide_type": ""
    },
    "tags": []
   },
   "source": [
    "## 📓 <b>La instrucción break</b>\n",
    "\n",
    "Como su nombre lo indica, la instrucción `break` permite \"romper\" o  detener la ejecución de un ciclo. Veamos un ejemplo:"
   ]
  },
  {
   "cell_type": "code",
   "execution_count": null,
   "metadata": {},
   "outputs": [],
   "source": [
    "# Ejemplo de la instrucción break, la cual rompe el ciclo antes de su finalización\n",
    "for i in range(1,6):\n",
    "    print(f\"Iteración # {i}\")\n",
    "    \n",
    "    #El ciclo se rompe en la iteración 3, por lo que no llegará a la iteración 5\n",
    "    if (i == 3):\n",
    "        print(\"Aquí se rompe el ciclo ...\")\n",
    "        break\n",
    "        \n",
    "print(\"Aquí termina la ejecución del ciclo!\")"
   ]
  },
  {
   "cell_type": "markdown",
   "metadata": {},
   "source": [
    "En este ejemplo, el ciclo for está diseñado para ejecutarse 5 veces (del 1 al 5); sin emebrago, la instrucción break rompe el ciclo en la iteración 3, lo que evita que el ciclo termine su ejecución normal."
   ]
  },
  {
   "cell_type": "markdown",
   "metadata": {},
   "source": [
    "#### 💫 <b>Ejemplo - Uso de la instrucción break</b>\n",
    "\n",
    "En este ejemplo, vamos a simular un juego de \"Adivina el número\" donde el usuario debe adivinar un número secreto generado aleatoriamente por el programa."
   ]
  },
  {
   "cell_type": "code",
   "execution_count": null,
   "metadata": {},
   "outputs": [],
   "source": [
    "import random\n",
    "\n",
    "# Generamos un número aleatorio entre 1 y 10\n",
    "numero_secreto = random.randint(1, 10)\n",
    "\n",
    "# Inicializamos la variable que contendrá el intento del usuario\n",
    "intentos = 0\n",
    "\n",
    "# Este ciclo se repetirá infinitas veces y \"romperá\" su ejecución cuando se adivine el número\n",
    "while (True):\n",
    "    # Incrementamos el contador de intentos\n",
    "    intentos += 1\n",
    "    \n",
    "    # Pedimos al usuario que ingrese un número\n",
    "    numero_usuario = int(input(\"Adivina el número (entre 1 y 10): \"))\n",
    "    \n",
    "    # Verificamos si el número ingresado es igual al número secreto\n",
    "    if (numero_usuario == numero_secreto):\n",
    "        print(f\"¡Felicidades! ¡Has adivinado el número en {intentos} intentos!\")\n",
    "        break  # Salimos del ciclo while cuando el usuario adivina correctamente\n",
    "    elif (numero_usuario < numero_secreto):\n",
    "        print(f\"El número secreto es mayor que {numero_usuario}. Inténtalo de nuevo.\")\n",
    "    else:\n",
    "        print(f\"El número secreto es menor que {numero_usuario} . Inténtalo de nuevo.\")\n"
   ]
  },
  {
   "cell_type": "markdown",
   "metadata": {},
   "source": [
    "En este ejemplo hay un ciclo \"especial\", el cual es un ciclo infinito, pero que se rompe cuando el número ingresado por el usurio es igual al número generado de manera aleatoria por la máquina."
   ]
  },
  {
   "cell_type": "markdown",
   "metadata": {},
   "source": [
    "# <b>Ejercicio - Cargando camiones con bananos 🍌🐒🚚 </b> \n",
    "\n",
    "Ahora vamos a resolver un problema usando ciclos anidados y la POO en Python.\n",
    "\n",
    "La empresa **\"Bananos el monito\"** distribuye cargas de banano hacia diferentes centrales mayoristas del país, esto lo hace en su propia flota de camiones. La empresa quiere desarrollar un programa que permita al operario del muelle diligenciar por cada camión la siguiente información: la marca del camión, su placa, el nombre del conductor, la ciudad de destino (Bogotá, Medellín, Cali, Barranquilla, Pereira o Manizales) y la capacidad máxima de carga del camión. La empresa usa tantos caminiones como se requieran para despachar todo el lote de bananos cosechado, los cuales se encuentran almacenados en cajas que tienen un peso variable entre 50 y 100 Kg. \n",
    "\n",
    "Tras ingresar la información del camión, el operador debe indicarle al programa el peso de cada caja que será cargada. El programa debe decidir si la caja puede ser o no cargada en el camión no, de acuerdo a si al cargar la caja el peso de esta no sobrepasa la carga máxima del camión. En caso de que la caja no se pueda cargar, esta debe ser cargada en el siguiente camión. Después de cargar cada caja, se debe preguntar si hay más cajas por cargar.\n",
    "\n",
    "Al finalizar, el programa debe mostrar cuántos camiones se despacharon en total y cuál es la carga total que se envió a cada ciudad. También se debe mostrar el número promedio de cajas cargadas por camión."
   ]
  },
  {
   "cell_type": "markdown",
   "metadata": {},
   "source": [
    "### Análisis del Problema\n",
    "📝 **Requerimientos**\n",
    "  * R1. Registrar los camiones de la empresa\n",
    "  * R2. Cargar la cosecha de bananos en los camiones\n",
    "  * R3. Mostrar las estadísticas del proceso de carga\n",
    "  \n",
    "💾 **Entidades del mundo del problema:** este problema tiene dos entidades:\n",
    "  * El _**Camión**_ del que se debe almacenar su marca (una cadena de texto), placa (una cadena de texto), el nombre del conductor (una cadena de texto), la ciudad de destino (una cadena de texto) y su capacidad máxima de carga (un entero), el peso total de la carga (entero inicializado en 0), el número de cajas cargadas\n",
    "  * La _**Empresa**_ que es la clase que hará las veces de la clase principal y la que permitirá cargar los camiones con la cosecha de bananos.\n",
    "\n",
    "🔬 **Detalle de los requerimientos**\n",
    "  * _**Requerimiento R1 - Registrar los camiones de la empresa**_\n",
    "    - 📥 _Entradas:_ la información del camión\n",
    "    - 📤 _Salidas:_ un mensaje indicando que el camión se creó y que se puede proceder a cargarlo\n",
    "    - ⚙️ _Proceso:_ se crea un objeto camión y solicita por pantalla la información de este \n",
    "  * _**Requerimiento R2 - Cargar la cosecha de bananos**_\n",
    "    - 📥 _Entradas:_ el camión que será cargado y el peso de cada caja que será cargada en el camión\n",
    "    - 📤 _Salidas:_ tras agregar una caja se de preguntar si hay más cajas por cargar al camión\n",
    "    - ⚙️ _Proceso:_ se verifica si con cada caja no se excede el límite de carga, de ser así se debe despachar el camión actual e iniciar la carga de un camión nuevo. Si la caja no excede la carga, esta se carga al camión sumando su peso al total cargado del camión.\n",
    "  * _**Requerimiento R3 - Mostrar las estadísticas del proceso de carga**_\n",
    "    - 📥 _Entradas:_ la información de los camiones tras terminar la carga\n",
    "    - 📤 _Salidas:_ un mensaje mostrando las estadísticas solicitadas\n",
    "    - ⚙️ _Proceso:_ se debe contar el número de camiones despachados y se debe calcular el total de carga enviado a cada ciudad (deben haber 6 acumuladores de carga), se debe sumar el número total de cajas cargadas y dividirlas por el número de camiones para calcular el promedio de cajas cargadas por camión.\n",
    "   "
   ]
  },
  {
   "cell_type": "markdown",
   "metadata": {},
   "source": [
    "  \n",
    " ### Diagrama de clases\n",
    " \n",
    "Con base en la información del Análisis del Problema, encontramos que se requiere modelar dos clases: Camión y Empresa. Desarrolle un posible diseño de las clases."
   ]
  },
  {
   "cell_type": "markdown",
   "metadata": {},
   "source": [
    "## Desarrollo de la solución\n",
    "\n",
    "Ahora implementamos las clase en Python. Iniciamos con las clases que no dependen de ninguna otra, es decir, con la clase Cliente."
   ]
  },
  {
   "cell_type": "code",
   "execution_count": null,
   "metadata": {},
   "outputs": [],
   "source": [
    "class Camion:\n",
    "    \n",
    "    # Atributos de la clase\n",
    "    marca = str\n",
    "    placa = str\n",
    "    conductor = str\n",
    "    ciudad = int # La ciudad se configura como un entero y se usan constantes\n",
    "    carga_maxima = int\n",
    "    carga_cargada = int\n",
    "\n",
    "    # Constantes de la clase\n",
    "    CIUDAD_BOGOTA = 1\n",
    "    CIUDAD_MEDELLIN = 2\n",
    "    CIUDAD_CALI = 3\n",
    "    CIUDAD_BARRNAQUILLA = 4\n",
    "    CIUDAD_PEREIRA = 5\n",
    "    CIUDAD_MANIZALES = 6\n",
    "   \n",
    "    # Método constructor\n",
    "    def __init__(self, marca=None, placa=None, conductor=None, ciudad=None, carga_maxima=0):\n",
    "        self.marca = marca\n",
    "        self.placa = placa\n",
    "        self.conductor = conductor\n",
    "        self.ciudad = ciudad\n",
    "        self.carga_maxima = carga_maxima\n",
    "        self.carga_cargada = 0\n",
    "        \n",
    "    \n",
    "    # Método para pedir los datos del camión por consola\n",
    "    def pedir_datos(self):\n",
    "        self.marca = input(\"Ingrese la marca del Camión: \")\n",
    "        self.placa = input(\"Ingrese la placa del Camión: \")\n",
    "        self.conductor = input(\"Ingrese el nombre del Conductor: \")\n",
    "        print(\"Posibles ciudades de destino: \\n1. Bogotá \\n2. Medellín \\n3. Cali \\n4. Barranquilla \\n5. Pereira \\n 6. Manizales\")\n",
    "        self.ciudad = int(input(\"Seleccione la ciudad: \"))\n",
    "        self.carga_maxima = int(input(\"Ingrese la carga máxima que puede transportar el camión: \"))\n",
    "        self.carga_cargada = 0\n",
    "       \n",
    "    # Método que permite cargar una caja en el camión\n",
    "    def cargar_caja(self, peso_de_la_caja):\n",
    "        if (self.carga_cargada + peso_de_la_caja <= self.carga_maxima):\n",
    "            self.carga_cargada += peso_de_la_caja\n",
    "            return True\n",
    "        else:\n",
    "            return False\n"
   ]
  },
  {
   "cell_type": "code",
   "execution_count": null,
   "metadata": {},
   "outputs": [],
   "source": [
    "class Empresa:\n",
    "\n",
    "    # Método constructor\n",
    "    def __init__(self):\n",
    "        pass\n",
    "\n",
    "    # Método que despacha la cosecha de bananos y muestra las estadísticas asociadas al proceso\n",
    "    def despachar_cosecha(self):\n",
    "        \n",
    "        # Variables locales al método\n",
    "        carga_BOG = 0\n",
    "        carga_CAL = 0\n",
    "        carga_MED = 0\n",
    "        carga_BAR = 0\n",
    "        carga_PER = 0\n",
    "        carga_MAN = 0\n",
    "        \n",
    "        num_camiones = 0\n",
    "        num_cajas = 0\n",
    "\n",
    "        resp = \"Si\"\n",
    "        camion_actual = None\n",
    "        registrar_camion = True\n",
    "\n",
    "        print (\"***************\\nINICIANDO EL PROCESO DE CARGA\\n***************\")\n",
    "        \n",
    "        while (resp.lower() == \"si\"):\n",
    "            num_cajas += 1\n",
    "            caja_cargada = False \n",
    "\n",
    "            # Valida el peso de la cajas\n",
    "            while(True):\n",
    "                try:\n",
    "                    peso_caja = float(input(f\"Ingrese el peso (en Kg) de la caja # {num_cajas}: \"))\n",
    "                    if (peso_caja < 50 or peso_caja > 100):\n",
    "                        print(\"Error, el peso permitido para las cajas es entre 50 y 100 kg, inclusives. Ingrese el peso nuevamente.\")\n",
    "                    else:\n",
    "                        break\n",
    "                except:\n",
    "                    print(\"Error, el peso de las cajas debe ser un núemro real. Ingrese el peso nuevamente.\")\n",
    "\n",
    "            if (camion_actual != None):\n",
    "                caja_cargada = camion_actual.cargar_caja(peso_caja)\n",
    "                if (caja_cargada == False):\n",
    "                    print(f\"El camión con placa {camion_actual.placa} se ha llenado y por tanto se despacha a su ciudad de destino!\")\n",
    "                    print(f\"A continuación debe crear un nuevo camión para cargar la caja\")\n",
    "                \n",
    "            # Si el camión no existe o no se cargó la caja, se debe crear un camión para cargarla\n",
    "            if (camion_actual == None or caja_cargada == False):\n",
    "                print (\"\\n\\n --- Ingrese la información del Camión que se va a cargar ---\")\n",
    "                camion_actual = Camion()\n",
    "                camion_actual.pedir_datos()\n",
    "                num_camiones += 1\n",
    "\n",
    "                # Carga la caja en el nuevo camión\n",
    "                caja_cargada = camion_actual.cargar_caja(peso_caja)\n",
    "\n",
    "            # Depués de cargar la caja se verifica la ciudad de destino del camión para aumentar el acumulador de carga\n",
    "            if (camion_actual.ciudad == Camion.CIUDAD_BOGOTA):\n",
    "                carga_BOG += peso_caja\n",
    "            elif (camion_actual.ciudad == Camion.CIUDAD_MEDELLIN):\n",
    "                carga_MED += peso_caja\n",
    "            elif (camion_actual.ciudad == Camion.CIUDAD_CALI):\n",
    "                carga_CAL += peso_caja\n",
    "            elif (camion_actual.ciudad == Camion.CIUDAD_BARRANQUILLA):\n",
    "                carga_BAR += peso_caja\n",
    "            elif (camion_actual.ciudad == Camion.CIUDAD_PEREIRA):\n",
    "                carga_PER += peso_caja\n",
    "            else:\n",
    "                carga_MAN += peso_caja\n",
    "\n",
    "            # Se pregubta si hay otra caja por despachar\n",
    "            resp = input(\"¿Hay más cajas para despachar? (si/no)\")\n",
    "        \n",
    "        # Al terminar de cargar las cajas se muestran las estadísticas\n",
    "        print(f\"Total de Camiones cragados: {num_camiones}\")\n",
    "        print(f\"Cada camión se cargo en promedio con {num_cajas/num_camiones:.2f}\")\n",
    "        print(f\"Carga despachada a Bogota: {carga_BOG} Kg\")\n",
    "        print(f\"Carga despachada a Medellín: {carga_MED} Kg\")\n",
    "        print(f\"Carga despachada a Cali: {carga_CAL} Kg\")\n",
    "        print(f\"Carga despachada a Barranquilla: {carga_BAR} Kg\")\n",
    "        print(f\"Carga despachada a Pereira: {carga_PER} Kg\")\n",
    "        print(f\"Carga despachada a Manizales: {carga_MAN} Kg\")\n",
    "        \n",
    "                "
   ]
  },
  {
   "cell_type": "code",
   "execution_count": null,
   "metadata": {},
   "outputs": [],
   "source": [
    "el_monito = Empresa()\n",
    "el_monito.despachar_cosecha()"
   ]
  },
  {
   "cell_type": "code",
   "execution_count": null,
   "metadata": {},
   "outputs": [],
   "source": []
  }
 ],
 "metadata": {
  "kernelspec": {
   "display_name": "Python 3 (ipykernel)",
   "language": "python",
   "name": "python3"
  },
  "language_info": {
   "codemirror_mode": {
    "name": "ipython",
    "version": 3
   },
   "file_extension": ".py",
   "mimetype": "text/x-python",
   "name": "python",
   "nbconvert_exporter": "python",
   "pygments_lexer": "ipython3",
   "version": "3.11.5"
  }
 },
 "nbformat": 4,
 "nbformat_minor": 4
}
