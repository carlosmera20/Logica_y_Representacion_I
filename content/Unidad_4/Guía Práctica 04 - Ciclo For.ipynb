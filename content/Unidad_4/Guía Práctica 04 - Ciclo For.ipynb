{
 "cells": [
  {
   "cell_type": "markdown",
   "metadata": {
    "editable": true,
    "slideshow": {
     "slide_type": ""
    },
    "tags": []
   },
   "source": [
    "<img src=\"https://raw.githubusercontent.com/carlosmera20/Logica_y_Representacion_I/main/content/local/imgs/encabezado.png\">\n",
    "\n",
    "<font size=4>\n",
    "📢 <b>Profesor:</b> Carlos Andres Mera Banguero - <a href=\"https://github.com/carlosmera20/\">https://github.com/carlosmera20/</a><br/>\n",
    "💻 <b>Programa:</b> Ingeniería de Sistemas <br/><br/>\n",
    "</font>"
   ]
  },
  {
   "cell_type": "markdown",
   "metadata": {
    "editable": true,
    "slideshow": {
     "slide_type": ""
    },
    "tags": []
   },
   "source": [
    "# <b>Estructura de Control Repetitiva Para-Haga<b>\n",
    "\n",
    "Las estructuras de control repetitivas, también conocidas como bucles o ciclos, permiten al programador repetir un bloque de código múltiples veces, mientras se cumpla una condición específica. Los ciclos son parte fundamental de la programación y se utilizan para automatizar tareas repetitivas, procesar colecciones de datos, realizar operaciones aritméticas iterativas, entre muchas otras."
   ]
  },
  {
   "cell_type": "markdown",
   "metadata": {
    "editable": true,
    "slideshow": {
     "slide_type": ""
    },
    "tags": []
   },
   "source": [
    "## 🚀 <b>Objetivo</b>\n",
    "\n",
    "Esta guía de trabajo práctica tiene como objetivo introducir las estructura **`for`** e ilustrar su uso en el diseño de programas que solucionan problemas que requieren la repetición de bloques de código."
   ]
  },
  {
   "cell_type": "markdown",
   "metadata": {
    "editable": true,
    "slideshow": {
     "slide_type": ""
    },
    "tags": []
   },
   "source": [
    "## 🎯 <b>Introducción</b>\n",
    "\n",
    "Como hemos visto, un programa es una secuencia de instrucciones que se ejecutan una, después de la otra. Un simil, es pensar un programa como una receta de cocina en la que si seguimos los pasos de la receta uno a uno en orden, al final tendremos nuestra preparación terminada.\n",
    "\n",
    "por ejemplo, pensemos en un \"programa\" para preparar un plato de arroz con pollo. Usando funciones, más o menos la solución puede ser esta:\n",
    "\n",
    "```python\n",
    "preparar_arroz_amarillo()\n",
    "cocinar_verduras()\n",
    "cocinar_sofrito()\n",
    "cocinar_pollo()\n",
    "desmechar_pollo()\n",
    "mezclar_pollo_sofrito()\n",
    "mezclar_arroz_pollo_y_verduras()\n",
    "servir_arroz()\n",
    "```"
   ]
  },
  {
   "cell_type": "markdown",
   "metadata": {
    "editable": true,
    "slideshow": {
     "slide_type": ""
    },
    "tags": []
   },
   "source": [
    "Ahora, ¿qué pasa si tenemos comensales vegetarianos?. No hay problema, en ese caso podemos usar un condicional y tomar la decisión de que si el comensal es vegetariano, pues no usamos el pollo, así:\n",
    "\n",
    "```python\n",
    "preparar_arroz_amarillo()\n",
    "cocinar_verduras()\n",
    "cocinar_sofrito()\n",
    "if not es_vegetariano():\n",
    "    cocinar_pollo()\n",
    "    desmechar_pollo()\n",
    "    mezclar_pollo_sofrito()\n",
    "    mezclar_arroz_pollo_y_verduras()\n",
    "else:\n",
    "    mezclar_sofrito_verduras()\n",
    "    mezclar_arroz_verduras()\n",
    "\n",
    "servir_arroz()\n",
    "```"
   ]
  },
  {
   "cell_type": "markdown",
   "metadata": {
    "editable": true,
    "slideshow": {
     "slide_type": ""
    },
    "tags": []
   },
   "source": [
    "Pero, ¿y si tengo que preparar 100 platos?. En ese caso, la solución que piensas de copiar y pegar 100 veces el código anterior no es eficiente!. Es aquí cuando debemos usar una estructura repetitiva, para repetir 100 veces la misma receta, por ejemplo así:\n",
    "\n",
    "```python\n",
    "for i in (100):\n",
    "    preparar_arroz_amarillo()\n",
    "    cocinar_verduras()\n",
    "    cocinar_sofrito()\n",
    "    if not es_vegetariano():\n",
    "        cocinar_pollo()\n",
    "        desmechar_pollo()\n",
    "        mezclar_pollo_sofrito()\n",
    "        mezclar_arroz_pollo_y_verduras()\n",
    "    else:\n",
    "        mezclar_sofrito_verduras()\n",
    "        mezclar_arroz_verduras()\n",
    "\n",
    "    servir_arroz()\n",
    "```\n",
    "\n",
    "Como puedes ver, el código anterior haría lo mismo que copiar y pegar la receta 100 veces, pero es mucho más compacto y elegante. Veamos entonces las estructuras repetitivas en Python."
   ]
  },
  {
   "cell_type": "markdown",
   "metadata": {
    "editable": true,
    "slideshow": {
     "slide_type": ""
    },
    "tags": []
   },
   "source": [
    "## 📓 <b>Ciclo for</b>\n",
    "\n",
    "En general, el ciclo **`for`** (o ciclo **Para-Haga**) es una estructura de control cíclica que nos permiten ejecutar un bloque de código de forma iterativa (o repetitiva) un número determinado de veces. \n",
    "\n",
    "La sintaxis de un ciclo **`for`** en Python, de la manera como lo hemos usado, es la siguiente:\n",
    "\n",
    "```python\n",
    "for <var> in range(valor_inicial, valor_final, incremento):\n",
    "    <Bloque de código>\n",
    "```\n",
    "Como puedes ver, la \"magia\" está en la función range() de Python, pues con esta función definimos en qué valor inicia el ciclo, en qué valor termina, y de cuanto es el incremento."
   ]
  },
  {
   "cell_type": "markdown",
   "metadata": {},
   "source": [
    "<div class=\"alert alert-block alert-danger\" style=\"border-radius: 10px; border: 1px solid #B71C1C;\">📌 <b>Importante:</b> <span style=\"color:#000000;\"> la función <b style=\"font-family:'Courier New'; font-size:15px;\">range()</b> siempre omite de la secuencia el <span style=\"font-family:'Courier New'; font-size:15px;\">valor_final</span>; es decir, la secuencia de números que se genera inicia en <span style=\"font-family:'Courier New'; font-size:15px;\">valor_inicial</span> pero llega hasta <span style=\"font-family:'Courier New'; font-size:15px;\">valor_final-1</span>.</span></div>"
   ]
  },
  {
   "cell_type": "markdown",
   "metadata": {
    "editable": true,
    "slideshow": {
     "slide_type": ""
    },
    "tags": []
   },
   "source": [
    "#### 💫 <b>Ejemplo</b>\n",
    "Veamos un ejemplo sencillo, mostremos en la pantalla los números del 1 al 8 utilizando un ciclo `for`. En este caso se deben mostrar los números 1, 2, ..., y 8. Para crear esta lista de números utilizamos el ciclo `for` así:"
   ]
  },
  {
   "cell_type": "code",
   "execution_count": null,
   "metadata": {
    "editable": true,
    "slideshow": {
     "slide_type": ""
    },
    "tags": []
   },
   "outputs": [],
   "source": [
    "# Para mostrar los números del 1 al 8 iteramos sobre una lista de números creada con la función range\n",
    "for i in range(1, 9, 1):\n",
    "    print(i)"
   ]
  },
  {
   "cell_type": "markdown",
   "metadata": {
    "editable": true,
    "slideshow": {
     "slide_type": ""
    },
    "tags": []
   },
   "source": [
    "Aquí la variable del ciclo, `i`, toma los valores de la lista de números que genera la función `range()`, los cuales se muestran en el cuerpo del ciclo. note que la lista de números inicia en 1 y termina en 8, incrementando de uno en uno. Nuevamente, el valor 9 (que es el límite no se muestra)."
   ]
  },
  {
   "cell_type": "markdown",
   "metadata": {
    "editable": true,
    "slideshow": {
     "slide_type": ""
    },
    "tags": []
   },
   "source": [
    "#### 💫 <b>Ejemplo</b>\n",
    "Pedir un número al usuario y luego mostrar el cuadrado de ese número y sus 4 sucesores."
   ]
  },
  {
   "cell_type": "code",
   "execution_count": null,
   "metadata": {
    "editable": true,
    "slideshow": {
     "slide_type": ""
    },
    "tags": []
   },
   "outputs": [],
   "source": [
    "# Iniciamos pidiendo el número al usuario y los almacenamos en la variable num\n",
    "num = int(input(\"Ingrese un número: \"))\n",
    "\n",
    "# El ciclo for recorre la lista de números que inicia en num y llega hasta num+5 (sin incluirlo), incrementando de 1 en 1\n",
    "for i in range(num, num+5, 1):\n",
    "    \n",
    "    # Mostramos el valor de i y el cuadrado de este valor\n",
    "    print(f\"El valor de i es {i} y su cuadrado es {i**2}\") "
   ]
  },
  {
   "cell_type": "markdown",
   "metadata": {},
   "source": [
    "#### 💫 <b>Ejemplo</b>\n",
    "Escriba una función llamada `mostrar_pares` que reciba dos números (`n1` y `n2`) como parámetros y muestre todos los números pares que hay entre `n1` y `n2`. Una posible solución a este problema es la siguiente:"
   ]
  },
  {
   "cell_type": "code",
   "execution_count": null,
   "metadata": {},
   "outputs": [],
   "source": [
    "# Definimos la función en versión v1 con los dos parámetros, n1 y n2\n",
    "def mostrar_pares_v1(n1, n2):\n",
    "    \n",
    "    # Usamos un ciclo for para ir de n1 a n2, de 1 en 1\n",
    "    for i in range(n1, n2+1, 1):\n",
    "        # verificamos si el número es par para mostrarlo\n",
    "        if (i % 2 == 0):\n",
    "            print(i)    "
   ]
  },
  {
   "cell_type": "markdown",
   "metadata": {},
   "source": [
    "Otra posible solución consiste en primero verificar si n1 es par o no e incrementar su valor de 2 en 2, en caso de serlo"
   ]
  },
  {
   "cell_type": "code",
   "execution_count": null,
   "metadata": {},
   "outputs": [],
   "source": [
    "# Definimos la función en version v2 con los dos parámetros, n1 y n2\n",
    "def mostrar_pares_v2(n1, n2):\n",
    "    # verificamos si n1 es impar para iniciar en el siguiente número que es par\n",
    "    if (n1 % 2 != 0):\n",
    "        n1 += 1\n",
    "            \n",
    "    # Usamos un ciclo for para ir del par más cercano a n1 hasta n2, de 2 en 2\n",
    "    for i in range(n1, n2+1, 2):\n",
    "        print(i) "
   ]
  },
  {
   "cell_type": "markdown",
   "metadata": {},
   "source": [
    "Verificamos las funciones mostrando los pares que hay entre 10 y 15, y depués entre 7 y 10:"
   ]
  },
  {
   "cell_type": "code",
   "execution_count": null,
   "metadata": {},
   "outputs": [],
   "source": [
    "print(\"-------\\nPares entre 10 y 15 con la funcion v1: \")\n",
    "mostrar_pares_v1(10, 15)\n",
    "print(\"-------\\nPares entre 10 y 15 con la funcion v2: \")\n",
    "mostrar_pares_v2(10, 15)\n",
    "\n",
    "print(\"\\n\\n-------\\nPares entre 7 y 10 con la funcion v1: \")\n",
    "mostrar_pares_v1(7, 10)\n",
    "print(\"-------\\nPares entre 7 y 10 con la funcion v2: \")\n",
    "mostrar_pares_v2(7, 10)"
   ]
  },
  {
   "cell_type": "markdown",
   "metadata": {},
   "source": [
    "## 📓 <b>Variables contadoras</b>\n",
    "\n",
    "Una variable **contadora** es una variable que lleva la cuenta del número de veces que se ha cumplido una determinada condición. Ahora, como la tarea de estas variables es **contar** algo, al crear estas variables debemos inicializarlas en 0."
   ]
  },
  {
   "cell_type": "markdown",
   "metadata": {},
   "source": [
    "#### 💫 <b>Ejemplo</b>\n",
    "Haga un programa que pida al usuario 10 números enteros positivos y muestre, al final, cuántos de los números ingresados fueron pares y cuántos impares. "
   ]
  },
  {
   "cell_type": "markdown",
   "metadata": {},
   "source": [
    "Para resolver este problema requerimos de dos variables contadoras, una para contar los pares y otra para contar los impares. Además, necesitamos de un ciclo que en cada **iteración** pida un número, verifique si este es par o impar e incremente el contador respectivo. El ciclo se debe tener 10 iteraciones.\n",
    "\n",
    "Veamos una posible solución a este problema.\n"
   ]
  },
  {
   "cell_type": "code",
   "execution_count": null,
   "metadata": {},
   "outputs": [],
   "source": [
    "# Creamos dos variables contadoras, una para contar los pares y otra los impares\n",
    "pares = 0    # Contador de números pares\n",
    "impares = 0  # Contador de números impares\n",
    "\n",
    "# Usamos un ciclo for que se repita 10 veces\n",
    "for i in range(10): \n",
    "\n",
    "    # Pedimos un número al usuario\n",
    "    n = int(input(f\"Ingrese el número positivo # {i+1}: \"))\n",
    "\n",
    "    # Verificamos si el número es par o impar\n",
    "    if (n%2 == 0):\n",
    "        pares += 1 # Si n es par, incrementamos en 1 el contador de pares\n",
    "    else:\n",
    "        impares += 1 # Si n es impar, incrementamos en 1 el contador de impares\n",
    "\n",
    "# Al terminar el ciclo mostramos el número de pares e impares ingresados\n",
    "print(f\"Se ingresaron {pares} números pares\")\n",
    "print(f\"Se ingresaron {impares} números impares\")"
   ]
  },
  {
   "cell_type": "markdown",
   "metadata": {},
   "source": [
    "<div class=\"alert alert-block alert-danger\" style=\"border-radius: 10px; border: 1px solid #B71C1C;\">📌 <b>Importante:</b> <span style=\"color:#000000;\"> En este ejemplo se utilizó la función <b style=\"font-family:'Courier New'; font-size:15px;\">range()</b> con un solo parámetro. Este caso, la función range genera los valores desde 0 hasta el valor ingresado como parámetro, incrementando de 1 en 1. </span></div>"
   ]
  },
  {
   "cell_type": "markdown",
   "metadata": {},
   "source": [
    "La función **`range()`** se puede usar de diferentes maneras, tres de las formas más comunes son las siguientes:\n",
    "- `range(n1, n2, n3)`: con tres parámetros, como ya se describió, se genera la lista de números que inicia en `n1` y termina máximo en `n2-1`, saltando de  `n3` en `n3`. <br>Por ejemplo, `range(5, 15, 2)` genera los números 5, 7, 9, 11 y 13.\n",
    "  "
   ]
  },
  {
   "cell_type": "code",
   "execution_count": null,
   "metadata": {},
   "outputs": [],
   "source": [
    "# Usando range con 3 parámetros\n",
    "for i in range(5, 13, 2):\n",
    "    print(i, end=\" \")"
   ]
  },
  {
   "cell_type": "markdown",
   "metadata": {},
   "source": [
    "- `range(n1, n2)`: con dos parámetros, esta función genera la lista de números que incia en `n1` y termina en `n2-1`, incrementando de 1 en 1. <br>Por ejemplo, `range(7, 12)` genera la lista de números 7, 8, 9, 10 y 11.\n",
    "  "
   ]
  },
  {
   "cell_type": "code",
   "execution_count": null,
   "metadata": {},
   "outputs": [],
   "source": [
    "# Usando range con 2 parámetros\n",
    "for i in range(7, 12):\n",
    "    print(i, end=\" \")"
   ]
  },
  {
   "cell_type": "markdown",
   "metadata": {},
   "source": [
    "- `range(n1)`: con un parámetro, esta función genera la lista de números que inicia en 0 y termina en `n1-1`, incrementando de 1 en 1. <br>Por ejemplo, `range(5)` genera la lista de números 0, 1, 2, 3 y 4. "
   ]
  },
  {
   "cell_type": "code",
   "execution_count": null,
   "metadata": {},
   "outputs": [],
   "source": [
    "# Usando range con 1 parámetro\n",
    "for i in range(5):\n",
    "    print(i, end=\" \")"
   ]
  },
  {
   "cell_type": "markdown",
   "metadata": {},
   "source": [
    "## 📓 <b>Variables acumuladoras</b>\n",
    "\n",
    "En general, una variable **acumuladora** es una variable que acumula en ella el resultado de una operación con ella misma. A diferencia de una variable contadora, la variable acumuladora acumula valores variables; por ejemplo, una variable acumuladora es una variable donde se van sumando las edades de un grupo de personas para posteriormente calcular el promedio, o el también saldo de una cuenta de ahorros, en la que el usuario siempre deposita o retira valores variables. Veamos un par de ejemplos usando variables acumuladoras."
   ]
  },
  {
   "cell_type": "markdown",
   "metadata": {},
   "source": [
    "#### 💫 <b>Ejemplo</b>\n",
    "Haga un programa que calcule y muestre la altura que en promedio tienen 5 personas.\n",
    "\n",
    "💡 Recuerde que para calcular un promedio es necesario sumar (o acumular) los datos que se van a promediar y luego dividir el resultado por el número de datos considerados. Así, para resolver el problemas debemos crear un ciclo en el que por 5 iteraciones pida la altura de una persona, la acumule y después calcule el promedio dividiendo esa suma entre 5 (que son los datos acumulados)."
   ]
  },
  {
   "cell_type": "code",
   "execution_count": null,
   "metadata": {},
   "outputs": [],
   "source": [
    "# Los contadores y acumuladores siempre se deben inicializar\n",
    "suma_alturas = 0\n",
    "cont_personas = 0\n",
    "\n",
    "# Como son 5 iteraciones, usamos un for que se repita 5 veces\n",
    "for i in range(5):\n",
    "\n",
    "    # Pedimos la altura de la persona\n",
    "    altura = float(input(f\"Ingrese la altura de la persona # {i+1}: \"))\n",
    "\n",
    "    # ACUMULADOR: Acumulamos la altura en suma_alturas\n",
    "    suma_alturas += altura\n",
    "\n",
    "    # CONTADOR: Contamos el número de personas consideradas en cont_personas\n",
    "    cont_personas += 1\n",
    "\n",
    "# Después del ciclo calculamos y mostramos el promedio\n",
    "prom_altura = suma_alturas/cont_personas\n",
    "print(f\"La altura promedio de las peronas ingresadas es: {prom_altura:.2f}\")"
   ]
  },
  {
   "cell_type": "markdown",
   "metadata": {},
   "source": [
    "## 📓 <b>Variables centinelas o banderas</b>\n",
    "\n",
    "Una variable **centinela o bandera** es una variable Booleana que indica si una condición se ha cumplido o no."
   ]
  },
  {
   "cell_type": "markdown",
   "metadata": {},
   "source": [
    "#### 💫 <b>Ejemplo</b>\n",
    "Hagamos un programa que tire dos dado 3 veces y nos diga si en alguno de los lanzamientos se obtuvo un \"par\", es decir, si en un lanzamiento los dos dados tuvieron el mismo número."
   ]
  },
  {
   "cell_type": "code",
   "execution_count": null,
   "metadata": {},
   "outputs": [],
   "source": [
    "# Como necesitamos \"tirar un dado\", requerimos importar la librearía que genera números aleatorios\n",
    "import random\n",
    "\n",
    "# Creamos las dos variables que representan los dados\n",
    "dado1 = 0\n",
    "dado2 = 0\n",
    "\n",
    "# Creamos nuestra variable centinela\n",
    "# En este caso la inciamos en Falso, lo que nos indica que NO se ha sacado un par ...\n",
    "salio_par = False\n",
    "\n",
    "# Para lanzar los dados 3 veces lo hacemos con un ciclo\n",
    "for i in range(3):\n",
    "    # Lanzamos el dado 1, en este caso generamos un valor aleatorio entre 1 y 6, ambos incluidos\n",
    "    dado1 = random.randint(1, 6)\n",
    "    # Lanzamos el dado 2\n",
    "    dado2 = random.randint(1, 6)\n",
    "\n",
    "    # Mostramos lo que se obtuvo en el lanzamiento de los dados\n",
    "    print(f\"Lanzamiento # {i+1} - Dado1 = {dado1} - Dado2 = {dado2}\")\n",
    "\n",
    "    # Verificamos si salió un par para cambiar el estado del centinela\n",
    "    if (dado1 == dado2):\n",
    "        salio_par = True\n",
    "\n",
    "# Después de lanzar los dados 3 veces, verificamos con el centinela si obtuvimos un par\n",
    "if (salio_par):\n",
    "    print(\"\\nQue suerte! Al menos salió un par!\")\n",
    "else:\n",
    "    print(\"\\nEsta vez no tuvimos suerte, tal vez la próxima!\")"
   ]
  },
  {
   "cell_type": "markdown",
   "metadata": {
    "editable": true,
    "slideshow": {
     "slide_type": ""
    },
    "tags": []
   },
   "source": [
    "## 📓 <b>Ciclos anidados</b>\n",
    "\n",
    "Se habla de ciclos anidados cuando hay un ciclo definido dentro del bloque de código de otro ciclo. Al ciclo que se encuentra dentro se le denomina ciclo interno, por lo que al otro se le llama ciclo externo. Por ejemplo:"
   ]
  },
  {
   "cell_type": "code",
   "execution_count": null,
   "metadata": {},
   "outputs": [],
   "source": [
    "# Ejemplo de ciclos anidado\n",
    "for i in range(3): # Este es el ciclo externo\n",
    "    \n",
    "    for j in range(5): # Este es el ciclo interno\n",
    "    \n",
    "        print(f\"i={i} - j={j}\")"
   ]
  },
  {
   "cell_type": "markdown",
   "metadata": {
    "editable": true,
    "slideshow": {
     "slide_type": ""
    },
    "tags": []
   },
   "source": [
    "<div class=\"alert alert-block alert-success\">📢 <b>Nota:</b> <span style=\"color:#000000;\"> Es recomendable que siempre se usen variables de control distintas para los ciclos cuando estos están anidados. </span></div>\n",
    "\n",
    " "
   ]
  },
  {
   "cell_type": "markdown",
   "metadata": {},
   "source": [
    "#### 💫 <b>Ejemplo</b>\n",
    "Vamos a crear una función que reciba como parámetro dos numeros enteros (n1 y n2) y muestre en la pantalla un rectángulo relleno con asteriscos (*) que tenga n1 asteriscos de alto y n2 asteriscos de ancho. Por ejemplo, con n1=3 y n2=4 se la función debe mostrar\n",
    "```\n",
    "* * * *\n",
    "* * * *\n",
    "* * * *\n",
    "```"
   ]
  },
  {
   "cell_type": "markdown",
   "metadata": {},
   "source": [
    "Para solucionar este problema requerimos ciclos anidados, el externo que define la altura del rectángulo y en el que por cada iteración debe pintar, en el  ciclo interno,  los asteriscos que defienen el ancho del rectángulo. En este ejercicio usaremos un **acumulador** de cadenas, llamado rectángulo, en el que se van agregando uno a unos los asteriscis del rectángulo."
   ]
  },
  {
   "cell_type": "code",
   "execution_count": null,
   "metadata": {},
   "outputs": [],
   "source": [
    "# Esta función muestra un rectángulo pintado con asteriscos\n",
    "def pintar_rectangulo(n1, n2):\n",
    "    # Esta variable tipo cadena \"acumula\" los asteriscos que pintan el rectángulo\n",
    "    rectangulo = \"\"\n",
    "    \n",
    "    # El ciclo externo determina la altura del rectángulo\n",
    "    for i in range(n1):\n",
    "        # El ciclo interno determina el ancho del rectángulo\n",
    "        for j in range(n2):\n",
    "            # Por cada iteración sobre el ancho, se concatena a la derecha un *\n",
    "            rectangulo = rectangulo + \"* \" \n",
    "        # Al finalizar cada línea se concatena un salto de línea\n",
    "        rectangulo = rectangulo + \"\\n\" \n",
    "\n",
    "    # Se muestra el recángulo construido\n",
    "    print(rectangulo)"
   ]
  },
  {
   "cell_type": "markdown",
   "metadata": {},
   "source": [
    "Ahora probamos el funcionamiento de la función."
   ]
  },
  {
   "cell_type": "code",
   "execution_count": null,
   "metadata": {},
   "outputs": [],
   "source": [
    "# Prueba la función modificando los valores de los porámetros\n",
    "pintar_rectangulo(3, 5)"
   ]
  },
  {
   "cell_type": "markdown",
   "metadata": {
    "editable": true,
    "slideshow": {
     "slide_type": ""
    },
    "tags": []
   },
   "source": [
    "## 📓 <b>Generalización del ciclo for</b>\n",
    "\n",
    "De manera más general, la estructura **`for`** de Python (🐍) se utiliza para **iterar** sobre los elementos de una **secuencia iterable**. Como en cualquier ciclo, el bloque de código del ciclo se ejecuta en cada iteración del mismo. La sintaxis general de un ciclo for en Python es:\n",
    "\n",
    "```python\n",
    "for <var> in <secuencia>:\n",
    "    <Bloque de código>\n",
    "```\n",
    "\n",
    "En este caso la variable del ciclo (llamada aquí `<var>`) toma uno a uno los elementos en la `<secuencia>`, y por cada uno de estos se ejecuta el cuerpo del ciclo. Esto se repite hasta llegar al último elemento de la secuencia iterable."
   ]
  },
  {
   "cell_type": "markdown",
   "metadata": {},
   "source": [
    "<div class=\"alert alert-block alert-success\" style=\"color:green; border-radius: 10px; border: 1px solid #238C00;\">☠️ <b>Nota:</b> <span style=\"color:#000000;\"> Una <b>secuencia iterable</b> en Python es un objeto sobre el que se puede iterar, es decir, es un objeto que permite recorrer sus elementos uno a uno. Existen diferentes secuencias iterables en Python, entre estas están las cadenas de texto, las listas, los diccionarios y las tublas, entre otras. </span></div>"
   ]
  },
  {
   "cell_type": "markdown",
   "metadata": {},
   "source": [
    "#### 💫 <b>Ejemplo</b>\n",
    "Para entender como usar un ciclo `for` para iterar sobre los elementos de una cadena de texto, considere el siguiente problema. Diseñe una función que dada una cadena de texto muestre cuántas veces aparece el caracter `a` o `A` en la cadena.\n"
   ]
  },
  {
   "cell_type": "code",
   "execution_count": null,
   "metadata": {},
   "outputs": [],
   "source": [
    "# Creamos una función llamada contador_de_aes que recibe un parámetro, la cadena a evaluar.\n",
    "def contador_de_aes(cad):\n",
    "\n",
    "    # Creamos un contador\n",
    "    aes = 0\n",
    "        \n",
    "    # Para contar el número de aes debemos evaluar cada caracter de la cadena\n",
    "    # Así que usamos el ciclo for para iterar sobre cada elemento de la cadena y almacenar cada caracter en una variable llamada letra, así\n",
    "    for letra in cad:\n",
    "\n",
    "        # Evaluamos si la letra es una a para contarla\n",
    "        if letra == \"a\" or letra == \"A\":\n",
    "            aes += 1\n",
    "\n",
    "    # Mostramos la cantidad de aes, después de terminar de recorrer la cadena\n",
    "    print(f\"La cadena {cad} tiene en total {aes} aes\")"
   ]
  },
  {
   "cell_type": "markdown",
   "metadata": {},
   "source": [
    "Probemos la función con la cadena \"Murcielago\""
   ]
  },
  {
   "cell_type": "code",
   "execution_count": null,
   "metadata": {},
   "outputs": [],
   "source": [
    "contador_de_aes(\"Murcielago\")"
   ]
  },
  {
   "cell_type": "markdown",
   "metadata": {},
   "source": [
    "## 💫 <b>Ejercicio de un ciclo for usando objetos de una clase</b>\n",
    "\n",
    "Continuando con los ejemplos del ciclo for, considere el sieguiente problema. En el laboratorio LIS se está relizando un inventario de los equipos (🖥️) que hay en ese laboratorio. De cada equipo se pide almacenar para el inventario:\n",
    "- 📋 El codigo de inventario \n",
    "- 🏷️ La marca del equipo\n",
    "- 🧠 La capacidad del disco duro (en GB)\n",
    "- ⚙️ La cantidad de memoria RAM (en GB)\n",
    "- 🧭 El número de procesadores\n",
    "- 🎥 Si tienen o no tarjeta de video y la memoria de la tarjeta de video (en GB), en caso de tenerla.\n",
    "\n",
    "Con base en estos datos, al terminar de registrar el inventario se debe mostrar un informe (📈) con la siguiente información: \n",
    "- La cantidad de equipos que se registraron en el inventario\n",
    "- El tamaño promedio de los discos duros (en MB)\n",
    "- El porcentaje de equipos con tarjeta de video y el procentaje de equipos sin tarjeta de video\n",
    "- El número de equipos sin tarjeta de video y con memoria RAM menor a 8GB\n",
    "- Y el promedio de la memoria RAM de las tarjetas de video de los equipos que cuentan con estas y que tienen menos de 4 procesadores."
   ]
  },
  {
   "cell_type": "markdown",
   "metadata": {},
   "source": [
    "### Análisis del Problema\n",
    "- 📝 **Requerimientos**\n",
    "  * Liste aquí los requerimientos\n",
    "  \n",
    "- 💾 **Entidades del mundo del problema:** Este problema tiene las siguientes entidades:\n",
    "    * Liste y explique aquí cuáles son las entidades del mundo y sus atributos\n",
    "\n",
    "- **Detalle de los requerimientos**\n",
    "  * _**Requerimiento R1 - PONGA EL NOMBRE AQUÍ**_\n",
    "    - 📥 _Entradas:_ DESCRIBA LAS ENTRADAS AQUÍ\n",
    "    - 📤 _Salidas:_ DESCRIBA LAS SALIDAS AQUÍ\n",
    "    - ⚙️ _Proceso:_ DESCRIBA EL PROCESO AQUÍ\n",
    "\n",
    "  * Repita el bloque por cada requerimiento identificado\n",
    "  \n",
    "   "
   ]
  },
  {
   "cell_type": "markdown",
   "metadata": {},
   "source": [
    "  \n",
    " ### Diagrama de clases\n",
    " \n",
    "Con base en la información del Análisis del Problema, haga el diagrama de clases"
   ]
  },
  {
   "cell_type": "markdown",
   "metadata": {},
   "source": [
    "<div class=\"alert alert-block alert-success\" style=\"color:green; border-radius: 10px; border: 1px solid #238C00;\">☠️ <b>Recuerde:</b> <span style=\"color:#000000;\"> Una <b>clase</b> es la plantilla para crear objetos de esa clase. un objeto solo almacena su propia información, pero desconoce la información de los demás objetos. </span></div>"
   ]
  },
  {
   "cell_type": "markdown",
   "metadata": {},
   "source": [
    "## Desarrollo de la solución\n",
    "\n",
    "Ahora implementamos las clase en Python. "
   ]
  },
  {
   "cell_type": "code",
   "execution_count": 1,
   "metadata": {},
   "outputs": [],
   "source": [
    "\n",
    "# CODIFIQUE SU SOLUCIÓN AQUÍ\n"
   ]
  }
 ],
 "metadata": {
  "kernelspec": {
   "display_name": "Python 3 (ipykernel)",
   "language": "python",
   "name": "python3"
  },
  "language_info": {
   "codemirror_mode": {
    "name": "ipython",
    "version": 3
   },
   "file_extension": ".py",
   "mimetype": "text/x-python",
   "name": "python",
   "nbconvert_exporter": "python",
   "pygments_lexer": "ipython3",
   "version": "3.11.5"
  }
 },
 "nbformat": 4,
 "nbformat_minor": 4
}
