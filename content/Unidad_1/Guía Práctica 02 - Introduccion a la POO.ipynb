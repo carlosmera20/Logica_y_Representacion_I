{
 "cells": [
  {
   "cell_type": "markdown",
   "metadata": {},
   "source": [
    "<img src=\"encabezado.png\">\n",
    "\n",
    "<font size=4>\n",
    "📢 <b>Profesor:</b> Carlos Andres Mera Banguero - <a href=\"https://github.com/carlosmera20/\">https://github.com/carlosmera20/</a><br/>\n",
    "💻 <b>Programa:</b> Ingeniería de Sistemas <br/><br/>\n",
    "</font>\n"
   ]
  },
  {
   "cell_type": "markdown",
   "metadata": {},
   "source": [
    "# <b>Introducción a la Programación Orientada a Objetos</b>\n",
    "\n",
    "## 🚀 <b>Objetivo</b>\n",
    "\n",
    "Esta guía de trabajo práctica tiene como objetivo introducir al estudiante en el paradigma de Programación Orientado a Objetos (POO). Así, la guía describe las bases de la POO y presenta los conceptos de clase, objeto, atributos y métodos y su implementación en Python.\n",
    "\n"
   ]
  },
  {
   "cell_type": "markdown",
   "metadata": {},
   "source": [
    "## 🎯 <b>La Programación Orientada a Objetos</b>\n",
    "\n",
    "\n",
    "La programación orientada a objetos (POO) es un paradigma de programación que se basa en el concepto de “objetos”, los cuales son entidades que contienen **datos** y **comportamientos**. En Python, al igual que muchos otros lenguejes de programación, la POO se implemente a partir de la creación de **clases** las cuales nos permiten crear objetos.\n",
    "\n",
    "Una de las ventajas de la POO es que favorece la reutilización de código mediante la creación de clases, las cuales pueden ser utilizadas en distintos programas. El uso de clases también permite organizar el código de mejor manera, lo que facilita su mantenimiento a mediano y largo plazo.\n",
    "\n",
    "En general se considera que la POO está sustentada en cuatro pilares:\n",
    "- La **abstracción** nos permite modelar los objetos del mundo real a partir de sus datos (**_atributos_**) y su comportamiento (**_métodos_**). La abtracción permite centrarse sólo en los elementos relevantes de los objetos y descartar aquellos que son irrelevantes para un problema.\n",
    "- El **encapsulamiento** nos da la posibilida de ocultar la información que es privada del objeto y poner a disposición de los programadores algunas funcionalidades a partir de una interfaz pública. \n",
    "- El **polimorfismo**, nos permite crear objetos de diferentes clases que pueden responder al mismo mensaje de manera única y específica.\n",
    "- Finalmente, la **herencia** es la propiedad que permite que una clase transfiera sus atributos y métodos a otra clase."
   ]
  },
  {
   "cell_type": "markdown",
   "metadata": {},
   "source": [
    "\n",
    "## 📓 <b>Elementos de la POO</b>\n",
    "\n",
    "Para comenzar a trabajar con POO en Python, es necesario conocer algunos conceptos clave, como las clases, los objetos, los atributos y los métodos:\n",
    "\n",
    "- Las **clases** son las plantillas que definen cuál es la estructura de los objetos del mundo del problema. Una clase específica cuáles son los datos (_atributos_) y cuál es el comportamiento (_métodos_) de los objetos.\n",
    "- Los **objetos**  son las instancias concretas de una clase. Estos representan las entidades del mundo del problema y se manipulan a través de variables en el programa.\n",
    "- Los **atributos** definen la información que es necesaria almacenar de un objeto y no son más que variables que almacenan la información de un objeto.\n",
    "- Los **métodos** establecen qué es lo que puede hacer un objeto de la clase, estos definen la lógica del comportamiento de los objetos.\n",
    "\n",
    "\n"
   ]
  },
  {
   "cell_type": "markdown",
   "metadata": {},
   "source": [
    "## 📓 <b>Definición de una clase en Python</b>\n",
    "\n",
    "\n",
    "En Python, una clase se crea usando la palabra reservada **`class`**. Siempre debemos iniciar creando las clases. Como ejemplo, creemos una clase para almacenar la información básica de una persona, así:"
   ]
  },
  {
   "cell_type": "code",
   "execution_count": null,
   "metadata": {},
   "outputs": [],
   "source": [
    "# Así se crea una clase (de momento vacía)\n",
    "\n",
    "class Persona:\n",
    "    pass"
   ]
  },
  {
   "cell_type": "markdown",
   "metadata": {},
   "source": [
    "De momento esta es una clase vacía que no tiene mucha utilidad práctica, pero es la mínima expresión de una clase en Python. Note que el uso de la instrucción **`pass`** no hace realmente nada, pero daría un error no tenemos ninguna instrucción después de la definición de la clase."
   ]
  },
  {
   "cell_type": "markdown",
   "metadata": {},
   "source": [
    "<div class=\"alert alert-block alert-danger\" style=\"border-radius: 10px; border: 1px solid #B71C1C;\">📌 <b>Importante:</b> <span style=\"color:#000000;\"> recuerde que para nombrar las clases usamos la notación ⚡️ <b>PascalCase</b>, y  para nombrar los atributos y los métodos usamos la notación 🐍 <b>snake_case</b></span></div>"
   ]
  },
  {
   "cell_type": "markdown",
   "metadata": {},
   "source": [
    "## 📓 <b>Creando un objeto de la clase</b>\n",
    "\n",
    "Ahora que tenemos la clase, podemos crear un objeto de la misma. Cuando se crea un objeto a partir de una clase, se dice que se crea una instancia. un objeto (o instancia) no es más que una variable que almacena los datos que define la clase. \n",
    "\n",
    "Así, para crear un objeto en Python basta con hacar los siguiente:"
   ]
  },
  {
   "cell_type": "code",
   "execution_count": null,
   "metadata": {},
   "outputs": [],
   "source": [
    "# Así creamos un objeto de la clase Persona\n",
    "una_persona = Persona()"
   ]
  },
  {
   "cell_type": "markdown",
   "metadata": {},
   "source": [
    "La variable **`una_persona`** contiene la instancia del objeto. La instanciación del objeto se realiza usando el método constructor de la clase, del cual hablaremos más adelante."
   ]
  },
  {
   "cell_type": "markdown",
   "metadata": {},
   "source": [
    "## 📓 <b>Definición de los atributos de la clase</b>\n",
    "\n",
    "Recuerde que los **atributos** son los datos que requerimos almacenar de los objetos. En Python, a diferencia de otros lenguajes fuertemente tipados, no es necesario definir los atributos antes de definir el método constructor; sin embargo, es una buena práctica hacerlo y es por eso que en este curso siempre lo haremos. \n",
    "\n",
    "Continuando con el ejemplo, vamos entonces a agregar los atributos para almacenar los datos básicos de una persona: el nombre, la edad y su número de identificación."
   ]
  },
  {
   "cell_type": "code",
   "execution_count": null,
   "metadata": {},
   "outputs": [],
   "source": [
    "# Creamos una clase llamada Persona\n",
    "class Persona:\n",
    "    \n",
    "    # Definimos los atributos de la clase indicando cual es el tipo de dato de cada atributo\n",
    "    nombre=str\n",
    "    edad=int\n",
    "    identificacion=int"
   ]
  },
  {
   "cell_type": "markdown",
   "metadata": {},
   "source": [
    "Nuevamente, vamos a crear un objeto de clase."
   ]
  },
  {
   "cell_type": "code",
   "execution_count": null,
   "metadata": {},
   "outputs": [],
   "source": [
    "#creamos un objeto de tipo Persona\n",
    "una_persona = Persona()\n",
    "\n",
    "# Mostramos que contiene la variable una_persona\n",
    "print(una_persona)"
   ]
  },
  {
   "cell_type": "markdown",
   "metadata": {},
   "source": [
    "Note que hasta este punto, la clase no tiene mayor utilidad todavía; pero aún más importante, apesar de que la clase define que los objetos tienes un nombre, una edad y una identificación, estos atributos no tienen valores. Entonces, ¿cómo le agregamos información a esos atributos?.\n",
    "\n",
    "💡 La respuesta es: debemos crear un **método constructor**."
   ]
  },
  {
   "cell_type": "markdown",
   "metadata": {},
   "source": [
    "## 📓 <b>El método constructor de una clase</b>\n",
    "\n",
    "Python, como muchos lenguajes de programación tienen el concepto de constructor. Un método constructor es un método que sólo se invoca cuando se crea el objeto de la clase. El método constructor es el encargado de crear y definir los valores iniciales que tienen los atributos cuando se crea el objeto. \n",
    "\n",
    "En Python, el constructor tiene el nombre de **`__init__()`**. Este método, al igual que los demás métodos de la clase, siempre debe recibir un parámetro **`self`**."
   ]
  },
  {
   "cell_type": "markdown",
   "metadata": {},
   "source": [
    "<div class=\"alert alert-block alert-warning\" style=\"color:#8C6900; border-radius: 10px; border: 1px solid #B28500;\">📢  <b>Nota:</b> <span style=\"color:#000000;\"> El parámetro <b style=\"font-family:'Courier New'; font-size:16px;\">self</b> es una referencia a directa a la instancia de la clase y se utiliza para acceder a sus propios atributos y métodos, que son los que define la clase.</span></div>"
   ]
  },
  {
   "cell_type": "markdown",
   "metadata": {},
   "source": [
    "En nuestro ejemplo, toda persona debe tener un nombre, una edad y una identificación. El método constructor nos permite indicarle al programador cuáles son los datos que se requieren para crear un objeto de la clase y, además, asignarle valores iniciales a esos atributos.\n",
    "\n",
    "Agreguemos el método contructor a la clase Persona."
   ]
  },
  {
   "cell_type": "code",
   "execution_count": null,
   "metadata": {},
   "outputs": [],
   "source": [
    "# Creamos una clase llamada Persona\n",
    "class Persona:\n",
    "    \n",
    "    # Definimos los atributos de la clase indicando cual es el tipo de dato de cada atributo\n",
    "    nombre=str\n",
    "    edad=int\n",
    "    identificacion=int\n",
    "    \n",
    "    # Creamos el método constructor de la clase\n",
    "    def __init__(self, nombre, edad, identificacion):\n",
    "        \n",
    "        # Asignamos a los atributos los valores pasados como parámetros\n",
    "        self.nombre = nombre\n",
    "        self.edad = edad\n",
    "        self.identificacion = identificacion\n",
    "        \n",
    "        # Mostramos un mensaje cuando se crea el objeto\n",
    "        print(f\"Se ha creado a una Persona con nombre {nombre}\")"
   ]
  },
  {
   "cell_type": "markdown",
   "metadata": {},
   "source": [
    "Note que ahora el método constructor tiene cuatro parámetros:\n",
    "- **self**: que es un parámetro completamente transparente para quien use el método\n",
    "- **nombre**: que debe tener el nombre de la persona que se está creando\n",
    "- **edad**: que debe contener la edad de la persona que se está creando\n",
    "- **identificación**: que debe tener la identificación de la persona que se está creando\n",
    "\n",
    "De acuerdo con la definición de este constructor ahora es imposible crear un objeto sin estos datos. Eso quiere decir que la forma como estabamos creando el objeto ya no funciona, ¿por qué?.\n",
    "\n",
    "Veámos el error que se genera..."
   ]
  },
  {
   "cell_type": "code",
   "execution_count": null,
   "metadata": {},
   "outputs": [],
   "source": [
    "# Esta forma de crear el objeto ya no funciona\n",
    "una_persona = Persona()"
   ]
  },
  {
   "cell_type": "markdown",
   "metadata": {},
   "source": [
    "Como indica el error, para creae el objeto hacen falta tres datos: el nombre, la edad y la identificación de la Persona que se va a crear. Es decir, el constructor nos indica que estos datos son obligatorios para crear el objeto. Así, la forma de crear el objeto es la siguiente."
   ]
  },
  {
   "cell_type": "code",
   "execution_count": null,
   "metadata": {},
   "outputs": [],
   "source": [
    "# Creamos una persona de nombre Juan, con 20 años y con identificación 10000001\n",
    "una_persona = Persona(nombre=\"Juan\", edad=20, identificacion=10000001)"
   ]
  },
  {
   "cell_type": "markdown",
   "metadata": {},
   "source": [
    "Ya que tenemos el objeto, para acceder a los atributos de ese objeto se usa el operador punto (**`.`**), así:"
   ]
  },
  {
   "cell_type": "code",
   "execution_count": null,
   "metadata": {},
   "outputs": [],
   "source": [
    "# Accedemos al nombre y a la edad del OBJETO una_persona\n",
    "print(f\"El nombre de la persona es: {una_persona.nombre}\")\n",
    "print(f\"La edad de la persona es: {una_persona.edad}\")"
   ]
  },
  {
   "cell_type": "markdown",
   "metadata": {},
   "source": [
    "Como veremos con la práctica, en muchos problemas es necesario permitir crear objetos de una clase sin conocer los valores de sus atributos o solo conociendo algunos de ellos. Para permitir esto, necesario modificar el constructor definiendo en su firma los valores que por defecto tienen los atributos, cuando estos son desconocidos. Observe como modificamos ahora el constructor de la clase:"
   ]
  },
  {
   "cell_type": "code",
   "execution_count": null,
   "metadata": {},
   "outputs": [],
   "source": [
    "# Creamos una clase llamada Persona\n",
    "class Persona:\n",
    "    \n",
    "    # Definimos los atributos de la clase indicando cual es el tipo de dato de cada atributo\n",
    "    nombre=str\n",
    "    edad=int\n",
    "    identificacion=int\n",
    "    \n",
    "    # Creamos el método constructor de la clase\n",
    "    # Note que este constructor define valores por defecto para todos los atributos\n",
    "    def __init__(self, nombre=\"Sin nombre\", edad=0, identificacion=0):\n",
    "        \n",
    "        # Asignamos a los atributos los valores pasados como parámetros\n",
    "        self.nombre = nombre\n",
    "        self.edad = edad\n",
    "        self.identificacion = identificacion\n",
    "        \n",
    "        # Mostramos un mensaje cuando se crea el objeto\n",
    "        print(f\"Se ha creado a una Persona con nombre {nombre}\")"
   ]
  },
  {
   "cell_type": "markdown",
   "metadata": {},
   "source": [
    "La definición de este constructor nos indica que cuando se crea un objeto de la clase y no se pasan valores en sus atributos, el objeto tendrá el nombre de \"sin nombre\", la edad de 0 años y la identificación 0. Construyamos varios objetos a partir de este constructor."
   ]
  },
  {
   "cell_type": "code",
   "execution_count": null,
   "metadata": {},
   "outputs": [],
   "source": [
    "# El constructor nos permite crear una persona sin datos\n",
    "p1 = Persona()\n",
    "\n",
    "# El constructor nos permite también crear una persona sin identificación\n",
    "p2 = Persona(nombre=\"Juliana\", edad=20)\n",
    "\n",
    "# También podemos crear una persona sin la edad\n",
    "p3 = Persona(nombre=\"Armando\", identificacion=10000002)"
   ]
  },
  {
   "cell_type": "markdown",
   "metadata": {},
   "source": [
    "<div class=\"alert alert-block alert-success\" style=\"color:green; border-radius: 10px; border: 1px solid #238C00;\">☠️ <b>Nota:</b> <span style=\"color:#000000;\"> Tenga presente que <b style=\"font-family:'Courier New'; font-size:16px;\">p1</b>, <b style=\"font-family:'Courier New'; font-size:16px;\">p2</b> y <b style=\"font-family:'Courier New'; font-size:16px;\">p3</b> son todos OBJETOS de la clase Persona. Cada objeto es independiente del otro, por lo que los valores en sus atributos son independientes.</span></div>"
   ]
  },
  {
   "cell_type": "markdown",
   "metadata": {},
   "source": [
    "Accedamos a la información de cada objeto, mostrando para uno su nombre y su edad:"
   ]
  },
  {
   "cell_type": "code",
   "execution_count": null,
   "metadata": {},
   "outputs": [],
   "source": [
    "# Mostramos la información de los tres objetos creados\n",
    "print (f\"El objeto p1 tiene por nombre {p1.nombre} y tiene {p1.edad} años\")\n",
    "print (f\"El objeto p2 tiene por nombre {p2.nombre} y tiene {p2.edad} años\")\n",
    "print (f\"El objeto p3 tiene por nombre {p3.nombre} y tiene {p3.edad} años\")"
   ]
  },
  {
   "cell_type": "markdown",
   "metadata": {},
   "source": [
    "Después de creado un objeto podemos modificar sus atributos, esto si los atributos son públicos. Por ejemplo, cambiemos el nombre de p1 a Carlos y cambiemos su edad a 35."
   ]
  },
  {
   "cell_type": "code",
   "execution_count": null,
   "metadata": {},
   "outputs": [],
   "source": [
    "# Podemos modificar el valor en los atributos públicos de un objeto\n",
    "p1.nombre = \"Carlos\"\n",
    "p1.edad = 35"
   ]
  },
  {
   "cell_type": "markdown",
   "metadata": {},
   "source": [
    "Para vereficar que se realizó el cambio, mostremos nuevamente la información del objeto."
   ]
  },
  {
   "cell_type": "code",
   "execution_count": null,
   "metadata": {},
   "outputs": [],
   "source": [
    "# Mostramos de nuevo la información del objeto p1\n",
    "print (f\"El objeto p1 tiene por nombre {p1.nombre} y tiene {p1.edad} años\")"
   ]
  },
  {
   "cell_type": "markdown",
   "metadata": {},
   "source": [
    "<div class=\"alert alert-block alert-danger\" style=\"border-radius: 10px; border: 1px solid #B71C1C;\">📌 <b>Importante:</b> <span style=\"color:#000000;\"> A diferencia de otros lenguajes, en los que está permitido implementar más de un constructor, en Python solo se puede definir un método <b style=\"font-family:'Courier New'; font-size:16px;\">__init__()</b>.</span></div>"
   ]
  },
  {
   "cell_type": "markdown",
   "metadata": {},
   "source": [
    "## 👀 <b>Uso Incorrecto de self</b>\n",
    "\n",
    "Para enfatizar en el uso correcto del parámetro en el método constructor **`self`**, tenga en cuenta el código siguiente, en el que cual se crea una clase, Auto, con dos atributos, color y marca. Analice constructor de esta clase:"
   ]
  },
  {
   "cell_type": "code",
   "execution_count": null,
   "metadata": {},
   "outputs": [],
   "source": [
    "# Creamos la clase Auto\n",
    "class Auto:\n",
    "    \n",
    "    # Atributos\n",
    "    color=str\n",
    "    marca=str\n",
    "        \n",
    "    # Método constructor\n",
    "    def __init__(self):\n",
    "        self.color = \"Rojo\" # Cambia el valor del atributo color\n",
    "        marca = \"Mercedes\" # Sin el el self, se crea una variable local al método, no hace referencia al atributo\n",
    "\n",
    "\n",
    "# Probamos la clase       \n",
    "mi_auto = Auto()\n",
    "print(mi_auto.color) # Muestra Rojo\n",
    "print(mi_auto.marca) # El atributo no tiene ningun valor porque el constructor no modificó el valor\n"
   ]
  },
  {
   "cell_type": "markdown",
   "metadata": {},
   "source": [
    "El error radica en el constructor, cuando se inicializa la marca del auto. Note como se hace la asignación:\n",
    "\n",
    "```python\n",
    "marca = \"Mercedes\"\n",
    "```\n",
    "\n",
    "Al no usar el **`self`**, que es la referencia al objeto de la clase, la variable marca se hace una variable local al método, eso quiere decir que la variable solo existe en ese método. La forma correcta de inicializar el atributo es así:\n",
    "```python\n",
    "self.marca = \"Mercedes\"\n",
    "```"
   ]
  },
  {
   "cell_type": "markdown",
   "metadata": {},
   "source": [
    "## 📓 <b>Métodos analizadores</b>\n",
    "\n",
    "Retomemos la clase Persona. Los métodos analizadores son los que se usan, en general, para implementar las reglas de negocio o de transformación de los datos de un objeto. Es decir, estos métodos son los que implementan la lógica general del comportamiento de los objetos en la clase. Por ejemplo, vamos a agregar dos comportamientos básicos a la clase Persona, uno para pedir los datos del obejto a un usuario y otro para mostrar en la pantalla esos datos."
   ]
  },
  {
   "cell_type": "code",
   "execution_count": null,
   "metadata": {},
   "outputs": [],
   "source": [
    "# Creamos una clase llamada Persona\n",
    "class Persona:\n",
    "    \n",
    "    # Definimos los atributos de la clase indicando cual es el tipo de dato de cada atributo\n",
    "    nombre=str\n",
    "    edad=int\n",
    "    identificacion=int\n",
    "    \n",
    "    # Método constructor de la clase\n",
    "    def __init__(self, nombre=\"Sin nombre\", edad=0, identificacion=0):\n",
    "        \n",
    "        # Asignamos a los atributos los valores pasados como parámetros\n",
    "        self.nombre = nombre\n",
    "        self.edad = edad\n",
    "        self.identificacion = identificacion\n",
    "                \n",
    "    # Este método pide al usuario que ingrese los datos de la persona creada \n",
    "    def pedir_datos(self):\n",
    "        \n",
    "        # Se pide el nombre de la persona\n",
    "        self.nombre = input(\"Ingrese el nombre de la persona: \")\n",
    "        \n",
    "        # Se pide la edad de la persona\n",
    "        self.edad = int(input(\"Ingrese la edad de la persona: \"))\n",
    "        \n",
    "        # Se pide la identificación de la persona\n",
    "        self.identificacion = int(input(\"Ingrese el número de identificación de la persona: \"))\n",
    "        \n",
    "    # Este método muestra los datos de la persona en la pantalla\n",
    "    def mostrar_datos(self):\n",
    "        print(\"--------------------------------------\")\n",
    "        print (f\"Hola mi nombre es {self.nombre} tengo {self.edad} años y mi número de identificación es {self.identificacion}\")"
   ]
  },
  {
   "cell_type": "markdown",
   "metadata": {},
   "source": [
    "🌵 Note que los métodos `pedir_datos()` y `mostrar_datos()` sólo reciben como parámetro a **`self`**, el cual hace referencia a la instancia del objeto. Recuerde que en Python este parámetro es obligatorio para todos los métodos de la clase.\n",
    "\n",
    "También, observe que para invocar los métodos `pedir_datos()` y `mostrar_datos()` el programa no requiere enviar ningún dato al objeto, es por eso que esos métodos no tienen parámetros de entrada. \n",
    "\n",
    "Creemos un objeto, pidamos sus datos al usuario y mostremoslos en pantalla\n"
   ]
  },
  {
   "cell_type": "code",
   "execution_count": null,
   "metadata": {},
   "outputs": [],
   "source": [
    "# Creamos un objeto persona\n",
    "p1 = Persona()\n",
    "\n",
    "# Le indicamos al objeto que pida sus datos, es decir, invocamos el método pedir_datos\n",
    "p1.pedir_datos()\n",
    "\n",
    "# Le indicamos al objeto muestre sus datos, esto lo hacemos invocando el método mostrar_datos\n",
    "p1.mostrar_datos()"
   ]
  },
  {
   "cell_type": "markdown",
   "metadata": {},
   "source": [
    "<div class=\"alert alert-block alert-danger\" style=\"border-radius: 10px; border: 1px solid #B71C1C;\">📌 <b>Importante:</b> <span style=\"color:#000000;\"> observe que al invocar los métodos <b style=\"font-family:'Courier New';\">pedir_datos()</b> y <b style=\"font-family:'Courier New';\">mostrar_datos()</b> los paréntesis están vacíos porque estos métodos no tienen parámetros de entrada</span></div>"
   ]
  },
  {
   "cell_type": "markdown",
   "metadata": {},
   "source": [
    "Agreguemos una funcionalidad más a la clase, supongamos que vamos a permitir que una Persona camine y, además,  por tanto vamos a llevar la cuenta de cuantos pasos ha caminado la Persona. Para dar respuesta a esta funcionalidad es neceario agregar tanto un atributo que lleve la cuenta de pasos totales caminados por la persona y un método que haga que la persona camine. \n",
    "\n",
    "Analice los cambios realizados a la clase, tiendo presente que se han modificado los atributos, el constructor, el método mostrar_datos y se ha agregado un método nuevo: caminar.\n"
   ]
  },
  {
   "cell_type": "code",
   "execution_count": null,
   "metadata": {},
   "outputs": [],
   "source": [
    "# Creamos una clase llamada Persona\n",
    "class Persona:\n",
    "    \n",
    "    # Definimos los atributos de la clase indicando cual es el tipo de dato de cada atributo\n",
    "    nombre=str\n",
    "    edad=int\n",
    "    identificacion=int\n",
    "    pasos_caminados=int\n",
    "    \n",
    "    # Método constructor de la clase\n",
    "    def __init__(self, nombre=\"Sin nombre\", edad=0, identificacion=0):\n",
    "        \n",
    "        # Asignamos a los atributos los valores pasados como parámetros\n",
    "        self.nombre = nombre\n",
    "        self.edad = edad\n",
    "        self.identificacion = identificacion\n",
    "        \n",
    "        # Iniciamos la cantidad de pasos caminados en 0.\n",
    "        self.pasos_caminados = 0\n",
    "                \n",
    "    # Este método pide al usuario que ingrese los datos de la persona creada \n",
    "    def pedir_datos(self):\n",
    "        \n",
    "        # Se pide el nombre de la persona\n",
    "        self.nombre = input(\"Ingrese el nombre de la persona: \")\n",
    "        \n",
    "        # Se pide la edad de la persona\n",
    "        self.edad = int(input(\"Ingrese la edad de la persona: \"))\n",
    "        \n",
    "        # Se pide la identificación de la persona\n",
    "        self.identificacion = int(input(\"Ingrese el número de identificación de la persona: \"))\n",
    "        \n",
    "    # Este método muestra los datos de la persona en la pantalla\n",
    "    def mostrar_datos(self):\n",
    "        print(\"\\n--------------------------------------\")\n",
    "        print (f\"Hola mi nombre es {self.nombre}, tengo {self.edad} años y he caminado {self.pasos_caminados} pasos\")        \n",
    "        \n",
    "    # Este hace que la persona camnine un número determinado de pasos\n",
    "    def caminar(self, pasos=0):\n",
    "        print(f\"{self.nombre} está dando {pasos} pasos ...\")\n",
    "        \n",
    "        # Aumentamos la cantidad de pasos caminados por la persona, de acuerdo con el parámetro\n",
    "        self.pasos_caminados += pasos\n",
    "    "
   ]
  },
  {
   "cell_type": "markdown",
   "metadata": {},
   "source": [
    "Note que el método `caminar()` tiene un parámetro de entrada que es el número de pasos. Esto quiere decir que cuando se ordene al objeto caminar, a este se le debe indicar cuántos pasos dar a través del parámetro de entrada del método. Veámos un par de ejemplos con esta clase.\n",
    "\n",
    "Vamos a crear dos personas una a la que se le piden los datos al usuario (`p1`) y otra que se llama Pilar con identificación número de indentificación 123 (`p2`). También vamos a hacer que Pilar camine 2 veces, la primera vez dando 5 pasos y la sieguiente 7 pasos."
   ]
  },
  {
   "cell_type": "code",
   "execution_count": null,
   "metadata": {},
   "outputs": [],
   "source": [
    "# Creamos los dos objetos\n",
    "p1 = Persona() #Este objeto no tiene datos de inicio\n",
    "p2 = Persona(nombre=\"Pilar\", identificacion=123)\n",
    "\n",
    "# Pedimos los datos de p1 al usuario; es decir, invocamos el método pedir_datos() de ese objeto\n",
    "p1.pedir_datos()"
   ]
  },
  {
   "cell_type": "markdown",
   "metadata": {},
   "source": [
    "Mostramos los datos de los dos objetos:"
   ]
  },
  {
   "cell_type": "code",
   "execution_count": null,
   "metadata": {},
   "outputs": [],
   "source": [
    "# Mostramos la información de las dos objetos\n",
    "p1.mostrar_datos()\n",
    "p2.mostrar_datos()"
   ]
  },
  {
   "cell_type": "markdown",
   "metadata": {},
   "source": [
    "Hacemos que pilar camine dos veces y luego mostramos su información para ver si algo ha cambiado respecto al mensaje anterior."
   ]
  },
  {
   "cell_type": "code",
   "execution_count": null,
   "metadata": {},
   "outputs": [],
   "source": [
    "# Hacemos que la persona p2 camine dos veces,  primero dando 5 pasos y depués 7\n",
    "p2.caminar(pasos=5)\n",
    "p2.caminar(pasos=7)\n",
    "\n",
    "# Mostramos de nuevo la información de la persona p2\n",
    "p2.mostrar_datos()"
   ]
  },
  {
   "cell_type": "markdown",
   "metadata": {},
   "source": [
    "<div class=\"alert alert-block alert-success\" style=\"color:green; border-radius: 10px; border: 1px solid #238C00;\">☠️ <b>Nota:</b> <span style=\"color:#000000;\"> aunque hasta el momento no lo hemos hecho, los métodos, además de acceder y modificar los atributos del objeto, también pueden invocar a otros métodos en la propia clase. 😲😨😱 </span></div>"
   ]
  },
  {
   "cell_type": "markdown",
   "metadata": {},
   "source": [
    "## 📓 <b>Modificadores de Acceso</b>\n",
    "\n",
    "Los modificadores de acceso se utilizan para restringir el acceso a los atributos y métodos de una clase; es decir, los modificadores de acceso son una forma en la que muchos lenguajes de programación orientados a objetos implementan el principio de encapsulamiento. \n",
    "\n",
    "La mayoría de los lenguajes de programación tienen tres modificadores de acceso: \n",
    "- **Público**, para indicar que el atributo o método puede ser usado desde cualquier parte del código, bien sea dentro o fuera de la clase. \n",
    "- **Privado**: para indicar que el atributo o método solo puede ser usado dentro de la propia clase, es decir, estos no pueden ser accedidos por fuera de la clase, ni siquiera por las subclases de la clase.\n",
    "- **Protegido**: para indicar que el método o atributo puede ser accedido dentro de la clase y por las sus subclases de esta.\n",
    "\n",
    "En Python, los modificadores de acceso no existen como tal; Sin embargo, hay una convención para indicar la visibilidad de los atributos y métodos usando como prefijo el guion bajo `_` así: \n",
    "- **público**: un método o atributo público NO TIENE como prefijo el guion bajo `_`.\n",
    "- **privado**: los métodos o atributos privados tienen como prefijo un guion bajo (`_`). Esto indica que no deberían accederse desde fuera de la clase.\n",
    "- **protegido**: los métodos o atributos protegidos tienen dos guiones bajos (`__`) como prefijo.\n",
    "\n",
    "Es importante destacar que, en Python, estas convenciones son simplemente acuerdos entre programadores y no restricciones del lenguaje. No existe un mecanismo intrínseco que impida el acceso a miembros privados o protegidos. La filosofía de Python es que **los programadores son adultos y responsables**, y que la privacidad es una cuestión de convención y respeto, más que de restricciones estrictas."
   ]
  },
  {
   "cell_type": "markdown",
   "metadata": {},
   "source": [
    "## 📓 <b>Getters y Setters</b>\n",
    "\n",
    "Los \"getters\" y \"setters\" son métodos que se implementan para obtener o modificar, respectivamente, el valor de un atributo privado. Por ejemplo, asuma la siguiente clase:"
   ]
  },
  {
   "cell_type": "code",
   "execution_count": null,
   "metadata": {},
   "outputs": [],
   "source": [
    "class Mascota:\n",
    "    \n",
    "    # Atributos\n",
    "    _tipo=str    # Atributo privado: Mamífero, Pez, Anfibio, Ave o Reptíl\n",
    "    nombre=str   # Atributo público\n",
    "    edad=int     # Atributo público\n",
    "        \n",
    "    # Constructor de la clase\n",
    "    # Note que el tipo es obligatorio para crear el objeto\n",
    "    def __init__(self, tipo, nombre=\"-\", edad=0):\n",
    "        self._tipo = tipo\n",
    "        self.nombre = nombre\n",
    "        self.edad = edad\n",
    "        \n",
    "    # Estos métodos tiene la forma tradicional de un getter\n",
    "    def get_tipo(self):\n",
    "        return self._tipo\n",
    "    \n",
    "    def get_nombre(self):\n",
    "        return self.nombre\n",
    "    \n",
    "    def get_edad(self):\n",
    "        return self.edad\n",
    "    \n",
    "    # Estos métodos tienen la forma normal de un setter\n",
    "    def set_nombre(self, nombre):\n",
    "        self.nombre = nombre\n",
    "        \n",
    "    def set_edad(self, edad):\n",
    "        self.edad = edad  "
   ]
  },
  {
   "cell_type": "markdown",
   "metadata": {},
   "source": [
    "Si analiza la implementación de la clase, los getters se usan para obetener el valor de los atributos de un objeto, por otro lado, los setters se usan para modificar los atributos. En este ejemplo, no hay un setter para el tipo de mascota dado que una vez creada la mascota a esta se le puede cambiar el nombre y la edad, pero no su tipo.\n",
    "\n",
    "Hagamos uso de esa clase."
   ]
  },
  {
   "cell_type": "code",
   "execution_count": null,
   "metadata": {},
   "outputs": [],
   "source": [
    "# Creo el objeto de la clase\n",
    "mi_mascota = Mascota(tipo=\"Mamífero\", nombre=\"michu\", edad=5)\n",
    "\n",
    "# Modifico la edad de la mascota a 8 años\n",
    "mi_mascota.set_edad(edad=8)\n",
    "\n",
    "# Muestro la información de la mascota usando los getters\n",
    "print(f\"Nombre de la mascota: {mi_mascota.get_nombre()}\")\n",
    "print(f\"Edad de la mascota: {mi_mascota.get_edad()} años\")\n",
    "print(f\"Tipo de la mascota: {mi_mascota.get_tipo()}\")"
   ]
  },
  {
   "cell_type": "markdown",
   "metadata": {},
   "source": [
    "<div class=\"alert alert-block alert-danger\" style=\"border-radius: 10px; border: 1px solid #B71C1C;\">📌 <b>Importante:</b> <span style=\"color:#000000;\"> aunque los \"getters\" y \"setters\" son comunes en muchos lenguajes de programación, en Python se sigue la filosofía de \"no te molestes en escribir métodos que solo obtienen o establecen un valor simple\". En Python, se prefiere la simplicidad y la legibilidad del código, y se alienta el acceso directo a los atributos hasta que se demuestre que un \"getter\" o \"setter\" son necesarios. </span></div>"
   ]
  },
  {
   "cell_type": "markdown",
   "metadata": {},
   "source": [
    "## <b>Ejercicio - Manejando una cuenta de ahorros 💰</b>\n",
    "\n",
    "La entidad bancaria **\"mi ahorrito\"** quiere crear una aplicación que le permita a sus clientes manipular la cuenta que tienen con el banco. Cuando un cliente se registra ante la entidad esta almacena el nombre completo del cliente, su documento de identidad, su género (Femenino o Masculino), su dirección y su número celular. Toda cuenta de la entidad tiene asociada a ella un número de cuenta, un tipo de cuenta (de Ahorros o Corriente), un cliente y un saldo. La aplicación debe permitir crear una cuenta, depositar dinero en la cuenta, retirar dinero de la cuenta y mostrar la información de la cuenta."
   ]
  },
  {
   "cell_type": "markdown",
   "metadata": {},
   "source": [
    "### Análisis del Problema\n",
    "- 📝 **Requerimientos**\n",
    "  * Liste aquí los requerimientos\n",
    "  \n",
    "- 💾 **Entidades del mundo del problema:** Este problema tiene las siguientes entidades:\n",
    "    * Liste y explique aquí cuáles son las entidades del mundo y sus atributos\n",
    "\n",
    "- **Detalle de los requerimientos**\n",
    "  * _**Requerimiento R1 - PONGA EL NOMBRE AQUÍ**_\n",
    "    - 📥 _Entradas:_ DESCRIBA LAS ENTRADAS AQUÍ\n",
    "    - 📤 _Salidas:_ DESCRIBA LAS SALIDAS AQUÍ\n",
    "    - ⚙️ _Proceso:_ DESCRIBA EL PROCESO AQUÍ\n",
    "\n",
    "  * Repita el bloque por cada requerimiento identificado\n",
    "   "
   ]
  },
  {
   "cell_type": "markdown",
   "metadata": {},
   "source": [
    "  \n",
    " ### Diagrama de clases\n",
    " \n",
    "Con base en la información del Análisis del Problema, desarrolle el Diagrama de Clases\n",
    " "
   ]
  },
  {
   "cell_type": "markdown",
   "metadata": {},
   "source": [
    "## Desarrollo de la solución\n",
    "\n",
    "Ahora implementamos las clase en Python..."
   ]
  },
  {
   "cell_type": "code",
   "execution_count": null,
   "metadata": {},
   "outputs": [],
   "source": [
    "# CODIFIQUE SU SOLUCIÓN AQUÍ"
   ]
  }
 ],
 "metadata": {
  "kernelspec": {
   "display_name": "Python 3 (ipykernel)",
   "language": "python",
   "name": "python3"
  },
  "language_info": {
   "codemirror_mode": {
    "name": "ipython",
    "version": 3
   },
   "file_extension": ".py",
   "mimetype": "text/x-python",
   "name": "python",
   "nbconvert_exporter": "python",
   "pygments_lexer": "ipython3",
   "version": "3.11.5"
  }
 },
 "nbformat": 4,
 "nbformat_minor": 4
}
