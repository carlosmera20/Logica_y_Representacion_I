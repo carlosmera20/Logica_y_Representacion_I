{
 "cells": [
  {
   "cell_type": "markdown",
   "metadata": {},
   "source": [
    "<img src=\"https://raw.githubusercontent.com/carlosmera20/Logica_y_Representacion_I/main/content/local/imgs/encabezado.png\">\n",
    "\n",
    "<font size=4>\n",
    "📢 <b>Profesor:</b> Carlos Andres Mera Banguero - <a href=\"https://github.com/carlosmera20/\">https://github.com/carlosmera20/</a><br/>\n",
    "💻 <b>Programa:</b> Ingeniería de Sistemas <br/><br/>\n",
    "</font>\n"
   ]
  },
  {
   "cell_type": "markdown",
   "metadata": {},
   "source": [
    "# <b>Algoritmos Secuenciales</b>\n",
    "\n",
    "Un algoritmo secuencial es un conjunto de instrucciones que se ejecutan en un orden específico, una tras otra. En un algoritmo secuencial, cada paso se realiza después del anterior y antes del siguiente, siguiendo una secuencia lineal. En programación, los algoritmos secuenciales representan la estructura de programación más simple.\n",
    "\n",
    "## 🚀 <b>Objetivo</b>\n",
    "\n",
    "Introducir la implementación de algoritmos secuenciales en el lenguaje de programación Python. Para este fin, esta guía cubrirá los elementos básicos para la creación de un programa en Python, incluyendo los operadores fundamentales, los tipos de datos y la solución de expresiones aritmeticológicas."
   ]
  },
  {
   "cell_type": "markdown",
   "metadata": {},
   "source": [
    "## 🐍 <b>Python</b>\n",
    "\n",
    "Python es un lenguaje de programación de alto nivel 🚀, moderno, potente, y versátil, muy usado en entornos académicos y científicos. Su popularidad se debe a que tiene una sintaxis clara, existe un gran número de librerías desarrolladas con múltiples funcionalidades, y tiene una amplia capacidad de integración con otros lenguajes.\n",
    "\n",
    "Python fue creado por Guido van Rossum y su primera versión fue lanzada en 1991. Actualmente, Python está en su versión 3, específicamente la versión 3.12.\n",
    "\n",
    "### 🎯 <b>Características del Lenguaje:</b>\n",
    "\n",
    "- **Sintaxis clara y legible:** Python se diseñó con un enfoque en la legibilidad del código, lo que facilita a los programadores escribir y entender el código. Esto ha contribuido a su popularidad, especialmente entre los principiantes.\n",
    "- **Interpretado e interactivo:** Python es un lenguaje interpretado, lo que significa que el código fuente se ejecuta directamente por un intérprete en lugar de ser compilado antes de la ejecución. Esto facilita la experimentación y el desarrollo interactivo.\n",
    "- **Tipado dinámico:** Python es de tipado dinámico, lo que significa que no es necesario declarar el tipo de una variable antes de usarla. El intérprete infiere el tipo de dato de cada variable durante la ejecución.\n",
    "- **Multiplataforma:** Python es compatible con múltiples plataformas, lo que significa que un programa escrito en Python puede ejecutarse en varios sistemas operativos sin modificaciones significativas.\n",
    "- **Bibliotecas estándar:** Python cuenta con una biblioteca estándar extensa que abarca desde operaciones básicas hasta módulos avanzados, facilitando el desarrollo de una amplia gama de aplicaciones sin la necesidad de código adicional.\n",
    "- **Orientado a objetos:** Python es un lenguaje de programación orientado a objetos, lo que significa que se basa en el concepto de objetos que pueden contener datos en forma de atributos y código en forma de métodos.\n",
    "- **Comunidad activa:** Python tiene una comunidad de desarrolladores activa y solidaria. Esta comunidad contribuye al desarrollo del lenguaje, crea bibliotecas y marcos de trabajo, y proporciona soporte a través de foros y otras plataformas.\n",
    "- **Amplio uso en diversos dominios:** Python se utiliza en una variedad de aplicaciones, como desarrollo web, análisis de datos, inteligencia artificial, aprendizaje automático, automatización de tareas, desarrollo de juegos, entre otros."
   ]
  },
  {
   "cell_type": "markdown",
   "metadata": {},
   "source": [
    "## 💻 <b>Elementos Básicos del Lenguaje</b>\n"
   ]
  },
  {
   "cell_type": "markdown",
   "metadata": {},
   "source": [
    "### 📰 <b>Comentarios</b>\n",
    "\n",
    "Los comentarios son sentencias que permiten explicar el código de un programa y, por tanto, hacer que este sea más legible para quien lo lee. Los comentarios son ignorados por el compilador o  intérprete del lenguaje; es decir, son instrucciones que la máquina no analiza ni ejecuta.\n",
    "\n",
    "Dependiendo del lenguaje, pueden existir dos tipos de comentarios:\n",
    "\n",
    "- **Comentarios de una línea:** que se utilizan para dar explicaciones cortas sobre una línea o bloque de código. En python, los comentarios de una lpunea usan el símbolo `#`, de manera que todo lo que sigue después de este símbolo, en la misma línea, es ignorado por el intérprete. A continuación, veamos un ejemplo con tres comentarios de una línea:\n",
    "\n",
    "```python\n",
    "# Esto es un comentario de una línea\n",
    "# Esto es otro comentario de una línea\n",
    "# Un comentario más. Recuerde que los comentarios se usan para explicar el código\n",
    "```\n",
    "- **Comentarios de varias líneas:** este tipo de comentarios inicia con tres comillas dobles o sencillas (`\"\"\"` o `'''`) y termina con tres comillas dobles o sencillas (`\"\"\"` o `'''`). Los que abarcan varias líenas se usan para describir o explicar de manera detallada el funcionamiento de grandes bloques de código. Un ejemplo de este tipo de comentarios es el siguiente:\n",
    "\n",
    "```python\n",
    "\"\"\" \n",
    "Esto es un comentario explicativo que cubre varias líneas.\n",
    "Este tipo de comentarios se usan para explicaciones largas de bloques de código. \n",
    "Es común usarlos para describir un programa, una clases, un método o general, grandes bloques de código\n",
    "\"\"\"\n",
    "```\n",
    "\n",
    "Veamos dos ejemplos sencillos de estos comentarios."
   ]
  },
  {
   "cell_type": "code",
   "execution_count": null,
   "metadata": {},
   "outputs": [],
   "source": [
    "# Esto es un comentario. En python la instrucción print muestra un mensajes de texto durante la ejecución del programa\n",
    "print(\"Hola Mundo!\")"
   ]
  },
  {
   "cell_type": "code",
   "execution_count": null,
   "metadata": {},
   "outputs": [],
   "source": [
    "# A continuación verás un comentario de múltiples líneas para la función saludar\n",
    "def saludar():\n",
    "\n",
    "    \"\"\"\n",
    "    Función saludar: esta función muestra en la pantalla la frase Hola Carlos!   \n",
    "    -----\n",
    "    Argumentos: no tiene\n",
    "    -----\n",
    "    Retorno: no tiene\n",
    "    \"\"\"    \n",
    "    print(\"Hola Carlos!\")\n",
    "    \n",
    "saludar() # Esta es la manera como usamos la función que acabamos de crear"
   ]
  },
  {
   "cell_type": "markdown",
   "metadata": {},
   "source": [
    "### 💾 <b>Variables</b>\n",
    "\n",
    "Una variable es un espacio en la memoria RAM en el que se almacena un dato y al que se accede usando un identificador (que es el nombre de la variable). El dato (o valor) que se guarda en una variable puede cambiar durante la ejecución el programa.\n",
    "\n",
    "Una particularidad de **Python es que es un lenguaje dinámicamente tipado**; es decir, el lenguaje determina por sí mismo cuál es el tipo de dato de una variable basándose en el valor que esta tiene. Esto permite al programador usar variables que no se han declarado previamente, lo que suele ser una ventaja contra lenguajes como Java, en los que es obligatorio declarar toda variable antes de usarla.\n",
    "\n",
    "Veamos el uso de algunas variables en Python:"
   ]
  },
  {
   "cell_type": "code",
   "execution_count": null,
   "metadata": {},
   "outputs": [],
   "source": [
    "# Este es un ejemplo de cómo usar variables en Python\n",
    "\n",
    "x = 3 # Aquí creamos una variable llamada x, la cual almacena el valor 3\n",
    "y = 4 # Ahora creamos una variable llamada y, la cual inicializada con el valor 4\n",
    "z = x + y # Note que en esta línea se crea la variable z, la cual almacena lasuma de los valores que hay en las variables x e y\n",
    "\n",
    "print(f\"El resultado de sumar {x} y {y} es {z}\") # Recuerde que print se usa para mostrar mensajes en la pantalla"
   ]
  },
  {
   "cell_type": "markdown",
   "metadata": {},
   "source": [
    "### 🗂️ <b>Reglas para Nombrar Variables:</b>\n",
    "\n",
    "El identificador de una variable puede ser tan corto, como `x` o `y`; sin embargo, las reglas de mejores prácticas en programación indican que las variables deben usar nombres descriptivos, tales como `edad`, `nombre` o `valor_total`. Estas son algunas reglas que se deben tener en cuenta en Python:\n",
    "\n",
    "- El nombre de una variable sólo puede comenzar con una letra o un guion bajo (`_`)\n",
    "- El nombre de una variable nunca puede comenzar con un número\n",
    "- El nombre de una variable sólo puede contener caracteres alfanuméricos y guiones bajos (A-z, 0-9 y _ )\n",
    "- El nombre de una variable NO puede contener espacios (👀)\n",
    "- Las variables en Python distinguen entre mayúsculas y minúsculas, es decir la variable `edad` ocupa un espacio diferente en la memoria que la variable `Edad` o que la variable `EDAD`, estas son tres variables diferentes.\n",
    "- Una variable en Python no puede tener el nombre de ninguna de las palabras reservada"
   ]
  },
  {
   "cell_type": "markdown",
   "metadata": {},
   "source": [
    "### 🗂️ <b>Tipos de Datos: </b>\n",
    "\n",
    "Toda variable tiene un tipo de dato asociado. En el ejemplo de antes, las variables `x`, `y` e `z` son de tipo entero (<span style=\"color:#E83E8C; font-family:Courier new\">int</span>). Como es habitual en todos los lenguajes de programación se cuenta con diferentes tipos de datos numéricos: enteros (<span style=\"color:#E83E8C; font-family:Courier new\">int</span>), reales (<span style=\"color:#E83E8C; font-family:Courier new\">float</span>) y complejos (<span style=\"color:#E83E8C; font-family:Courier new\">complex</span>). Además, está el tipo de dato Booleano (<span style=\"color:#E83E8C; font-family:Courier new\">bool</span>) y las cadenas de texto (<span style=\"color:#E83E8C; font-family:Courier new\">str</span>).\n",
    "\n",
    "\n",
    "\n",
    "| Tipo de dato | Tipo en Python | Descripción | Ejemplo |\n",
    "| :------- | :------------ | :----------- | :------- |\n",
    "| Numéricos  | int     | Almacena números enteros | `x = 5`\n",
    "|            | float   | Almacena números reales | `y = 9.8`\n",
    "|            | complex | Almacena números complejos | `z = 3i + 2`\n",
    "| Booleanos  | bool    | Almacena valores Booleanos | `p = True`\n",
    "| Cadenas    | str     | Almacena cadenas de texto | `cad = \"Esto es un texto\"`\n",
    "\n",
    "Este es un bloque de código que muestra algunos de los tipos anteriores:"
   ]
  },
  {
   "cell_type": "code",
   "execution_count": null,
   "metadata": {},
   "outputs": [],
   "source": [
    "# Esta es una variable que almacena una cadena de texto\n",
    "nombre = \"Carlos\"\n",
    "\n",
    "# Esta es una variable que almacena un número entero\n",
    "edad = 17\n",
    "\n",
    "# Esta es una variable que almacena un número real\n",
    "peso = 55.6\n",
    "\n",
    "# Esta es una variable que almacena un valor lógico \n",
    "tiene_cedula = False"
   ]
  },
  {
   "cell_type": "markdown",
   "metadata": {},
   "source": [
    "Si en algún momento necesita saber cuál es el tipo de dato de una variable, esto lo puede hacer usando la función `type()`, como se muestra a continuación:"
   ]
  },
  {
   "cell_type": "code",
   "execution_count": null,
   "metadata": {},
   "outputs": [],
   "source": [
    "# Esta instrucción muestra el tipo de dato de la variable nombre\n",
    "print(f\"El tipo de dato de la variable nombre es: {type(nombre)}\")\n",
    "\n",
    "# Esta instrucción muestra el tipo de dato de la variable edad\n",
    "print(f\"El tipo de dato de la variable edad es: {type(edad)}\")\n",
    "\n",
    "# Esta instrucción muestra el tipo de dato de la variable peso\n",
    "print(f\"El tipo de dato de la variable peso es: {type(peso)}\")\n",
    "\n",
    "# Esta instrucción muestra el tipo de dato de la variable tiene_cedula\n",
    "print(f\"El tipo de dato de la variable tinene_cedula es: {type(tiene_cedula)}\")"
   ]
  },
  {
   "cell_type": "markdown",
   "metadata": {},
   "source": [
    "## 🧮 <b>Operadores</b>:\n",
    "\n",
    "Los operadores son símbolos especiales que permiten realizar operaciones aritméticas o lógicos en un lenguaje de programación. Los operadores pueden actuar sobre variables, constantes o valores específicos, entodo caso a estos se les conoce como operandos. Se sugiere ampliar la información en el siguiente enlace https://www.geeksforgeeks.org/python-operators/.\n",
    "\n",
    "Veamos un ejemplo:"
   ]
  },
  {
   "cell_type": "code",
   "execution_count": null,
   "metadata": {},
   "outputs": [],
   "source": [
    "x = 2 + 5\n",
    "print(x)"
   ]
  },
  {
   "cell_type": "markdown",
   "metadata": {},
   "source": [
    "Aquí, el símbolo `+` es el operador que realiza la suma, mientras que `2` y `5` son los operandos. Por otro lado, `x` es una variable que almacena el resultado de la operación, que en este caso es `7`."
   ]
  },
  {
   "cell_type": "markdown",
   "metadata": {},
   "source": [
    "### 📥 Operador de Asignación:\n",
    "\n",
    "El operador de asignación, denotado en Python con el símbolo `=`, es un operador que permite almacenar un dato en una variable. "
   ]
  },
  {
   "cell_type": "code",
   "execution_count": null,
   "metadata": {},
   "outputs": [],
   "source": [
    "# Aquí se usa el operador de asignación (=), el cual almacena el valor 87 en la variable var\n",
    "var = 87"
   ]
  },
  {
   "cell_type": "markdown",
   "metadata": {},
   "source": [
    "A diferencias de muchos lenguajes de programación, Python nos permite asignar valores a múltiples variables en una misma línea:"
   ]
  },
  {
   "cell_type": "code",
   "execution_count": null,
   "metadata": {},
   "outputs": [],
   "source": [
    "# Aquí se asignan los valores 1, 2 y 3 a las variables x, y e z, respectivamente\n",
    "x, y, z = 1, 2, 3\n",
    "\n",
    "print(f\"x tienen el valor {x}\")\n",
    "print(f\"y tienen el valor {y}\")\n",
    "print(f\"z tienen el valor {z}\")\n"
   ]
  },
  {
   "cell_type": "markdown",
   "metadata": {},
   "source": [
    "En Python también es posible asignar un mismo valor a diferentes variables al tiempo:"
   ]
  },
  {
   "cell_type": "code",
   "execution_count": null,
   "metadata": {},
   "outputs": [],
   "source": [
    "# Se asigna a las tres variables el mismo valor\n",
    "color_1 = color_2 = color_3 = \"Blue\"\n",
    "\n",
    "print(f\"color_1 tienen el valor {color_1}\")\n",
    "print(f\"color_2 tienen el valor {color_2}\")\n",
    "print(f\"color_3 tienen el valor {color_3}\")"
   ]
  },
  {
   "cell_type": "markdown",
   "metadata": {},
   "source": [
    "###  🖨️ Operadores Aritméticos\n",
    "\n",
    "Los operadores aritméticos son los que nos permiten hacer cálculos en los programas usando sumas, restas, divisiones y multiplicaciones, entre otros. Los siguientes son los operadores aritméticos en Python.\n",
    "\n",
    "| Operador | Descripción      | Ejemplo    | Resultado |\n",
    "|:--------:|:-----------------|:-----------|:-----------|\n",
    "| `+`      | Suma             | 2 + 8      | 10 |\n",
    "| `-`      | Resta            | 10 - 25    |-15|\n",
    "| `*`      | Multiplicación   | 4 * 2      |8|\n",
    "| `/`      | División real    | 5 / 2      |2,5|\n",
    "| `//`     | División entera  | 7 // 3     | 2|\n",
    "| `%`      | Módulo (o residuo)| 9 % 6     | 3|\n",
    "| `**`     | Potencia         | 2 ** 4     | 16|\n",
    "\n",
    "\n",
    "\n",
    "Observe en el siguiente ejemplo el uso de los operadores aritméticos básicos en Python."
   ]
  },
  {
   "cell_type": "code",
   "execution_count": null,
   "metadata": {},
   "outputs": [],
   "source": [
    "# Este es un ejemplo para los operadores suma (+), resta (-), multiplicación (*) y división (/)\n",
    "\n",
    "# Se declaran dos variables, una entera y otra real\n",
    "x = 7\n",
    "y = 2.5\n",
    "print (f\"x = {x} \\ny = {y}\")\n",
    "\n",
    "# Suma\n",
    "z = x + y\n",
    "print (f\"Resultado de la suma: {z}\")\n",
    "\n",
    "# Resta\n",
    "z = x - y\n",
    "print (f\"Resultado de la resta: {z}\")\n",
    "\n",
    "# Multiplicación\n",
    "z = x * y\n",
    "print (f\"Resultado de la multiplicación: {z}\")\n",
    "\n",
    "# División REAL\n",
    "z = x / y\n",
    "print (f\"Resultado de la división: {z}\")"
   ]
  },
  {
   "cell_type": "code",
   "execution_count": null,
   "metadata": {},
   "outputs": [],
   "source": [
    "# Este es un ejemplo para los operadores del cociente (//),  módulo (%) y la potencia (^)\n",
    "\n",
    "# Declaramos dos variables enteras\n",
    "x = 7\n",
    "y = 2\n",
    "print (f\"x = {x} \\ny = {y}\")\n",
    "\n",
    "# DIV: el cociente de la división entera\n",
    "z = x // y\n",
    "print (f\"Resultado de la división ENTERA: {z}\")\n",
    "\n",
    "# Módulo: el residuo de la división entera\n",
    "z = x % y\n",
    "print (f\"Resultado del cociente: {z}\")\n",
    "\n",
    "# La potencia\n",
    "z = x ** y\n",
    "print (f\"Resultado de la potencia: {z}\")"
   ]
  },
  {
   "cell_type": "markdown",
   "metadata": {},
   "source": [
    "<div class=\"alert alert-block alert-danger\" style=\"border-radius: 10px; border: 1px solid #FF4D4D;\">📌 <b>Importante:</b> <span style=\"color:#000000;\"> Recuerde que existen dos formas diferentes de realizar una división, la división real (/) y la división entera(//).\n",
    "<br>- El <b>operador / </b> realiza una división real cuyo resultado es un número decimal. \n",
    "<br>- El <b>operador // </b> realiza la división entera cuyo resultado es el cociente de la división. Sin embargo, tenga cuidado con la división entera con números negativos, puesto que esta retorna una aproximación hacia abajo del cociente.\n",
    "    </span></div>"
   ]
  },
  {
   "cell_type": "code",
   "execution_count": null,
   "metadata": {},
   "outputs": [],
   "source": [
    "# División real\n",
    "print(7/2)\n",
    "print(-7/2)\n",
    "\n",
    "# División entera\n",
    "print(7//2)\n",
    "print(-7//2)"
   ]
  },
  {
   "cell_type": "markdown",
   "metadata": {},
   "source": [
    "### 🕹️ Operadores Lógicos\n",
    "\n",
    "Estos operadores tienen como entrada valores boolenaos y generan como resultado otro booleano. Estos son los operadores lógicos de Python.\n",
    "\n",
    "| Operador | Descripción                              | Ejemplo                     | Resultado |\n",
    "|:----------|:------------------------------------------|:-----------------------------|:-----------|\n",
    "| `and`    | Conjunción | `True and False`            | `False`   |\n",
    "| `or`     | Disyuncíon | `True or False`             | `True`    |\n",
    "| `not`    | Negación   | `not True`                  | `False`   |\n",
    "\n",
    "\n"
   ]
  },
  {
   "cell_type": "markdown",
   "metadata": {},
   "source": [
    "<div class=\"alert alert-block alert-danger\" style=\"border-radius: 10px; border: 1px solid #FF4D4D;\">📌 <b>Importante:</b> <span style=\"color:#000000;\"> Tenga presente que los valores booleanos en Python son <span style=\"color:blue; font-family:Courier new\"> True</span> (verdadero) y <span style=\"color:blue; font-family:Courier new\"> False</span> (falso). Note que inician en mayúscula.\n",
    "    </span></div>"
   ]
  },
  {
   "cell_type": "code",
   "execution_count": null,
   "metadata": {},
   "outputs": [],
   "source": [
    "# Se declaran dos variables booleanas\n",
    "p = True\n",
    "q = False\n",
    "print (f\"p = {p} \\nq = {q}\")\n",
    "\n",
    "# Conjunción - and\n",
    "r = p and q\n",
    "print (f\"El resultado del operador and es: {r}\")\n",
    "\n",
    "# Disyunción - or\n",
    "r = p or q\n",
    "print (f\"El resultado del operador or es: {r}\")\n",
    "\n",
    "# Negación - not\n",
    "r = not p\n",
    "print (f\"El resultado del operador not en p es: {r}\")\n"
   ]
  },
  {
   "cell_type": "markdown",
   "metadata": {},
   "source": [
    "### 🛸 Operadores Relacionales\n",
    "\n",
    "Este tipo de operadores nos permiten comprar variables, valores y constantes entre sí. Todos los operadores relacionales devuelven como resultado un valor booleano. La siguiente es la tabla de los operadores relacionales en Python.\n",
    "\n",
    "| Operador | Descripción                              | Ejemplo                     | Resultado |\n",
    "|:----------|:------------------------------------------|:-----------------------------|:-----------|\n",
    "| `==`     | Igual a | `5 == 5`                   | `True`    |\n",
    "| `!=`     | Diferente de| `5 != 3`                   | `True`    |\n",
    "| `>`      | Mayor que | `5 > 3` | `True`    |\n",
    "| `<`      | Menor que | `3 < 5` | `True`    |\n",
    "| `>=`     | Mayor o igual que  | `5 >= 5` | `True`    |\n",
    "| `<=`     | Menor o igual que  | `3 <= 5` | `True`    |\n"
   ]
  },
  {
   "cell_type": "code",
   "execution_count": null,
   "metadata": {},
   "outputs": [],
   "source": [
    "# Se declaran dos variables enteras\n",
    "x = 10 \n",
    "y = 5\n",
    "print (f\"x = {x} \\ny = {y}\")\n",
    "\n",
    "\n",
    "# Uso de los operadores relacionales entre números enteros\n",
    "p = (x == y)\n",
    "print(f\"¿Es {x} igual a {y}? : {p}\")\n",
    "\n",
    "p = (x != y)\n",
    "print(f\"¿Es {x} diferente de {y}? : {p}\")\n",
    "\n",
    "p = (x < y)\n",
    "print(f\"¿Es {x} menor que {y}? : {p}\")\n",
    "\n",
    "\n",
    "p = (x > y)\n",
    "print(f\"¿Es {x} mayor que {y}? : {p}\")\n",
    "\n",
    "p = (x <= y)\n",
    "print(f\"¿Es {x} menor o igual a {y}? : {p}\")\n",
    "\n",
    "p = (x >= y)\n",
    "print(f\"¿Es {x} mayor o igual a {y}? : {p}\")\n"
   ]
  },
  {
   "cell_type": "markdown",
   "metadata": {},
   "source": [
    "### 📤 Operadores de Entrada y Salida\n",
    "\n",
    "Estos operadores nos permiten interactuar con el usuario que está usando el programa; es decir, estos son los operadores que nos permiten mostrar datos y pedir datos al usuario. Estos operadores son `print()` el cuál como hemos visto muestra datos en la pantalla e `input()` el cual nos permite pedirle un valor al usuario. Veamos cómo usarlos."
   ]
  },
  {
   "cell_type": "code",
   "execution_count": null,
   "metadata": {},
   "outputs": [],
   "source": [
    "# Este ejemplo pide el nombre, la edad y el peso de una persona y los muestra en pantalla\n",
    "\n",
    "# Para solicitar al usuario un texto se usa input()\n",
    "nombre = input(\"Escribe tu nombre: \")\n",
    "\n",
    "# Para solicitar al usuario un número entero se usa int(input())\n",
    "edad = int(input(\"Ingresa tu edad: \")) \n",
    "\n",
    "# Para solicitar al usuario un número real se usa float(input())\n",
    "peso = float(input(\"Ahora ingresa tu peso en Kg: \"))\n",
    "\n",
    "# Mostramos los datos que ingresó el usuario\n",
    "print(\"\\n\\n-----\")\n",
    "print(f\"Tu nombre es {nombre}\")\n",
    "print(f\"Tienes {edad} años\")\n",
    "print(f\"Indicaste que pesas {peso} Kg.\")"
   ]
  },
  {
   "cell_type": "markdown",
   "metadata": {},
   "source": [
    "## 🧰 <b>Funciones en Python</b>\n",
    "\n",
    "En Python, una función es un bloque de código reutilizable que realiza una tarea específica. En P.O.O, las funciones son las que determinan el comportamiento de los objetos, es decir, son los métodos de la clase. Cuando se definen funciones en un programa, este se divide en bloques más pequeños y manejables, lo que facilita la comprensión, la depuración y el mantenimiento del código.\n",
    "\n",
    "Las funciones en Python se definen usando la palabra clave `def`, seguida del nombre de la función y a continuación, entre paréntesis, una lista de parámetros, si los hay. El cuerpo de la función se escribe **indentado** y contiene el código que se ejecutará cuando se llame a la función.\n",
    "\n",
    "Veamos un ejemplo, construyamos una función que salude a una persona cuyo nombre ingresa como parámetro a la función."
   ]
  },
  {
   "cell_type": "code",
   "execution_count": null,
   "metadata": {},
   "outputs": [],
   "source": [
    "# Aquí creamos una función que permite saludar a una persona por su nombre\n",
    "\n",
    "def saludar(nombre):\n",
    "    print(f\"¡Hola {nombre}!\")"
   ]
  },
  {
   "cell_type": "markdown",
   "metadata": {},
   "source": [
    "En Python, para utilizar una función, simplemente la llamamos (o invocamos) por su nombre poniendo entre paréntesis los valores que enviaremos en los parámetros, si es que los tiene. Por ejemplo, para saludar a Juan, invocamos la función anterior así: "
   ]
  },
  {
   "cell_type": "code",
   "execution_count": null,
   "metadata": {},
   "outputs": [],
   "source": [
    "saludar(\"Juan\")"
   ]
  },
  {
   "cell_type": "markdown",
   "metadata": {},
   "source": [
    "<div class=\"alert alert-block alert-danger\" style=\"border-radius: 10px; border: 1px solid #FF4D4D;\">📌 <b>Importante:</b> <span style=\"color:#000000;\"> Los parámetros de una función son variables que se definen en la declaración de la función y que reciben valores cuando se llama a la función. Veamos otro ejemplo, creemos una función que nos <b>retorne</b>  la suma dos números.\n",
    "    </span></div>\n",
    "    "
   ]
  },
  {
   "cell_type": "code",
   "execution_count": null,
   "metadata": {},
   "outputs": [],
   "source": [
    "# Esta función suma dos números dados\n",
    "def sumar(a, b):\n",
    "    c = a + b\n",
    "    return c    "
   ]
  },
  {
   "cell_type": "code",
   "execution_count": null,
   "metadata": {},
   "outputs": [],
   "source": [
    "# Vamos a usar la función pidiendo dos valores al usuario y mostrando en pantalla el resultado de la suma\n",
    "\n",
    "# Se piden los dos números a sumar\n",
    "n1 = float(input(\"Ingrese un número: \"))\n",
    "n2 = float(input(\"Ingrese otro número: \"))\n",
    "\n",
    "# Se usa la función sumar para sumar los números\n",
    "resultado = sumar(n1, n2)\n",
    "\n",
    "# Se muestra el resultado en la pantalla\n",
    "print(f\"La suma de {n1} y {n2} es {resultado}\")"
   ]
  },
  {
   "cell_type": "markdown",
   "metadata": {},
   "source": [
    "# <b>Ejercicios de Algoritmos Secuenciales</b>\n",
    "\n",
    "Ahora vamos a resolver algunos problemas que requieren la implementación de algoritmos secuenciales en Python. Recuerde que antes de programar la solución se debe hacer el análisis del problema, es decir, identifique los requerimientos, las entradas, las salidas y el defina proceso para transformar las entradas en salidas."
   ]
  },
  {
   "cell_type": "markdown",
   "metadata": {},
   "source": [
    "## <b>Ejercicio 1 - A Precio de Huevo</b> 🐣\n",
    "\n",
    "La empresa **Huevos a Precio de Huevo** comercializa 4 tipos de huevos: A, AA, AAA y Jumbo. El precio de cada tipo de huevo está definido sobre el valor de los huevos tipo AA. Haga un algoritmo que pida el valor de un huevo tipo AA y con base en este indique el precio de los otros tipos de huevo teniendo en cuenta las siguientes reglas:\n",
    "- Los huevos tipo A cuestan la raíz cuadrada del precio de un huevo AA, multiplicado por 10,  más el resultado de multiplicar 3 por el módulo entre el precio de un huevo AA y 100.\n",
    "- El precio de los huevos AAA equivale al de un huevo AA más la raíz tercera del precio de un huevo tipo A, más un cuarto del valor de un huevo AA, sumado con el resultado de la división entera entre el valor del huevo AA con 10.\n",
    "- El precio de un huevo Jumbo equivale al precio de un huevo AAA más la raíz cuarta de un huevo AA elevado a la potencia 2. Al resultado se le suma un quinto del valor de un huevo A."
   ]
  },
  {
   "cell_type": "markdown",
   "metadata": {},
   "source": [
    "### Análisis del Problema\n",
    "- 📝 **Requerimientos:**\n",
    "  * Escriba aquí el requerimiento\n",
    "    \n",
    "- 📥 **Entradas:**\n",
    "  * Liste aquí las entradas\n",
    "    \n",
    "- 📤 **Salidas:**\n",
    "  * Liste aquí las salidas\n",
    "\n",
    "- ⚙️ **Proceso:**\n",
    "   * Escriba el paso a paso del proceso aquí\n",
    "  \n",
    " ### Desarrollo de la Solución\n",
    " En la siguiente celda implemente la solución al problema"
   ]
  },
  {
   "cell_type": "code",
   "execution_count": null,
   "metadata": {},
   "outputs": [],
   "source": [
    "# CODIFIQUE SU SOLUCIÓN AQUÍ"
   ]
  },
  {
   "cell_type": "markdown",
   "metadata": {},
   "source": [
    "## <b>Ejercicio 2 - Transformar Grados Fahrenheit  a Celsius</b> 🌡️\n",
    "\n",
    "El desarrollador senior con el que usted trabaja le ha pedido que desarrolle una función que dada una temperatura en grados Fahrenheit, la transforme a grados Celsius."
   ]
  },
  {
   "cell_type": "markdown",
   "metadata": {},
   "source": [
    "### Análisis del Problema\n",
    "- 📝 **Requerimientos:**\n",
    "  * Escriba aquí el requerimiento\n",
    "    \n",
    "- 📥 **Entradas:**\n",
    "  * Liste aquí las entradas\n",
    "    \n",
    "- 📤 **Salidas:**\n",
    "  * Liste aquí las salidas\n",
    "  \n",
    "- ⚙️ **Proceso:**\n",
    "   * °C = 5/9 x (°F − 32)\n",
    "   \n",
    "### Desarrollo de la Solución\n",
    " En la siguiente celda implemente la solución al problema"
   ]
  },
  {
   "cell_type": "code",
   "execution_count": null,
   "metadata": {},
   "outputs": [],
   "source": [
    "def transform_F_to_C(f):\n",
    "    c = 0\n",
    "\n",
    "    # CODIFIQUE SU SOLUCIÓN AQUÍ\n",
    "    \n",
    "    return c"
   ]
  },
  {
   "cell_type": "code",
   "execution_count": null,
   "metadata": {},
   "outputs": [],
   "source": [
    "# Probamos la función\n",
    "f = float(input(\"Ingrese los °F a convertir: \"))\n",
    "c = transform_F_to_C(f)\n",
    "print (f\"{f}°F equivalen a {c}°C\")"
   ]
  }
 ],
 "metadata": {
  "kernelspec": {
   "display_name": "Python 3 (ipykernel)",
   "language": "python",
   "name": "python3"
  },
  "language_info": {
   "codemirror_mode": {
    "name": "ipython",
    "version": 3
   },
   "file_extension": ".py",
   "mimetype": "text/x-python",
   "name": "python",
   "nbconvert_exporter": "python",
   "pygments_lexer": "ipython3",
   "version": "3.11.5"
  }
 },
 "nbformat": 4,
 "nbformat_minor": 4
}
