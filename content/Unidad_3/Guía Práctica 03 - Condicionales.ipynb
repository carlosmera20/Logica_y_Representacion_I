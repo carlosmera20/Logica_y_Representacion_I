{
 "cells": [
  {
   "cell_type": "markdown",
   "metadata": {},
   "source": [
    "<img src=\"https://raw.githubusercontent.com/carlosmera20/Logica_y_Representacion_I/main/content/local/imgs/encabezado.png\">\n",
    "\n",
    "<font size=4>\n",
    "📢 <b>Profesor:</b> Carlos Andres Mera Banguero - <a href=\"https://github.com/carlosmera20/\">https://github.com/carlosmera20/</a><br/>\n",
    "💻 <b>Programa:</b> Ingeniería de Sistemas <br/><br/>\n",
    "</font>"
   ]
  },
  {
   "cell_type": "markdown",
   "metadata": {},
   "source": [
    "# <b>Estructuras de Control Selectivas</b>\n",
    "\n",
    "## 🚀 <b>Objetivo</b>\n",
    "\n",
    "\n",
    "Introducir las estructuras de control selectivas para que el estudiante pueda crear programas que tomen decisiones.\n",
    "\n"
   ]
  },
  {
   "cell_type": "markdown",
   "metadata": {},
   "source": [
    "## 🕵️ <b>Estruturas de Control</b>\n",
    "\n",
    "Las estructuras de control nos permiten cambiar el flujo de ejecución de un programa haciendo que ciertos bloques de código se ejecuten sólo cuando se presentan ciertas condiciones particulares. Existen dos tipos de estructuras de control:\n",
    "- Las **Estructuras de Control Selectivas**, las cuales determinan si ciertas partes del código deben ejecutarse o no, según si se cumple o no una condición específica.\n",
    "- Las **Estructuras de Control Repetitivas**, las cuales permiten repetir un bloque de código mientras que una condición determina se cumpla.\n",
    "\n",
    "En este bloc de trabajo nos centramos en las estructuras de control selectivas. Si quieres profundizar en el tema consulta la siguiente URL: https://www.w3schools.com/python/python_conditions.asp"
   ]
  },
  {
   "cell_type": "markdown",
   "metadata": {},
   "source": [
    "## 🚦 <b>Estructuras de Control Selectivas</b>\n",
    "Las estructuras condicionales son componentes fundamentales en la programación que permiten a los programas tomar decisiones y ejecutar diferentes acciones según ciertas condiciones específicas. Estas estructuras son esenciales para controlar el flujo de un programa y para crear lógica condicional que responda de manera adecuada a diversas situaciones.\n",
    "\n",
    "\n",
    "### 🖥️ <b>Condicionales Simples</b>\n",
    "\n",
    "Para crear un condicional simple se usa la instrucción `if`, la cual permite ejecutar un bloque de código sólo si la condición de la sentencia es verdadera. La sintaxis del condicional simple en Python es la siguiente: \n",
    "\n",
    "```python\n",
    "if <condicion>:\n",
    "    # Código a ejecutar si la condición es verdadera\n",
    "    <Instrucción_1>\n",
    "    <Instrucción_2>\n",
    "    ...\n",
    "```\n",
    "\n",
    "En esta instrucción la `<condición>` debe ser una expresión Booleana, la cual después de evaluarse será verdadera o falsa. Si el valor de la condición es verdadero se ejecutará el bloque de instrucciones que está en el alcance del condicional; de lo contrario, se salta dicho bloque de instrucciones. Por ejemplo, el siguiente condicional muestra un mensaje, pero sólo cuando la condición se hace `True`. Experimente cambiando los valores de las variables `a` y `b`:"
   ]
  },
  {
   "cell_type": "code",
   "execution_count": null,
   "metadata": {},
   "outputs": [],
   "source": [
    "# Ejemplo de un condicional simple\n",
    "a = 93\n",
    "b = 27\n",
    "if (a > b):\n",
    "    print(f\"{a} es mayor que {b}\")"
   ]
  },
  {
   "cell_type": "markdown",
   "metadata": {},
   "source": [
    " <div class=\"alert alert-block alert-danger\" style=\"border-radius: 10px; border: 1px solid #B71C1C;\">📌 <b>Importante:</b> <span style=\"color:#000000;\"> en Python, los bloques de código se identifican por la <b>identación</b>. Es por eso que las instrucciones que hacen parte del condicional son las que están identadas con una sangria a la derecha, respecto al encabezado del condicional. Analice el siguiente código: </span>\n",
    "</div>"
   ]
  },
  {
   "cell_type": "code",
   "execution_count": null,
   "metadata": {},
   "outputs": [],
   "source": [
    "# La identación define los bloques de código en Python\n",
    "a = 1\n",
    "b = 1\n",
    "if (a != b):\n",
    "    print(f\"{a} es difrente de {b}\")\n",
    "    print(f\"Esta instrucción está dentro del condicional :D\")\n",
    "print(f\"Esta instrucción está por fuera del condicional xD\")"
   ]
  },
  {
   "cell_type": "markdown",
   "metadata": {},
   "source": [
    "En este ejemplo, el tercer `print` está por fuera del alacance de la condición. La identación nos muestra que pertenece a otro bloque de código y, por tanto, es independiente del condicional. Como esa instrucción está fuera del condicional siempre se muestra, independiente de si la condición es verdadera o falsa."
   ]
  },
  {
   "cell_type": "markdown",
   "metadata": {},
   "source": [
    "### 🖥️ <b>Condicionales Dobles</b>\n",
    "\n",
    "¿Qué ocurre si también se requiere que el programa ejecute un fragmento de código cuando la condición es Falsa?. A diferencia del condicional simple, el **condicional doble** tiene dos caminos de acción: uno cuando la condición es verdadera y otro cuando la condición es falsa. La sintaxis del condicional doble en Python es la siguiente:\n",
    "\n",
    "```python\n",
    "if (<condicion>):\n",
    "    # Código a ejecutar si\n",
    "    # la condición es verdadera\n",
    "else:\n",
    "    # Código a ejecutar si\n",
    "    # la condición es falsa\n",
    "```\n",
    "\n",
    "Veamos un ejemplo de este tipo de condicional:"
   ]
  },
  {
   "cell_type": "code",
   "execution_count": null,
   "metadata": {},
   "outputs": [],
   "source": [
    "# Ejemplo de un condicional doble\n",
    "i = 32\n",
    "\n",
    "if (i < 20): \n",
    "    print(\"i es menor que 20\") \n",
    "    print(\"Esta instrucción está en el if\")\n",
    "else: \n",
    "    print(\"i es mayor que 20\") \n",
    "    print(\"Esta instrucción está en el else\") \n",
    "    \n",
    "print(\"Esta instrucción no pertenece al condicional y es independiente de él\")"
   ]
  },
  {
   "cell_type": "markdown",
   "metadata": {},
   "source": [
    "Veamos ahora un ejemplo que pide dos números al usuario e indica cual es el mayor de los dos."
   ]
  },
  {
   "cell_type": "code",
   "execution_count": null,
   "metadata": {},
   "outputs": [],
   "source": [
    "# Ejemplo de un condicional doble\n",
    "a = float(input(\"Ingrese un número: \"))\n",
    "b = float(input(\"Ingrese otro número: \"))\n",
    "\n",
    "# Usamos un condiconal para comparar los números ingresados\n",
    "if (a > b):\n",
    "    print(f\"{a} es mayor que {b}\")\n",
    "else:\n",
    "    print(f\"{b} es mayor o igual que {a}\")"
   ]
  },
  {
   "cell_type": "markdown",
   "metadata": {},
   "source": [
    "### 🖥️ <b>Condicionales Anidados</b>\n",
    "\n",
    "Un condicional anidado es un condicional que está contenido en alguna de las ramas de otro condicional. Es decir, se pueden anidar condicionales dentro de las instrucciones `if`, `elif` y `else`, lo que permite crear programas con lógicas de decisión complejas. Recuerde cada bloque de un condicional debe estar indentado a la derecha con una sangría respecto a declaración. Esta es la sintaxis de un condicional anidado en el if de otro condicional:\n",
    "\n",
    "```python\n",
    "if (<condicion_1>):\n",
    "    \n",
    "    if (<condicion_2>):\n",
    "        # Código a ejecutarse si \n",
    "        # la condición_1 es verdadera y la condición_2 es también verdadera\n",
    "    else:\n",
    "        # Código a ejecutarse si \n",
    "        # la condición_1 es verdadera y la condición_2 es falsa\n",
    "    \n",
    "    # Este bloque se ejecuta también cuando la condición_1 es verdadera, pero\n",
    "    # es completamente independiente de la condición_2\n",
    "    \n",
    "else:\n",
    "    \n",
    "    # Código a ejecutarse si la condición_1 es falsa. \n",
    "    # La ejecucuín de este bloque de código sólo depende de la condición_1\n",
    "```\n",
    "\n",
    "Veamos un ejemplo de este tipo de condicionales."
   ]
  },
  {
   "cell_type": "code",
   "execution_count": null,
   "metadata": {},
   "outputs": [],
   "source": [
    "# Ejemplo de condicionales anidados\n",
    "\n",
    "i = 10\n",
    "\n",
    "if (i == 10): \n",
    "    \n",
    "    if (i < 15): \n",
    "        print(f\"{i} es menor que 15\") \n",
    "          \n",
    "    if (i < 12): \n",
    "        print(f\"{i} también es menor que 12\") \n",
    "    else: \n",
    "        print(f\"{i} no es menor a 12\")\n",
    "else:\n",
    "    print(f\"{i} no es igual a 10\")"
   ]
  },
  {
   "cell_type": "markdown",
   "metadata": {},
   "source": [
    "También buede haber condicionales anidados en el else de un condicional, como por ejemplo,\n",
    "\n",
    "```python\n",
    "if (<condicion_1>):\n",
    "    # Este bloque se ejecuta cuando\n",
    "    # la condición_1 es verdadera\n",
    "else:\n",
    "    if (<condicion_2>):\n",
    "        # Este código se ejecuta si \n",
    "        # la condición_1 es falsa y la condición_2 es verdadera\n",
    "    else:\n",
    "        # Este código se ejecuta si \n",
    "        # la condición_1 es falsa y la condición_2 también es falsa\n",
    "    \n",
    "    # Este bloque de código se ejecuta si la condición_1 es falsa\n",
    "    # y es independiente de la condición_2\n",
    "```\n",
    "\n",
    "A pesar de que esa es la forma normal de ver este tipo de condiconlaes anidados en la mayoría de lenguajes de programación, Python tiene una forma de simplificarlos con la instrucción `elif`:\n",
    "\n",
    "```python\n",
    "if (<condicion_1>):\n",
    "    # Este bloque se ejecuta cuando\n",
    "    # la condición_1 es verdadera\n",
    "elif (<condicion_2>):\n",
    "    # Este código se ejecuta si \n",
    "    # la condición_1 es falsa y la condición_2 es verdadera\n",
    "else:\n",
    "    # Este código se ejecuta si \n",
    "    # la condición_1 es falsa y la condición_2 también es falsa   \n",
    "```\n",
    "\n",
    "¿Nota cuál es la diferencia entre ambas formas de condicionales anidados?. Dado que Pythn no tiene **Condicionales Múltiples** estos se emulan usando la instrucción `elif`."
   ]
  },
  {
   "cell_type": "code",
   "execution_count": null,
   "metadata": {},
   "outputs": [],
   "source": [
    "# Ejemplo de condicional anidado usando la instrucción if-else\n",
    "print(\"Seleccione una opción del menú:\\n  1. Opción 1\\n  2. Opción 2\\n  3. Opción 3\")\n",
    "i = int(input(\"Selección: \"))\n",
    "\n",
    "if (i == 1): \n",
    "    print(\"Seleccionó la opcion 1\") \n",
    "else:\n",
    "    if (i == 2): \n",
    "        print(\"Seleccionó la opcion 2\") \n",
    "    else:\n",
    "        if (i == 3): \n",
    "            print(\"Seleccionó la opcion 3\")\n",
    "        else: \n",
    "            print(\"La opción que seleccionó no está disponible\") "
   ]
  },
  {
   "cell_type": "code",
   "execution_count": null,
   "metadata": {},
   "outputs": [],
   "source": [
    "# Ejemplo de condicional anidado usando la instrucción elif\n",
    "print(\"Seleccione una opción del menú:\\n  1. Opción 1\\n  2. Opción 2\\n  3. Opción 3\")\n",
    "i = int(input(\"Selección: \"))\n",
    "\n",
    "if (i == 1): \n",
    "    print(\"Seleccionó la opcion 1\") \n",
    "elif (i == 2): \n",
    "    print(\"Seleccionó la opcion 2\") \n",
    "elif (i == 3): \n",
    "    print(\"Seleccionó la opcion 3\")\n",
    "else: \n",
    "    print(\"La opción que seleccionó no está disponible\") "
   ]
  },
  {
   "cell_type": "markdown",
   "metadata": {},
   "source": [
    "Miremos otro ejemplo usando condicionales anidados con elif:"
   ]
  },
  {
   "cell_type": "code",
   "execution_count": null,
   "metadata": {},
   "outputs": [],
   "source": [
    "a = 16\n",
    "b = 25\n",
    "c = 27\n",
    "if a > b:\n",
    "    if b > c:\n",
    "        print (f\"{a} es mayor que {b} y {b} es mayor que {c}\")\n",
    "    else: \n",
    "        print (f\"{a} es mayor que {b} y menor que {c}\")\n",
    "elif a == b:\n",
    "    print (f\"{a} es igual que {b}\")\n",
    "else:\n",
    "    print (f\"{a} es menor que {b}\")"
   ]
  },
  {
   "cell_type": "markdown",
   "metadata": {},
   "source": [
    "# <b>Ejercicios</b>\n",
    "\n",
    "Ahora vamos a resolver algunos problemas que requieren la implementación de algoritmos con condicionales en Python. Recuerde realizar el análisis del problema identificando los requerimientos, las entidades del mundo del problema, además de detallar las entradas, salidas y el proceso de cada requerimiento."
   ]
  },
  {
   "cell_type": "markdown",
   "metadata": {},
   "source": [
    "## <b>Ejercicio 1 - Verificación de Votante </b> 👍\n",
    "\n",
    "La registraduria local requiere una pequeña aplicación que pida a una persona su nombre y su fecha de nacimiento en el formato aaaa-mm-dd. Una vez ingresados los datos, la aplicación debe indicarle a la persona si tiene la edad para votar o no."
   ]
  },
  {
   "cell_type": "markdown",
   "metadata": {},
   "source": [
    "### Análisis del Problema\n",
    "- 📝 **Requerimientos:**\n",
    "  * Liste los requerimientos aquí\n",
    "\n",
    "- 💾 **Entidades del mundo del problema:**\n",
    "  * Liste las entidades del mundo con sus atributos aquí\n",
    "\n",
    "- **Detalle de los requerimientos**\n",
    "  * _**Requerimiento R1 - NOMBREL DEL REQUERIMIENTO**_\n",
    "    - 📥 _Entradas:_ liste las entradas aquí\n",
    "    - 📤 _Salidas:_ liste las salidas aquí\n",
    "    - ⚙️ _Proceso:_ detalle el proceso aquí\n",
    " "
   ]
  },
  {
   "cell_type": "markdown",
   "metadata": {},
   "source": [
    "<div class=\"alert alert-block alert-danger\" style=\"border-radius: 10px; border: 1px solid #B71C1C;\">📌 <b>Importante:</b> <span style=\"color:#000000;\"> como en este ejercicio necesitamos manipular fechas, debemos hacer uso de una librería externa. Esa librería es <b>datetime</b> y específicamente vamos a usar las clase <b>date</b>, para realizar operaciones sobre fechas y la clase <b>timedelta</b> que es una clase auxiliar para convertír días a años.</span></div>"
   ]
  },
  {
   "cell_type": "markdown",
   "metadata": {},
   "source": [
    "  \n",
    " ### Desarrollo de la Solución\n",
    " \n",
    " "
   ]
  },
  {
   "cell_type": "code",
   "execution_count": null,
   "metadata": {},
   "outputs": [],
   "source": [
    "\n",
    "# CODIFIQUE SU SOLUCIÓN AQUÍ\n",
    "        "
   ]
  },
  {
   "cell_type": "markdown",
   "metadata": {},
   "source": [
    "## <b>Ejercicio 2 - Bonificación Empleados </b> 💰\n",
    "\n",
    "**“Grandes Nano-Partículas”** es una pequeña empresa que por las ganancias obtenidas en el primer semestre del año ha considerado dar una bonificación a sus empleados con base en algunas condiciones muy particulares. De acuerdo con el gerente de la empresa, el cálculo del valor de la bonificación se hará con base en: la edad, sexo (1. Hombre, 2 mujer), el nivel de su cargo (A. Directivo, B. Gerencial, C. Operativo), la zona geográfica en la que trabaja el empleado (1. Europa, 2 Asia, 3. América del Norte, 4. América Central, 5. América del sur, 6. África) y su salario en dólares. Las reglas que se han definido para la bonificación son las siguientes:\n",
    "- Si el empleado es una mujer, con una edad entre 35 y 45 años, de las zonas de Europa o América, con un salario inferior a US 2500; su bonificación será del 25% del salario.\n",
    "- Si el empleado es un hombre con nivel de cargo gerencial u perativo y es de las zonas de Asia o África; la bonificación que recibirá es del 20% de su salario.\n",
    "- Si es una mujer de nivel de cargo directivo de América Central, su bonificación será del 18% del salario\n",
    "- Si es un hombre entre 40 y 55 años, con un salario por encima de US 3000, su bonificación será del 16% del salario.\n",
    "- Si el empleado no cumple con alguna de las condiciones antes planteadas su bonificación será del 15% del salario."
   ]
  },
  {
   "cell_type": "markdown",
   "metadata": {},
   "source": [
    "### Análisis del Problema\n",
    "- 📝 **Requerimientos:**\n",
    "  * Liste los requerimientos aquí\n",
    "\n",
    "- 💾 **Entidades del mundo del problema:**\n",
    "  * Liste las entidades del mundo con sus atributos aquí\n",
    "\n",
    "- **Detalle de los requerimientos**\n",
    "  * _**Requerimiento R1 - NOMBREL DEL REQUERIMIENTO**_\n",
    "    - 📥 _Entradas:_ liste las entradas aquí\n",
    "    - 📤 _Salidas:_ liste las salidas aquí\n",
    "    - ⚙️ _Proceso:_ detalle el proceso aquí\n",
    " \n",
    " ### Desarrollo de la Solución"
   ]
  },
  {
   "cell_type": "code",
   "execution_count": null,
   "metadata": {},
   "outputs": [],
   "source": [
    "\n",
    "# CODIFIQUE SU SOLUCIÓN AQUÍ\n",
    "    "
   ]
  }
 ],
 "metadata": {
  "kernelspec": {
   "display_name": "Python 3 (ipykernel)",
   "language": "python",
   "name": "python3"
  },
  "language_info": {
   "codemirror_mode": {
    "name": "ipython",
    "version": 3
   },
   "file_extension": ".py",
   "mimetype": "text/x-python",
   "name": "python",
   "nbconvert_exporter": "python",
   "pygments_lexer": "ipython3",
   "version": "3.11.5"
  }
 },
 "nbformat": 4,
 "nbformat_minor": 4
}
